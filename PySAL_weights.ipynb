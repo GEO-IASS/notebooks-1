{
 "metadata": {
  "name": "PySAL_weights"
 },
 "nbformat": 3,
 "nbformat_minor": 0,
 "worksheets": [
  {
   "cells": [
    {
     "cell_type": "markdown",
     "metadata": {},
     "source": [
      "# Contributors to this notebook\n",
      "\n",
      "* Daniel Arribas-Bel [@darribas](http://twitter.com/darribas)"
     ]
    },
    {
     "cell_type": "code",
     "collapsed": false,
     "input": [
      "import pysal as ps\n",
      "import numpy as np\n",
      "import pandas as pd"
     ],
     "language": "python",
     "metadata": {},
     "outputs": [],
     "prompt_number": 148
    },
    {
     "cell_type": "heading",
     "level": 1,
     "metadata": {},
     "source": [
      "Regular Lattice Weights "
     ]
    },
    {
     "cell_type": "markdown",
     "metadata": {},
     "source": [
      "The geography we are working with now is a simple lattice:"
     ]
    },
    {
     "cell_type": "code",
     "collapsed": false,
     "input": [
      "xs = np.array(range(5) * 5).flatten()\n",
      "ys = np.array([[i] * 5 for i in range(5)]).flatten()\n",
      "f = figure()\n",
      "ax = f.add_subplot(111)\n",
      "scatter(xs, ys, marker='', color='k')\n",
      "for i in range(5):\n",
      "    axvline(i+0.5, color='k')\n",
      "    axhline(i+0.5, color='k')\n",
      "ax.axes.get_yaxis().set_visible(False)\n",
      "ax.axes.get_xaxis().set_visible(False)\n",
      "ax.set_xlim((-0.5, 4.5))\n",
      "ax.set_ylim((-0.5, 4.5))\n",
      "for i in range(25):\n",
      "    text(xs[i], ys[i], str(i))\n",
      "title(\"Observations\")"
     ],
     "language": "python",
     "metadata": {},
     "outputs": [
      {
       "output_type": "pyout",
       "prompt_number": 149,
       "text": [
        "<matplotlib.text.Text at 0x56b6150>"
       ]
      },
      {
       "output_type": "display_data",
       "png": "[encoded data removed]"
      }
     ],
     "prompt_number": 149
    },
    {
     "cell_type": "markdown",
     "metadata": {},
     "source": [
      "## Rook contiguity\n",
      "\n",
      "To build a simple *rook* contiguity:"
     ]
    },
    {
     "cell_type": "code",
     "collapsed": false,
     "input": [
      "w = ps.lat2W(5, 5)"
     ],
     "language": "python",
     "metadata": {},
     "outputs": [],
     "prompt_number": 150
    },
    {
     "cell_type": "code",
     "collapsed": false,
     "input": [
      "w?"
     ],
     "language": "python",
     "metadata": {},
     "outputs": [],
     "prompt_number": 151
    },
    {
     "cell_type": "markdown",
     "metadata": {},
     "source": [
      "`W` objects in `PySAL` have many attributes:"
     ]
    },
    {
     "cell_type": "code",
     "collapsed": false,
     "input": [
      "w.n"
     ],
     "language": "python",
     "metadata": {},
     "outputs": [
      {
       "output_type": "pyout",
       "prompt_number": 152,
       "text": [
        "25"
       ]
      }
     ],
     "prompt_number": 152
    },
    {
     "cell_type": "code",
     "collapsed": false,
     "input": [
      "w.neighbors"
     ],
     "language": "python",
     "metadata": {},
     "outputs": [
      {
       "output_type": "pyout",
       "prompt_number": 153,
       "text": [
        "{0: [5, 1],\n",
        " 1: [0, 6, 2],\n",
        " 2: [1, 7, 3],\n",
        " 3: [2, 8, 4],\n",
        " 4: [3, 9],\n",
        " 5: [0, 10, 6],\n",
        " 6: [1, 5, 11, 7],\n",
        " 7: [2, 6, 12, 8],\n",
        " 8: [3, 7, 13, 9],\n",
        " 9: [4, 8, 14],\n",
        " 10: [5, 15, 11],\n",
        " 11: [6, 10, 16, 12],\n",
        " 12: [7, 11, 17, 13],\n",
        " 13: [8, 12, 18, 14],\n",
        " 14: [9, 13, 19],\n",
        " 15: [10, 20, 16],\n",
        " 16: [11, 15, 21, 17],\n",
        " 17: [12, 16, 22, 18],\n",
        " 18: [13, 17, 23, 19],\n",
        " 19: [14, 18, 24],\n",
        " 20: [15, 21],\n",
        " 21: [16, 20, 22],\n",
        " 22: [17, 21, 23],\n",
        " 23: [18, 22, 24],\n",
        " 24: [19, 23]}"
       ]
      }
     ],
     "prompt_number": 153
    },
    {
     "cell_type": "code",
     "collapsed": false,
     "input": [
      "w.weights"
     ],
     "language": "python",
     "metadata": {},
     "outputs": [
      {
       "output_type": "pyout",
       "prompt_number": 154,
       "text": [
        "{0: [1.0, 1.0],\n",
        " 1: [1.0, 1.0, 1.0],\n",
        " 2: [1.0, 1.0, 1.0],\n",
        " 3: [1.0, 1.0, 1.0],\n",
        " 4: [1.0, 1.0],\n",
        " 5: [1.0, 1.0, 1.0],\n",
        " 6: [1.0, 1.0, 1.0, 1.0],\n",
        " 7: [1.0, 1.0, 1.0, 1.0],\n",
        " 8: [1.0, 1.0, 1.0, 1.0],\n",
        " 9: [1.0, 1.0, 1.0],\n",
        " 10: [1.0, 1.0, 1.0],\n",
        " 11: [1.0, 1.0, 1.0, 1.0],\n",
        " 12: [1.0, 1.0, 1.0, 1.0],\n",
        " 13: [1.0, 1.0, 1.0, 1.0],\n",
        " 14: [1.0, 1.0, 1.0],\n",
        " 15: [1.0, 1.0, 1.0],\n",
        " 16: [1.0, 1.0, 1.0, 1.0],\n",
        " 17: [1.0, 1.0, 1.0, 1.0],\n",
        " 18: [1.0, 1.0, 1.0, 1.0],\n",
        " 19: [1.0, 1.0, 1.0],\n",
        " 20: [1.0, 1.0],\n",
        " 21: [1.0, 1.0, 1.0],\n",
        " 22: [1.0, 1.0, 1.0],\n",
        " 23: [1.0, 1.0, 1.0],\n",
        " 24: [1.0, 1.0]}"
       ]
      }
     ],
     "prompt_number": 154
    },
    {
     "cell_type": "code",
     "collapsed": false,
     "input": [
      "w[0]"
     ],
     "language": "python",
     "metadata": {},
     "outputs": [
      {
       "output_type": "pyout",
       "prompt_number": 155,
       "text": [
        "{1: 1.0, 5: 1.0}"
       ]
      }
     ],
     "prompt_number": 155
    },
    {
     "cell_type": "markdown",
     "metadata": {},
     "source": [
      "$s_0 = \\sum_i \\sum_j w_{i,j}$"
     ]
    },
    {
     "cell_type": "code",
     "collapsed": false,
     "input": [
      "w.s0"
     ],
     "language": "python",
     "metadata": {},
     "outputs": [
      {
       "output_type": "pyout",
       "prompt_number": 156,
       "text": [
        "80.0"
       ]
      }
     ],
     "prompt_number": 156
    },
    {
     "cell_type": "code",
     "collapsed": false,
     "input": [
      "w.histogram"
     ],
     "language": "python",
     "metadata": {},
     "outputs": [
      {
       "output_type": "pyout",
       "prompt_number": 157,
       "text": [
        "[(2, 4), (3, 12), (4, 9)]"
       ]
      }
     ],
     "prompt_number": 157
    },
    {
     "cell_type": "code",
     "collapsed": false,
     "input": [
      "np.sum( [ c[0]*c[1] for c in w.histogram ] )"
     ],
     "language": "python",
     "metadata": {},
     "outputs": [
      {
       "output_type": "pyout",
       "prompt_number": 158,
       "text": [
        "80"
       ]
      }
     ],
     "prompt_number": 158
    },
    {
     "cell_type": "code",
     "collapsed": false,
     "input": [
      "w.pct_nonzero"
     ],
     "language": "python",
     "metadata": {},
     "outputs": [
      {
       "output_type": "pyout",
       "prompt_number": 159,
       "text": [
        "0.128"
       ]
      }
     ],
     "prompt_number": 159
    },
    {
     "cell_type": "markdown",
     "metadata": {},
     "source": [
      "$\\text{pct nonzero} = s_0 / n^2$"
     ]
    },
    {
     "cell_type": "code",
     "collapsed": false,
     "input": [
      "w.s0 / w.n**2"
     ],
     "language": "python",
     "metadata": {},
     "outputs": [
      {
       "output_type": "pyout",
       "prompt_number": 160,
       "text": [
        "0.128"
       ]
      }
     ],
     "prompt_number": 160
    },
    {
     "cell_type": "code",
     "collapsed": false,
     "input": [
      "full, id_order = w.full()\n",
      "full"
     ],
     "language": "python",
     "metadata": {},
     "outputs": [
      {
       "output_type": "pyout",
       "prompt_number": 161,
       "text": [
        "array([[ 0.,  1.,  0.,  0.,  0.,  1.,  0.,  0.,  0.,  0.,  0.,  0.,  0.,\n",
        "         0.,  0.,  0.,  0.,  0.,  0.,  0.,  0.,  0.,  0.,  0.,  0.],\n",
        "       [ 1.,  0.,  1.,  0.,  0.,  0.,  1.,  0.,  0.,  0.,  0.,  0.,  0.,\n",
        "         0.,  0.,  0.,  0.,  0.,  0.,  0.,  0.,  0.,  0.,  0.,  0.],\n",
        "       [ 0.,  1.,  0.,  1.,  0.,  0.,  0.,  1.,  0.,  0.,  0.,  0.,  0.,\n",
        "         0.,  0.,  0.,  0.,  0.,  0.,  0.,  0.,  0.,  0.,  0.,  0.],\n",
        "       [ 0.,  0.,  1.,  0.,  1.,  0.,  0.,  0.,  1.,  0.,  0.,  0.,  0.,\n",
        "         0.,  0.,  0.,  0.,  0.,  0.,  0.,  0.,  0.,  0.,  0.,  0.],\n",
        "       [ 0.,  0.,  0.,  1.,  0.,  0.,  0.,  0.,  0.,  1.,  0.,  0.,  0.,\n",
        "         0.,  0.,  0.,  0.,  0.,  0.,  0.,  0.,  0.,  0.,  0.,  0.],\n",
        "       [ 1.,  0.,  0.,  0.,  0.,  0.,  1.,  0.,  0.,  0.,  1.,  0.,  0.,\n",
        "         0.,  0.,  0.,  0.,  0.,  0.,  0.,  0.,  0.,  0.,  0.,  0.],\n",
        "       [ 0.,  1.,  0.,  0.,  0.,  1.,  0.,  1.,  0.,  0.,  0.,  1.,  0.,\n",
        "         0.,  0.,  0.,  0.,  0.,  0.,  0.,  0.,  0.,  0.,  0.,  0.],\n",
        "       [ 0.,  0.,  1.,  0.,  0.,  0.,  1.,  0.,  1.,  0.,  0.,  0.,  1.,\n",
        "         0.,  0.,  0.,  0.,  0.,  0.,  0.,  0.,  0.,  0.,  0.,  0.],\n",
        "       [ 0.,  0.,  0.,  1.,  0.,  0.,  0.,  1.,  0.,  1.,  0.,  0.,  0.,\n",
        "         1.,  0.,  0.,  0.,  0.,  0.,  0.,  0.,  0.,  0.,  0.,  0.],\n",
        "       [ 0.,  0.,  0.,  0.,  1.,  0.,  0.,  0.,  1.,  0.,  0.,  0.,  0.,\n",
        "         0.,  1.,  0.,  0.,  0.,  0.,  0.,  0.,  0.,  0.,  0.,  0.],\n",
        "       [ 0.,  0.,  0.,  0.,  0.,  1.,  0.,  0.,  0.,  0.,  0.,  1.,  0.,\n",
        "         0.,  0.,  1.,  0.,  0.,  0.,  0.,  0.,  0.,  0.,  0.,  0.],\n",
        "       [ 0.,  0.,  0.,  0.,  0.,  0.,  1.,  0.,  0.,  0.,  1.,  0.,  1.,\n",
        "         0.,  0.,  0.,  1.,  0.,  0.,  0.,  0.,  0.,  0.,  0.,  0.],\n",
        "       [ 0.,  0.,  0.,  0.,  0.,  0.,  0.,  1.,  0.,  0.,  0.,  1.,  0.,\n",
        "         1.,  0.,  0.,  0.,  1.,  0.,  0.,  0.,  0.,  0.,  0.,  0.],\n",
        "       [ 0.,  0.,  0.,  0.,  0.,  0.,  0.,  0.,  1.,  0.,  0.,  0.,  1.,\n",
        "         0.,  1.,  0.,  0.,  0.,  1.,  0.,  0.,  0.,  0.,  0.,  0.],\n",
        "       [ 0.,  0.,  0.,  0.,  0.,  0.,  0.,  0.,  0.,  1.,  0.,  0.,  0.,\n",
        "         1.,  0.,  0.,  0.,  0.,  0.,  1.,  0.,  0.,  0.,  0.,  0.],\n",
        "       [ 0.,  0.,  0.,  0.,  0.,  0.,  0.,  0.,  0.,  0.,  1.,  0.,  0.,\n",
        "         0.,  0.,  0.,  1.,  0.,  0.,  0.,  1.,  0.,  0.,  0.,  0.],\n",
        "       [ 0.,  0.,  0.,  0.,  0.,  0.,  0.,  0.,  0.,  0.,  0.,  1.,  0.,\n",
        "         0.,  0.,  1.,  0.,  1.,  0.,  0.,  0.,  1.,  0.,  0.,  0.],\n",
        "       [ 0.,  0.,  0.,  0.,  0.,  0.,  0.,  0.,  0.,  0.,  0.,  0.,  1.,\n",
        "         0.,  0.,  0.,  1.,  0.,  1.,  0.,  0.,  0.,  1.,  0.,  0.],\n",
        "       [ 0.,  0.,  0.,  0.,  0.,  0.,  0.,  0.,  0.,  0.,  0.,  0.,  0.,\n",
        "         1.,  0.,  0.,  0.,  1.,  0.,  1.,  0.,  0.,  0.,  1.,  0.],\n",
        "       [ 0.,  0.,  0.,  0.,  0.,  0.,  0.,  0.,  0.,  0.,  0.,  0.,  0.,\n",
        "         0.,  1.,  0.,  0.,  0.,  1.,  0.,  0.,  0.,  0.,  0.,  1.],\n",
        "       [ 0.,  0.,  0.,  0.,  0.,  0.,  0.,  0.,  0.,  0.,  0.,  0.,  0.,\n",
        "         0.,  0.,  1.,  0.,  0.,  0.,  0.,  0.,  1.,  0.,  0.,  0.],\n",
        "       [ 0.,  0.,  0.,  0.,  0.,  0.,  0.,  0.,  0.,  0.,  0.,  0.,  0.,\n",
        "         0.,  0.,  0.,  1.,  0.,  0.,  0.,  1.,  0.,  1.,  0.,  0.],\n",
        "       [ 0.,  0.,  0.,  0.,  0.,  0.,  0.,  0.,  0.,  0.,  0.,  0.,  0.,\n",
        "         0.,  0.,  0.,  0.,  1.,  0.,  0.,  0.,  1.,  0.,  1.,  0.],\n",
        "       [ 0.,  0.,  0.,  0.,  0.,  0.,  0.,  0.,  0.,  0.,  0.,  0.,  0.,\n",
        "         0.,  0.,  0.,  0.,  0.,  1.,  0.,  0.,  0.,  1.,  0.,  1.],\n",
        "       [ 0.,  0.,  0.,  0.,  0.,  0.,  0.,  0.,  0.,  0.,  0.,  0.,  0.,\n",
        "         0.,  0.,  0.,  0.,  0.,  0.,  1.,  0.,  0.,  0.,  1.,  0.]])"
       ]
      }
     ],
     "prompt_number": 161
    },
    {
     "cell_type": "code",
     "collapsed": true,
     "input": [
      "id_order"
     ],
     "language": "python",
     "metadata": {},
     "outputs": [
      {
       "output_type": "pyout",
       "prompt_number": 162,
       "text": [
        "[0,\n",
        " 1,\n",
        " 2,\n",
        " 3,\n",
        " 4,\n",
        " 5,\n",
        " 6,\n",
        " 7,\n",
        " 8,\n",
        " 9,\n",
        " 10,\n",
        " 11,\n",
        " 12,\n",
        " 13,\n",
        " 14,\n",
        " 15,\n",
        " 16,\n",
        " 17,\n",
        " 18,\n",
        " 19,\n",
        " 20,\n",
        " 21,\n",
        " 22,\n",
        " 23,\n",
        " 24]"
       ]
      }
     ],
     "prompt_number": 162
    },
    {
     "cell_type": "code",
     "collapsed": false,
     "input": [
      "w.sparse"
     ],
     "language": "python",
     "metadata": {},
     "outputs": [
      {
       "output_type": "pyout",
       "prompt_number": 163,
       "text": [
        "<25x25 sparse matrix of type '<type 'numpy.float64'>'\n",
        "\twith 80 stored elements in Compressed Sparse Row format>"
       ]
      }
     ],
     "prompt_number": 163
    },
    {
     "cell_type": "markdown",
     "metadata": {},
     "source": [
      "If we are working with very large datasets, we might want to create a sparse object directly to save up on memory:"
     ]
    },
    {
     "cell_type": "code",
     "collapsed": false,
     "input": [
      "ws = ps.weights.lat2SW(5, 5)\n",
      "ws"
     ],
     "language": "python",
     "metadata": {},
     "outputs": [
      {
       "output_type": "pyout",
       "prompt_number": 164,
       "text": [
        "<25x25 sparse matrix of type '<type 'numpy.int8'>'\n",
        "\twith 80 stored elements in Compressed Sparse Row format>"
       ]
      }
     ],
     "prompt_number": 164
    },
    {
     "cell_type": "markdown",
     "metadata": {},
     "source": [
      "## Queen Contiguity"
     ]
    },
    {
     "cell_type": "code",
     "collapsed": false,
     "input": [
      "wq = ps.lat2W(5, 5, rook=False)"
     ],
     "language": "python",
     "metadata": {},
     "outputs": [],
     "prompt_number": 165
    },
    {
     "cell_type": "code",
     "collapsed": false,
     "input": [
      "wq.s0"
     ],
     "language": "python",
     "metadata": {},
     "outputs": [
      {
       "output_type": "pyout",
       "prompt_number": 166,
       "text": [
        "144.0"
       ]
      }
     ],
     "prompt_number": 166
    },
    {
     "cell_type": "code",
     "collapsed": false,
     "input": [
      "wq.histogram"
     ],
     "language": "python",
     "metadata": {},
     "outputs": [
      {
       "output_type": "pyout",
       "prompt_number": 167,
       "text": [
        "[(3, 4), (4, 0), (5, 12), (6, 0), (7, 0), (8, 9)]"
       ]
      }
     ],
     "prompt_number": 167
    },
    {
     "cell_type": "code",
     "collapsed": false,
     "input": [
      "np.sum( [ c[0] * c[1] for c in wq.histogram ] )"
     ],
     "language": "python",
     "metadata": {},
     "outputs": [
      {
       "output_type": "pyout",
       "prompt_number": 168,
       "text": [
        "144"
       ]
      }
     ],
     "prompt_number": 168
    },
    {
     "cell_type": "code",
     "collapsed": false,
     "input": [
      "wq.pct_nonzero"
     ],
     "language": "python",
     "metadata": {},
     "outputs": [
      {
       "output_type": "pyout",
       "prompt_number": 169,
       "text": [
        "0.23039999999999999"
       ]
      }
     ],
     "prompt_number": 169
    },
    {
     "cell_type": "code",
     "collapsed": false,
     "input": [
      "144. / wq.n**2"
     ],
     "language": "python",
     "metadata": {},
     "outputs": [
      {
       "output_type": "pyout",
       "prompt_number": 170,
       "text": [
        "0.2304"
       ]
      }
     ],
     "prompt_number": 170
    },
    {
     "cell_type": "heading",
     "level": 2,
     "metadata": {},
     "source": [
      "Bishop"
     ]
    },
    {
     "cell_type": "code",
     "collapsed": false,
     "input": [
      "wb = ps.w_difference(wq,w, constrained = False)"
     ],
     "language": "python",
     "metadata": {},
     "outputs": [],
     "prompt_number": 171
    },
    {
     "cell_type": "code",
     "collapsed": false,
     "input": [
      "wb.n"
     ],
     "language": "python",
     "metadata": {},
     "outputs": [
      {
       "output_type": "pyout",
       "prompt_number": 172,
       "text": [
        "25"
       ]
      }
     ],
     "prompt_number": 172
    },
    {
     "cell_type": "code",
     "collapsed": false,
     "input": [
      "wb.s0"
     ],
     "language": "python",
     "metadata": {},
     "outputs": [
      {
       "output_type": "pyout",
       "prompt_number": 173,
       "text": [
        "64.0"
       ]
      }
     ],
     "prompt_number": 173
    },
    {
     "cell_type": "code",
     "collapsed": false,
     "input": [
      "wq[0]"
     ],
     "language": "python",
     "metadata": {},
     "outputs": [
      {
       "output_type": "pyout",
       "prompt_number": 174,
       "text": [
        "{1: 1.0, 5: 1.0, 6: 1.0}"
       ]
      }
     ],
     "prompt_number": 174
    },
    {
     "cell_type": "code",
     "collapsed": false,
     "input": [
      "w[0]"
     ],
     "language": "python",
     "metadata": {},
     "outputs": [
      {
       "output_type": "pyout",
       "prompt_number": 175,
       "text": [
        "{1: 1.0, 5: 1.0}"
       ]
      }
     ],
     "prompt_number": 175
    },
    {
     "cell_type": "code",
     "collapsed": false,
     "input": [
      "wb[0]"
     ],
     "language": "python",
     "metadata": {},
     "outputs": [
      {
       "output_type": "pyout",
       "prompt_number": 176,
       "text": [
        "{6: 1.0}"
       ]
      }
     ],
     "prompt_number": 176
    },
    {
     "cell_type": "code",
     "collapsed": false,
     "input": [
      "ps.w_difference?"
     ],
     "language": "python",
     "metadata": {},
     "outputs": [],
     "prompt_number": 177
    },
    {
     "cell_type": "code",
     "collapsed": false,
     "input": [
      "wb.histogram"
     ],
     "language": "python",
     "metadata": {},
     "outputs": [
      {
       "output_type": "pyout",
       "prompt_number": 178,
       "text": [
        "[(1, 4), (2, 12), (3, 0), (4, 9)]"
       ]
      }
     ],
     "prompt_number": 178
    },
    {
     "cell_type": "heading",
     "level": 2,
     "metadata": {},
     "source": [
      "Spatial Lag"
     ]
    },
    {
     "cell_type": "markdown",
     "metadata": {},
     "source": [
      "$l_i = \\sum_{i,j} w_{i,j} y_j$"
     ]
    },
    {
     "cell_type": "code",
     "collapsed": false,
     "input": [
      "y = np.random.randint(low=0, high=100, size=w.n) * 1.\n",
      "y"
     ],
     "language": "python",
     "metadata": {},
     "outputs": [
      {
       "output_type": "pyout",
       "prompt_number": 179,
       "text": [
        "array([ 56.,  28.,  56.,  35.,  31.,  51.,  59.,  57.,  47.,  94.,  68.,\n",
        "        90.,  44.,  87.,  90.,  53.,  51.,  69.,  87.,  15.,  81.,   2.,\n",
        "        94.,  37.,  42.])"
       ]
      }
     ],
     "prompt_number": 179
    },
    {
     "cell_type": "code",
     "collapsed": false,
     "input": [
      "xs = np.array(range(5) * 5).flatten()\n",
      "ys = np.array([[i] * 5 for i in range(5)]).flatten()\n",
      "f = figure()\n",
      "ax = f.add_subplot(111)\n",
      "scatter(xs, ys, marker='', color='k')\n",
      "for i in range(5):\n",
      "    axvline(i+0.5, color='k')\n",
      "    axhline(i+0.5, color='k')\n",
      "ax.axes.get_yaxis().set_visible(False)\n",
      "ax.axes.get_xaxis().set_visible(False)\n",
      "ax.set_xlim((-0.5, 4.5))\n",
      "ax.set_ylim((-0.5, 4.5))\n",
      "for i in range(25):\n",
      "    text(xs[i], ys[i], \"%s | %s\"%(str(i), y[i]), horizontalalignment='center',\n",
      "         verticalalignment='center')\n",
      "title('Distribution of Y')"
     ],
     "language": "python",
     "metadata": {},
     "outputs": [
      {
       "output_type": "pyout",
       "prompt_number": 180,
       "text": [
        "<matplotlib.text.Text at 0x59bd5d0>"
       ]
      },
      {
       "output_type": "display_data",
       "png": "[encoded data removed]"
      }
     ],
     "prompt_number": 180
    },
    {
     "cell_type": "code",
     "collapsed": false,
     "input": [
      "wy = ps.lag_spatial(w,y)\n",
      "wy"
     ],
     "language": "python",
     "metadata": {},
     "outputs": [
      {
       "output_type": "pyout",
       "prompt_number": 181,
       "text": [
        "array([  79.,  171.,  120.,  134.,  129.,  183.,  226.,  206.,  273.,\n",
        "        168.,  194.,  222.,  303.,  268.,  196.,  200.,  214.,  276.,\n",
        "        208.,  219.,   55.,  226.,  108.,  223.,   52.])"
       ]
      }
     ],
     "prompt_number": 181
    },
    {
     "cell_type": "code",
     "collapsed": false,
     "input": [
      "xs = np.array(range(5) * 5).flatten()\n",
      "ys = np.array([[i] * 5 for i in range(5)]).flatten()\n",
      "f = figure()\n",
      "ax = f.add_subplot(111)\n",
      "scatter(xs, ys, marker='', color='k')\n",
      "for i in range(5):\n",
      "    axvline(i+0.5, color='k')\n",
      "    axhline(i+0.5, color='k')\n",
      "ax.axes.get_yaxis().set_visible(False)\n",
      "ax.axes.get_xaxis().set_visible(False)\n",
      "ax.set_xlim((-0.5, 4.5))\n",
      "ax.set_ylim((-0.5, 4.5))\n",
      "for i in range(25):\n",
      "    text(xs[i], ys[i], \"%s | %s\"%(str(i), wy[i]), horizontalalignment='center',\n",
      "         verticalalignment='center')\n",
      "title(\"Spatial lag Y\")"
     ],
     "language": "python",
     "metadata": {},
     "outputs": [
      {
       "output_type": "pyout",
       "prompt_number": 182,
       "text": [
        "<matplotlib.text.Text at 0x5bbe550>"
       ]
      },
      {
       "output_type": "display_data",
       "png": "[encoded data removed]"
      }
     ],
     "prompt_number": 182
    },
    {
     "cell_type": "code",
     "collapsed": false,
     "input": [
      "w[0]"
     ],
     "language": "python",
     "metadata": {},
     "outputs": [
      {
       "output_type": "pyout",
       "prompt_number": 183,
       "text": [
        "{1: 1.0, 5: 1.0}"
       ]
      }
     ],
     "prompt_number": 183
    },
    {
     "cell_type": "code",
     "collapsed": false,
     "input": [
      "y[[1,5]]"
     ],
     "language": "python",
     "metadata": {},
     "outputs": [
      {
       "output_type": "pyout",
       "prompt_number": 184,
       "text": [
        "array([ 28.,  51.])"
       ]
      }
     ],
     "prompt_number": 184
    },
    {
     "cell_type": "code",
     "collapsed": false,
     "input": [
      "y *= 10"
     ],
     "language": "python",
     "metadata": {},
     "outputs": [],
     "prompt_number": 185
    },
    {
     "cell_type": "code",
     "collapsed": false,
     "input": [
      "y"
     ],
     "language": "python",
     "metadata": {},
     "outputs": [
      {
       "output_type": "pyout",
       "prompt_number": 186,
       "text": [
        "array([ 560.,  280.,  560.,  350.,  310.,  510.,  590.,  570.,  470.,\n",
        "        940.,  680.,  900.,  440.,  870.,  900.,  530.,  510.,  690.,\n",
        "        870.,  150.,  810.,   20.,  940.,  370.,  420.])"
       ]
      }
     ],
     "prompt_number": 186
    },
    {
     "cell_type": "code",
     "collapsed": false,
     "input": [
      "wy = ps.lag_spatial(w,y)"
     ],
     "language": "python",
     "metadata": {},
     "outputs": [],
     "prompt_number": 187
    },
    {
     "cell_type": "code",
     "collapsed": false,
     "input": [
      "wy"
     ],
     "language": "python",
     "metadata": {},
     "outputs": [
      {
       "output_type": "pyout",
       "prompt_number": 188,
       "text": [
        "array([  790.,  1710.,  1200.,  1340.,  1290.,  1830.,  2260.,  2060.,\n",
        "        2730.,  1680.,  1940.,  2220.,  3030.,  2680.,  1960.,  2000.,\n",
        "        2140.,  2760.,  2080.,  2190.,   550.,  2260.,  1080.,  2230.,\n",
        "         520.])"
       ]
      }
     ],
     "prompt_number": 188
    },
    {
     "cell_type": "code",
     "collapsed": false,
     "input": [
      "w[0]"
     ],
     "language": "python",
     "metadata": {},
     "outputs": [
      {
       "output_type": "pyout",
       "prompt_number": 189,
       "text": [
        "{1: 1.0, 5: 1.0}"
       ]
      }
     ],
     "prompt_number": 189
    },
    {
     "cell_type": "code",
     "collapsed": false,
     "input": [
      "y[[1,5]]"
     ],
     "language": "python",
     "metadata": {},
     "outputs": [
      {
       "output_type": "pyout",
       "prompt_number": 190,
       "text": [
        "array([ 280.,  510.])"
       ]
      }
     ],
     "prompt_number": 190
    },
    {
     "cell_type": "code",
     "collapsed": false,
     "input": [
      "y[[1,5]].sum()"
     ],
     "language": "python",
     "metadata": {},
     "outputs": [
      {
       "output_type": "pyout",
       "prompt_number": 191,
       "text": [
        "790.0"
       ]
      }
     ],
     "prompt_number": 191
    },
    {
     "cell_type": "markdown",
     "metadata": {},
     "source": [
      "In order to obtain averages around an observation, standardize `W`:"
     ]
    },
    {
     "cell_type": "markdown",
     "metadata": {},
     "source": [
      "${w}_{i,j}^* = w_{i,j} / \\sum_j w_{i,j}$"
     ]
    },
    {
     "cell_type": "code",
     "collapsed": false,
     "input": [
      "print w.transform\n",
      "w.transform = 'R'\n",
      "print w.transform"
     ],
     "language": "python",
     "metadata": {},
     "outputs": [
      {
       "output_type": "stream",
       "stream": "stdout",
       "text": [
        "O\n",
        "R\n"
       ]
      }
     ],
     "prompt_number": 192
    },
    {
     "cell_type": "code",
     "collapsed": true,
     "input": [
      "w.weights"
     ],
     "language": "python",
     "metadata": {},
     "outputs": [
      {
       "output_type": "pyout",
       "prompt_number": 193,
       "text": [
        "{0: [0.5, 0.5],\n",
        " 1: [0.3333333333333333, 0.3333333333333333, 0.3333333333333333],\n",
        " 2: [0.3333333333333333, 0.3333333333333333, 0.3333333333333333],\n",
        " 3: [0.3333333333333333, 0.3333333333333333, 0.3333333333333333],\n",
        " 4: [0.5, 0.5],\n",
        " 5: [0.3333333333333333, 0.3333333333333333, 0.3333333333333333],\n",
        " 6: [0.25, 0.25, 0.25, 0.25],\n",
        " 7: [0.25, 0.25, 0.25, 0.25],\n",
        " 8: [0.25, 0.25, 0.25, 0.25],\n",
        " 9: [0.3333333333333333, 0.3333333333333333, 0.3333333333333333],\n",
        " 10: [0.3333333333333333, 0.3333333333333333, 0.3333333333333333],\n",
        " 11: [0.25, 0.25, 0.25, 0.25],\n",
        " 12: [0.25, 0.25, 0.25, 0.25],\n",
        " 13: [0.25, 0.25, 0.25, 0.25],\n",
        " 14: [0.3333333333333333, 0.3333333333333333, 0.3333333333333333],\n",
        " 15: [0.3333333333333333, 0.3333333333333333, 0.3333333333333333],\n",
        " 16: [0.25, 0.25, 0.25, 0.25],\n",
        " 17: [0.25, 0.25, 0.25, 0.25],\n",
        " 18: [0.25, 0.25, 0.25, 0.25],\n",
        " 19: [0.3333333333333333, 0.3333333333333333, 0.3333333333333333],\n",
        " 20: [0.5, 0.5],\n",
        " 21: [0.3333333333333333, 0.3333333333333333, 0.3333333333333333],\n",
        " 22: [0.3333333333333333, 0.3333333333333333, 0.3333333333333333],\n",
        " 23: [0.3333333333333333, 0.3333333333333333, 0.3333333333333333],\n",
        " 24: [0.5, 0.5]}"
       ]
      }
     ],
     "prompt_number": 193
    },
    {
     "cell_type": "code",
     "collapsed": false,
     "input": [
      "wry = ps.lag_spatial(w,y)"
     ],
     "language": "python",
     "metadata": {},
     "outputs": [],
     "prompt_number": 194
    },
    {
     "cell_type": "code",
     "collapsed": false,
     "input": [
      "wry"
     ],
     "language": "python",
     "metadata": {},
     "outputs": [
      {
       "output_type": "pyout",
       "prompt_number": 195,
       "text": [
        "array([ 395.        ,  570.        ,  400.        ,  446.66666667,\n",
        "        645.        ,  610.        ,  565.        ,  515.        ,\n",
        "        682.5       ,  560.        ,  646.66666667,  555.        ,\n",
        "        757.5       ,  670.        ,  653.33333333,  666.66666667,\n",
        "        535.        ,  690.        ,  520.        ,  730.        ,\n",
        "        275.        ,  753.33333333,  360.        ,  743.33333333,  260.        ])"
       ]
      }
     ],
     "prompt_number": 195
    },
    {
     "cell_type": "code",
     "collapsed": false,
     "input": [
      "xs = np.array(range(5) * 5).flatten()\n",
      "ys = np.array([[i] * 5 for i in range(5)]).flatten()\n",
      "f = figure()\n",
      "ax = f.add_subplot(111)\n",
      "scatter(xs, ys, marker='', color='k')\n",
      "for i in range(5):\n",
      "    axvline(i+0.5, color='k')\n",
      "    axhline(i+0.5, color='k')\n",
      "ax.axes.get_yaxis().set_visible(False)\n",
      "ax.axes.get_xaxis().set_visible(False)\n",
      "ax.set_xlim((-0.5, 4.5))\n",
      "ax.set_ylim((-0.5, 4.5))\n",
      "for i in range(25):\n",
      "    text(xs[i], ys[i], \"%s | %s\"%(str(i), np.round(wry[i], 2)), horizontalalignment='center',\n",
      "         verticalalignment='center')\n",
      "title(\"Standardized spatial lag Y\")"
     ],
     "language": "python",
     "metadata": {},
     "outputs": [
      {
       "output_type": "pyout",
       "prompt_number": 196,
       "text": [
        "<matplotlib.text.Text at 0x5dbc790>"
       ]
      },
      {
       "output_type": "display_data",
       "png": "[encoded data removed]"
      }
     ],
     "prompt_number": 196
    },
    {
     "cell_type": "code",
     "collapsed": false,
     "input": [
      "w[24]"
     ],
     "language": "python",
     "metadata": {},
     "outputs": [
      {
       "output_type": "pyout",
       "prompt_number": 197,
       "text": [
        "{19: 0.5, 23: 0.5}"
       ]
      }
     ],
     "prompt_number": 197
    },
    {
     "cell_type": "code",
     "collapsed": false,
     "input": [
      "y[[19,23]].mean()"
     ],
     "language": "python",
     "metadata": {},
     "outputs": [
      {
       "output_type": "pyout",
       "prompt_number": 198,
       "text": [
        "260.0"
       ]
      }
     ],
     "prompt_number": 198
    },
    {
     "cell_type": "markdown",
     "metadata": {},
     "source": [
      "# Weights From External Files\n",
      "\n",
      "With these concepts in mind, let's apply them to real world data. We will revisit the neighborhood checkin dataset from Amsterdam."
     ]
    },
    {
     "cell_type": "markdown",
     "metadata": {},
     "source": [
      "## shapefiles"
     ]
    },
    {
     "cell_type": "code",
     "collapsed": false,
     "input": [
      "w_adam = ps.rook_from_shapefile('data/amsterdam_hoods.shp')"
     ],
     "language": "python",
     "metadata": {},
     "outputs": [],
     "prompt_number": 199
    },
    {
     "cell_type": "code",
     "collapsed": false,
     "input": [
      "w_adam.n"
     ],
     "language": "python",
     "metadata": {},
     "outputs": [
      {
       "output_type": "pyout",
       "prompt_number": 200,
       "text": [
        "96"
       ]
      }
     ],
     "prompt_number": 200
    },
    {
     "cell_type": "code",
     "collapsed": false,
     "input": [
      "w_adam.pct_nonzero"
     ],
     "language": "python",
     "metadata": {},
     "outputs": [
      {
       "output_type": "pyout",
       "prompt_number": 201,
       "text": [
        "0.051215277777777776"
       ]
      }
     ],
     "prompt_number": 201
    },
    {
     "cell_type": "code",
     "collapsed": false,
     "input": [
      "wq_adam = ps.queen_from_shapefile('data/amsterdam_hoods.shp')"
     ],
     "language": "python",
     "metadata": {},
     "outputs": [],
     "prompt_number": 202
    },
    {
     "cell_type": "code",
     "collapsed": false,
     "input": [
      "wq_adam.pct_nonzero"
     ],
     "language": "python",
     "metadata": {},
     "outputs": [
      {
       "output_type": "pyout",
       "prompt_number": 203,
       "text": [
        "0.056206597222222224"
       ]
      }
     ],
     "prompt_number": 203
    },
    {
     "cell_type": "code",
     "collapsed": false,
     "input": [
      "w_adam.histogram"
     ],
     "language": "python",
     "metadata": {},
     "outputs": [
      {
       "output_type": "pyout",
       "prompt_number": 204,
       "text": [
        "[(0, 1),\n",
        " (1, 2),\n",
        " (2, 6),\n",
        " (3, 8),\n",
        " (4, 23),\n",
        " (5, 22),\n",
        " (6, 14),\n",
        " (7, 13),\n",
        " (8, 6),\n",
        " (9, 1)]"
       ]
      }
     ],
     "prompt_number": 204
    },
    {
     "cell_type": "code",
     "collapsed": false,
     "input": [
      "wq_adam.histogram"
     ],
     "language": "python",
     "metadata": {},
     "outputs": [
      {
       "output_type": "pyout",
       "prompt_number": 205,
       "text": [
        "[(0, 1),\n",
        " (1, 2),\n",
        " (2, 4),\n",
        " (3, 7),\n",
        " (4, 18),\n",
        " (5, 21),\n",
        " (6, 13),\n",
        " (7, 13),\n",
        " (8, 12),\n",
        " (9, 5)]"
       ]
      }
     ],
     "prompt_number": 205
    },
    {
     "cell_type": "markdown",
     "metadata": {},
     "source": [
      "Let's visualize the cardinalities of both weight structures"
     ]
    },
    {
     "cell_type": "code",
     "collapsed": false,
     "input": [
      "wh = np.array(w_adam.histogram)"
     ],
     "language": "python",
     "metadata": {},
     "outputs": [],
     "prompt_number": 206
    },
    {
     "cell_type": "code",
     "collapsed": false,
     "input": [
      "bar(wh[:,0],wh[:,1])"
     ],
     "language": "python",
     "metadata": {},
     "outputs": [
      {
       "output_type": "pyout",
       "prompt_number": 207,
       "text": [
        "<Container object of 10 artists>"
       ]
      },
      {
       "output_type": "display_data",
       "png": "[encoded data removed]"
      }
     ],
     "prompt_number": 207
    },
    {
     "cell_type": "code",
     "collapsed": false,
     "input": [
      "whq_adam = np.array(wq_adam.histogram)"
     ],
     "language": "python",
     "metadata": {},
     "outputs": [],
     "prompt_number": 208
    },
    {
     "cell_type": "code",
     "collapsed": false,
     "input": [
      "bar(wh[:,0],wh[:,1])"
     ],
     "language": "python",
     "metadata": {},
     "outputs": [
      {
       "output_type": "pyout",
       "prompt_number": 209,
       "text": [
        "<Container object of 10 artists>"
       ]
      },
      {
       "output_type": "display_data",
       "png": "[encoded data removed]"
      }
     ],
     "prompt_number": 209
    },
    {
     "cell_type": "markdown",
     "metadata": {},
     "source": [
      "An alternative is to consider directly the number of neighbors every observation has, read it into a `pandas.Series` and plot a histogram/density kernel of it:"
     ]
    },
    {
     "cell_type": "code",
     "collapsed": true,
     "input": [
      "nn = pd.Series(wq_adam.cardinalities.values())\n",
      "nn"
     ],
     "language": "python",
     "metadata": {},
     "outputs": [
      {
       "output_type": "pyout",
       "prompt_number": 210,
       "text": [
        "0     2\n",
        "1     8\n",
        "2     5\n",
        "3     5\n",
        "4     7\n",
        "5     8\n",
        "6     8\n",
        "7     9\n",
        "8     8\n",
        "9     5\n",
        "10    5\n",
        "11    7\n",
        "12    4\n",
        "13    7\n",
        "14    5\n",
        "15    6\n",
        "16    6\n",
        "17    4\n",
        "18    4\n",
        "19    7\n",
        "20    5\n",
        "21    7\n",
        "22    5\n",
        "23    4\n",
        "24    4\n",
        "25    9\n",
        "26    4\n",
        "27    0\n",
        "28    1\n",
        "29    4\n",
        "30    7\n",
        "31    4\n",
        "32    7\n",
        "33    9\n",
        "34    6\n",
        "35    4\n",
        "36    7\n",
        "37    6\n",
        "38    6\n",
        "39    3\n",
        "40    2\n",
        "41    9\n",
        "42    4\n",
        "43    4\n",
        "44    3\n",
        "45    5\n",
        "46    6\n",
        "47    6\n",
        "48    8\n",
        "49    5\n",
        "50    5\n",
        "51    5\n",
        "52    4\n",
        "53    8\n",
        "54    4\n",
        "55    3\n",
        "56    7\n",
        "57    5\n",
        "58    5\n",
        "59    3\n",
        "60    4\n",
        "61    5\n",
        "62    8\n",
        "63    7\n",
        "64    6\n",
        "65    2\n",
        "66    4\n",
        "67    3\n",
        "68    5\n",
        "69    5\n",
        "70    2\n",
        "71    1\n",
        "72    9\n",
        "73    5\n",
        "74    8\n",
        "75    5\n",
        "76    8\n",
        "77    7\n",
        "78    3\n",
        "79    4\n",
        "80    6\n",
        "81    8\n",
        "82    4\n",
        "83    7\n",
        "84    4\n",
        "85    6\n",
        "86    8\n",
        "87    7\n",
        "88    6\n",
        "89    3\n",
        "90    8\n",
        "91    6\n",
        "92    5\n",
        "93    5\n",
        "94    6\n",
        "95    5\n",
        "Length: 96"
       ]
      }
     ],
     "prompt_number": 210
    },
    {
     "cell_type": "code",
     "collapsed": false,
     "input": [
      "nn.hist()"
     ],
     "language": "python",
     "metadata": {},
     "outputs": [
      {
       "output_type": "pyout",
       "prompt_number": 211,
       "text": [
        "<matplotlib.axes.AxesSubplot at 0x6174850>"
       ]
      },
      {
       "output_type": "display_data",
       "png": "[encoded data removed]"
      }
     ],
     "prompt_number": 211
    },
    {
     "cell_type": "code",
     "collapsed": false,
     "input": [
      "(nn * 1.).plot(kind='kde')"
     ],
     "language": "python",
     "metadata": {},
     "outputs": [
      {
       "output_type": "pyout",
       "prompt_number": 212,
       "text": [
        "<matplotlib.axes.AxesSubplot at 0x6423710>"
       ]
      },
      {
       "output_type": "display_data",
       "png": "[encoded data removed]"
      }
     ],
     "prompt_number": 212
    },
    {
     "cell_type": "markdown",
     "metadata": {},
     "source": [
      "### Writing to files: GAL"
     ]
    },
    {
     "cell_type": "code",
     "collapsed": false,
     "input": [
      "adam_gal = ps.open(\"data/adam.gal\",'w','gal')"
     ],
     "language": "python",
     "metadata": {},
     "outputs": [],
     "prompt_number": 213
    },
    {
     "cell_type": "code",
     "collapsed": false,
     "input": [
      "adam_gal.write(wq_adam)"
     ],
     "language": "python",
     "metadata": {},
     "outputs": [],
     "prompt_number": 214
    },
    {
     "cell_type": "code",
     "collapsed": false,
     "input": [
      "adam_gal.close()"
     ],
     "language": "python",
     "metadata": {},
     "outputs": [],
     "prompt_number": 215
    },
    {
     "cell_type": "markdown",
     "metadata": {},
     "source": [
      "We can look at the structure of the file by considering only the beginning of the file:"
     ]
    },
    {
     "cell_type": "code",
     "collapsed": false,
     "input": [
      "! head data/adam.gal"
     ],
     "language": "python",
     "metadata": {},
     "outputs": [
      {
       "output_type": "stream",
       "stream": "stdout",
       "text": [
        "96\r\n",
        "0 2\r\n",
        "1 4\r\n",
        "1 8\r\n",
        "0 2 3 4 5 38 48 37\r\n",
        "2 5\r\n",
        "1 3 5 6 7\r\n",
        "3 5\r\n",
        "8 1 2 4 7\r\n",
        "4 7\r\n"
       ]
      }
     ],
     "prompt_number": 216
    },
    {
     "cell_type": "markdown",
     "metadata": {},
     "source": [
      "## Distance Based Weights"
     ]
    },
    {
     "cell_type": "code",
     "collapsed": false,
     "input": [
      "x,y = np.indices((5,5))"
     ],
     "language": "python",
     "metadata": {},
     "outputs": [],
     "prompt_number": 217
    },
    {
     "cell_type": "code",
     "collapsed": false,
     "input": [
      "x.shape = (25,1)\n",
      "y.shape = (25,1)\n",
      "data = np.hstack([x,y])"
     ],
     "language": "python",
     "metadata": {},
     "outputs": [],
     "prompt_number": 218
    },
    {
     "cell_type": "code",
     "collapsed": false,
     "input": [
      "data"
     ],
     "language": "python",
     "metadata": {},
     "outputs": [
      {
       "output_type": "pyout",
       "prompt_number": 219,
       "text": [
        "array([[0, 0],\n",
        "       [0, 1],\n",
        "       [0, 2],\n",
        "       [0, 3],\n",
        "       [0, 4],\n",
        "       [1, 0],\n",
        "       [1, 1],\n",
        "       [1, 2],\n",
        "       [1, 3],\n",
        "       [1, 4],\n",
        "       [2, 0],\n",
        "       [2, 1],\n",
        "       [2, 2],\n",
        "       [2, 3],\n",
        "       [2, 4],\n",
        "       [3, 0],\n",
        "       [3, 1],\n",
        "       [3, 2],\n",
        "       [3, 3],\n",
        "       [3, 4],\n",
        "       [4, 0],\n",
        "       [4, 1],\n",
        "       [4, 2],\n",
        "       [4, 3],\n",
        "       [4, 4]])"
       ]
      }
     ],
     "prompt_number": 219
    },
    {
     "cell_type": "code",
     "collapsed": false,
     "input": [
      "scatter(data[:, 0], data[:, 1])"
     ],
     "language": "python",
     "metadata": {},
     "outputs": [
      {
       "output_type": "pyout",
       "prompt_number": 220,
       "text": [
        "<matplotlib.collections.PathCollection at 0x68c8450>"
       ]
      },
      {
       "output_type": "display_data",
       "png": "[encoded data removed]"
      }
     ],
     "prompt_number": 220
    },
    {
     "cell_type": "markdown",
     "metadata": {},
     "source": [
      "### knn weights"
     ]
    },
    {
     "cell_type": "code",
     "collapsed": false,
     "input": [
      "wknn3 = ps.knnW(data, k = 3)"
     ],
     "language": "python",
     "metadata": {},
     "outputs": [],
     "prompt_number": 221
    },
    {
     "cell_type": "code",
     "collapsed": false,
     "input": [
      "wknn3[0]"
     ],
     "language": "python",
     "metadata": {},
     "outputs": [
      {
       "output_type": "pyout",
       "prompt_number": 222,
       "text": [
        "{1: 1.0, 5: 1.0, 6: 1.0}"
       ]
      }
     ],
     "prompt_number": 222
    },
    {
     "cell_type": "code",
     "collapsed": false,
     "input": [
      "wknn3.histogram"
     ],
     "language": "python",
     "metadata": {},
     "outputs": [
      {
       "output_type": "pyout",
       "prompt_number": 223,
       "text": [
        "[(3, 25)]"
       ]
      }
     ],
     "prompt_number": 223
    },
    {
     "cell_type": "markdown",
     "metadata": {},
     "source": [
      "### Distance Bands"
     ]
    },
    {
     "cell_type": "code",
     "collapsed": false,
     "input": [
      "wdb = ps.threshold_binaryW_from_array(data, 2)"
     ],
     "language": "python",
     "metadata": {},
     "outputs": [],
     "prompt_number": 224
    },
    {
     "cell_type": "code",
     "collapsed": false,
     "input": [
      "wdb[0]"
     ],
     "language": "python",
     "metadata": {},
     "outputs": [
      {
       "output_type": "pyout",
       "prompt_number": 225,
       "text": [
        "{1: 1, 2: 1, 5: 1, 6: 1, 10: 1}"
       ]
      }
     ],
     "prompt_number": 225
    },
    {
     "cell_type": "code",
     "collapsed": false,
     "input": [
      "wdb.histogram"
     ],
     "language": "python",
     "metadata": {},
     "outputs": [
      {
       "output_type": "pyout",
       "prompt_number": 226,
       "text": [
        "[(5, 4), (6, 0), (7, 8), (8, 4), (9, 0), (10, 4), (11, 4), (12, 1)]"
       ]
      }
     ],
     "prompt_number": 226
    },
    {
     "cell_type": "code",
     "collapsed": false,
     "input": [
      "wdb.cardinalities"
     ],
     "language": "python",
     "metadata": {},
     "outputs": [
      {
       "output_type": "pyout",
       "prompt_number": 227,
       "text": [
        "{0: 5,\n",
        " 1: 7,\n",
        " 2: 8,\n",
        " 3: 7,\n",
        " 4: 5,\n",
        " 5: 7,\n",
        " 6: 10,\n",
        " 7: 11,\n",
        " 8: 10,\n",
        " 9: 7,\n",
        " 10: 8,\n",
        " 11: 11,\n",
        " 12: 12,\n",
        " 13: 11,\n",
        " 14: 8,\n",
        " 15: 7,\n",
        " 16: 10,\n",
        " 17: 11,\n",
        " 18: 10,\n",
        " 19: 7,\n",
        " 20: 5,\n",
        " 21: 7,\n",
        " 22: 8,\n",
        " 23: 7,\n",
        " 24: 5}"
       ]
      }
     ],
     "prompt_number": 227
    },
    {
     "cell_type": "markdown",
     "metadata": {},
     "source": [
      "### Writing distance files\n",
      "\n",
      "Distance weights are stored in a different format, the `gwt`. We will first create the `knn` `W` from our shapefile and then write it to a file."
     ]
    },
    {
     "cell_type": "code",
     "collapsed": false,
     "input": [
      "adam_knn5 = ps.knnW_from_shapefile('data/amsterdam_hoods.shp', k=5)"
     ],
     "language": "python",
     "metadata": {},
     "outputs": [],
     "prompt_number": 228
    },
    {
     "cell_type": "code",
     "collapsed": false,
     "input": [
      "adam_gwt = ps.open(\"data/adam.gwt\",'w','gwt')\n",
      "adam_gwt.write(adam_knn5)\n",
      "adam_gwt.close()"
     ],
     "language": "python",
     "metadata": {},
     "outputs": [],
     "prompt_number": 229
    },
    {
     "cell_type": "code",
     "collapsed": false,
     "input": [
      "! head 'data/adam.gwt'"
     ],
     "language": "python",
     "metadata": {},
     "outputs": [
      {
       "output_type": "stream",
       "stream": "stdout",
       "text": [
        "0 96 Unknown Unknown\r\n",
        "0 1      1\r\n",
        "0 2      1\r\n",
        "0 3      1\r\n",
        "0 4      1\r\n",
        "0 7      1\r\n",
        "1 0      1\r\n",
        "1 2      1\r\n",
        "1 3      1\r\n",
        "1 4      1\r\n"
       ]
      }
     ],
     "prompt_number": 230
    }
   ],
   "metadata": {}
  }
 ]
}