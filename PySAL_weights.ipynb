{
 "metadata": {
  "name": "PySAL_weights"
 },
 "nbformat": 3,
 "nbformat_minor": 0,
 "worksheets": [
  {
   "cells": [
    {
     "cell_type": "markdown",
     "metadata": {},
     "source": [
      "# Contributors to this notebook\n",
      "\n",
      "* Daniel Arribas-Bel [@darribas](http://twitter.com/darribas)"
     ]
    },
    {
     "cell_type": "code",
     "collapsed": false,
     "input": [
      "import pysal as ps\n",
      "import numpy as np\n",
      "import pandas as pd"
     ],
     "language": "python",
     "metadata": {},
     "outputs": [],
     "prompt_number": 65
    },
    {
     "cell_type": "heading",
     "level": 1,
     "metadata": {},
     "source": [
      "Regular Lattice Weights "
     ]
    },
    {
     "cell_type": "markdown",
     "metadata": {},
     "source": [
      "The geography we are working with now is a simple lattice:"
     ]
    },
    {
     "cell_type": "code",
     "collapsed": false,
     "input": [
      "xs = np.array(range(5) * 5).flatten()\n",
      "ys = np.array([[i] * 5 for i in range(5)]).flatten()\n",
      "f = figure()\n",
      "ax = f.add_subplot(111)\n",
      "scatter(xs, ys, marker='', color='k')\n",
      "for i in range(5):\n",
      "    axvline(i+0.5, color='k')\n",
      "    axhline(i+0.5, color='k')\n",
      "ax.axes.get_yaxis().set_visible(False)\n",
      "ax.axes.get_xaxis().set_visible(False)\n",
      "ax.set_xlim((-0.5, 4.5))\n",
      "ax.set_ylim((-0.5, 4.5))\n",
      "for i in range(25):\n",
      "    text(xs[i], ys[i], str(i))\n",
      "title(\"Observations\")"
     ],
     "language": "python",
     "metadata": {},
     "outputs": [
      {
       "output_type": "pyout",
       "prompt_number": 66,
       "text": [
        "<matplotlib.text.Text at 0x4444b90>"
       ]
      },
      {
       "output_type": "display_data",
       "png": "[encoded data removed]"
      }
     ],
     "prompt_number": 66
    },
    {
     "cell_type": "markdown",
     "metadata": {},
     "source": [
      "## Rook contiguity\n",
      "\n",
      "To build a simple *rook* contiguity:"
     ]
    },
    {
     "cell_type": "code",
     "collapsed": false,
     "input": [
      "w = ps.lat2W(5, 5)"
     ],
     "language": "python",
     "metadata": {},
     "outputs": [],
     "prompt_number": 67
    },
    {
     "cell_type": "code",
     "collapsed": false,
     "input": [
      "w?"
     ],
     "language": "python",
     "metadata": {},
     "outputs": [],
     "prompt_number": 68
    },
    {
     "cell_type": "markdown",
     "metadata": {},
     "source": [
      "`W` objects in `PySAL` have many attributes:"
     ]
    },
    {
     "cell_type": "code",
     "collapsed": false,
     "input": [
      "w.n"
     ],
     "language": "python",
     "metadata": {},
     "outputs": [
      {
       "output_type": "pyout",
       "prompt_number": 69,
       "text": [
        "25"
       ]
      }
     ],
     "prompt_number": 69
    },
    {
     "cell_type": "code",
     "collapsed": false,
     "input": [
      "w.neighbors"
     ],
     "language": "python",
     "metadata": {},
     "outputs": [
      {
       "output_type": "pyout",
       "prompt_number": 70,
       "text": [
        "{0: [5, 1],\n",
        " 1: [0, 6, 2],\n",
        " 2: [1, 7, 3],\n",
        " 3: [2, 8, 4],\n",
        " 4: [3, 9],\n",
        " 5: [0, 10, 6],\n",
        " 6: [1, 5, 11, 7],\n",
        " 7: [2, 6, 12, 8],\n",
        " 8: [3, 7, 13, 9],\n",
        " 9: [4, 8, 14],\n",
        " 10: [5, 15, 11],\n",
        " 11: [6, 10, 16, 12],\n",
        " 12: [7, 11, 17, 13],\n",
        " 13: [8, 12, 18, 14],\n",
        " 14: [9, 13, 19],\n",
        " 15: [10, 20, 16],\n",
        " 16: [11, 15, 21, 17],\n",
        " 17: [12, 16, 22, 18],\n",
        " 18: [13, 17, 23, 19],\n",
        " 19: [14, 18, 24],\n",
        " 20: [15, 21],\n",
        " 21: [16, 20, 22],\n",
        " 22: [17, 21, 23],\n",
        " 23: [18, 22, 24],\n",
        " 24: [19, 23]}"
       ]
      }
     ],
     "prompt_number": 70
    },
    {
     "cell_type": "code",
     "collapsed": false,
     "input": [
      "w.weights"
     ],
     "language": "python",
     "metadata": {},
     "outputs": [
      {
       "output_type": "pyout",
       "prompt_number": 71,
       "text": [
        "{0: [1.0, 1.0],\n",
        " 1: [1.0, 1.0, 1.0],\n",
        " 2: [1.0, 1.0, 1.0],\n",
        " 3: [1.0, 1.0, 1.0],\n",
        " 4: [1.0, 1.0],\n",
        " 5: [1.0, 1.0, 1.0],\n",
        " 6: [1.0, 1.0, 1.0, 1.0],\n",
        " 7: [1.0, 1.0, 1.0, 1.0],\n",
        " 8: [1.0, 1.0, 1.0, 1.0],\n",
        " 9: [1.0, 1.0, 1.0],\n",
        " 10: [1.0, 1.0, 1.0],\n",
        " 11: [1.0, 1.0, 1.0, 1.0],\n",
        " 12: [1.0, 1.0, 1.0, 1.0],\n",
        " 13: [1.0, 1.0, 1.0, 1.0],\n",
        " 14: [1.0, 1.0, 1.0],\n",
        " 15: [1.0, 1.0, 1.0],\n",
        " 16: [1.0, 1.0, 1.0, 1.0],\n",
        " 17: [1.0, 1.0, 1.0, 1.0],\n",
        " 18: [1.0, 1.0, 1.0, 1.0],\n",
        " 19: [1.0, 1.0, 1.0],\n",
        " 20: [1.0, 1.0],\n",
        " 21: [1.0, 1.0, 1.0],\n",
        " 22: [1.0, 1.0, 1.0],\n",
        " 23: [1.0, 1.0, 1.0],\n",
        " 24: [1.0, 1.0]}"
       ]
      }
     ],
     "prompt_number": 71
    },
    {
     "cell_type": "code",
     "collapsed": false,
     "input": [
      "w[0]"
     ],
     "language": "python",
     "metadata": {},
     "outputs": [
      {
       "output_type": "pyout",
       "prompt_number": 72,
       "text": [
        "{1: 1.0, 5: 1.0}"
       ]
      }
     ],
     "prompt_number": 72
    },
    {
     "cell_type": "markdown",
     "metadata": {},
     "source": [
      "$s_0 = \\sum_i \\sum_j w_{i,j}$"
     ]
    },
    {
     "cell_type": "code",
     "collapsed": false,
     "input": [
      "w.s0"
     ],
     "language": "python",
     "metadata": {},
     "outputs": [
      {
       "output_type": "pyout",
       "prompt_number": 73,
       "text": [
        "80.0"
       ]
      }
     ],
     "prompt_number": 73
    },
    {
     "cell_type": "code",
     "collapsed": false,
     "input": [
      "w.histogram"
     ],
     "language": "python",
     "metadata": {},
     "outputs": [
      {
       "output_type": "pyout",
       "prompt_number": 74,
       "text": [
        "[(2, 4), (3, 12), (4, 9)]"
       ]
      }
     ],
     "prompt_number": 74
    },
    {
     "cell_type": "code",
     "collapsed": false,
     "input": [
      "np.sum( [ c[0]*c[1] for c in w.histogram ] )"
     ],
     "language": "python",
     "metadata": {},
     "outputs": [
      {
       "output_type": "pyout",
       "prompt_number": 75,
       "text": [
        "80"
       ]
      }
     ],
     "prompt_number": 75
    },
    {
     "cell_type": "code",
     "collapsed": false,
     "input": [
      "w.pct_nonzero"
     ],
     "language": "python",
     "metadata": {},
     "outputs": [
      {
       "output_type": "pyout",
       "prompt_number": 76,
       "text": [
        "0.128"
       ]
      }
     ],
     "prompt_number": 76
    },
    {
     "cell_type": "markdown",
     "metadata": {},
     "source": [
      "$\\text{pct nonzero} = s_0 / n^2$"
     ]
    },
    {
     "cell_type": "code",
     "collapsed": false,
     "input": [
      "w.s0 / w.n**2"
     ],
     "language": "python",
     "metadata": {},
     "outputs": [
      {
       "output_type": "pyout",
       "prompt_number": 77,
       "text": [
        "0.128"
       ]
      }
     ],
     "prompt_number": 77
    },
    {
     "cell_type": "code",
     "collapsed": false,
     "input": [
      "full, id_order = w.full()\n",
      "full"
     ],
     "language": "python",
     "metadata": {},
     "outputs": [
      {
       "output_type": "pyout",
       "prompt_number": 78,
       "text": [
        "array([[ 0.,  1.,  0.,  0.,  0.,  1.,  0.,  0.,  0.,  0.,  0.,  0.,  0.,\n",
        "         0.,  0.,  0.,  0.,  0.,  0.,  0.,  0.,  0.,  0.,  0.,  0.],\n",
        "       [ 1.,  0.,  1.,  0.,  0.,  0.,  1.,  0.,  0.,  0.,  0.,  0.,  0.,\n",
        "         0.,  0.,  0.,  0.,  0.,  0.,  0.,  0.,  0.,  0.,  0.,  0.],\n",
        "       [ 0.,  1.,  0.,  1.,  0.,  0.,  0.,  1.,  0.,  0.,  0.,  0.,  0.,\n",
        "         0.,  0.,  0.,  0.,  0.,  0.,  0.,  0.,  0.,  0.,  0.,  0.],\n",
        "       [ 0.,  0.,  1.,  0.,  1.,  0.,  0.,  0.,  1.,  0.,  0.,  0.,  0.,\n",
        "         0.,  0.,  0.,  0.,  0.,  0.,  0.,  0.,  0.,  0.,  0.,  0.],\n",
        "       [ 0.,  0.,  0.,  1.,  0.,  0.,  0.,  0.,  0.,  1.,  0.,  0.,  0.,\n",
        "         0.,  0.,  0.,  0.,  0.,  0.,  0.,  0.,  0.,  0.,  0.,  0.],\n",
        "       [ 1.,  0.,  0.,  0.,  0.,  0.,  1.,  0.,  0.,  0.,  1.,  0.,  0.,\n",
        "         0.,  0.,  0.,  0.,  0.,  0.,  0.,  0.,  0.,  0.,  0.,  0.],\n",
        "       [ 0.,  1.,  0.,  0.,  0.,  1.,  0.,  1.,  0.,  0.,  0.,  1.,  0.,\n",
        "         0.,  0.,  0.,  0.,  0.,  0.,  0.,  0.,  0.,  0.,  0.,  0.],\n",
        "       [ 0.,  0.,  1.,  0.,  0.,  0.,  1.,  0.,  1.,  0.,  0.,  0.,  1.,\n",
        "         0.,  0.,  0.,  0.,  0.,  0.,  0.,  0.,  0.,  0.,  0.,  0.],\n",
        "       [ 0.,  0.,  0.,  1.,  0.,  0.,  0.,  1.,  0.,  1.,  0.,  0.,  0.,\n",
        "         1.,  0.,  0.,  0.,  0.,  0.,  0.,  0.,  0.,  0.,  0.,  0.],\n",
        "       [ 0.,  0.,  0.,  0.,  1.,  0.,  0.,  0.,  1.,  0.,  0.,  0.,  0.,\n",
        "         0.,  1.,  0.,  0.,  0.,  0.,  0.,  0.,  0.,  0.,  0.,  0.],\n",
        "       [ 0.,  0.,  0.,  0.,  0.,  1.,  0.,  0.,  0.,  0.,  0.,  1.,  0.,\n",
        "         0.,  0.,  1.,  0.,  0.,  0.,  0.,  0.,  0.,  0.,  0.,  0.],\n",
        "       [ 0.,  0.,  0.,  0.,  0.,  0.,  1.,  0.,  0.,  0.,  1.,  0.,  1.,\n",
        "         0.,  0.,  0.,  1.,  0.,  0.,  0.,  0.,  0.,  0.,  0.,  0.],\n",
        "       [ 0.,  0.,  0.,  0.,  0.,  0.,  0.,  1.,  0.,  0.,  0.,  1.,  0.,\n",
        "         1.,  0.,  0.,  0.,  1.,  0.,  0.,  0.,  0.,  0.,  0.,  0.],\n",
        "       [ 0.,  0.,  0.,  0.,  0.,  0.,  0.,  0.,  1.,  0.,  0.,  0.,  1.,\n",
        "         0.,  1.,  0.,  0.,  0.,  1.,  0.,  0.,  0.,  0.,  0.,  0.],\n",
        "       [ 0.,  0.,  0.,  0.,  0.,  0.,  0.,  0.,  0.,  1.,  0.,  0.,  0.,\n",
        "         1.,  0.,  0.,  0.,  0.,  0.,  1.,  0.,  0.,  0.,  0.,  0.],\n",
        "       [ 0.,  0.,  0.,  0.,  0.,  0.,  0.,  0.,  0.,  0.,  1.,  0.,  0.,\n",
        "         0.,  0.,  0.,  1.,  0.,  0.,  0.,  1.,  0.,  0.,  0.,  0.],\n",
        "       [ 0.,  0.,  0.,  0.,  0.,  0.,  0.,  0.,  0.,  0.,  0.,  1.,  0.,\n",
        "         0.,  0.,  1.,  0.,  1.,  0.,  0.,  0.,  1.,  0.,  0.,  0.],\n",
        "       [ 0.,  0.,  0.,  0.,  0.,  0.,  0.,  0.,  0.,  0.,  0.,  0.,  1.,\n",
        "         0.,  0.,  0.,  1.,  0.,  1.,  0.,  0.,  0.,  1.,  0.,  0.],\n",
        "       [ 0.,  0.,  0.,  0.,  0.,  0.,  0.,  0.,  0.,  0.,  0.,  0.,  0.,\n",
        "         1.,  0.,  0.,  0.,  1.,  0.,  1.,  0.,  0.,  0.,  1.,  0.],\n",
        "       [ 0.,  0.,  0.,  0.,  0.,  0.,  0.,  0.,  0.,  0.,  0.,  0.,  0.,\n",
        "         0.,  1.,  0.,  0.,  0.,  1.,  0.,  0.,  0.,  0.,  0.,  1.],\n",
        "       [ 0.,  0.,  0.,  0.,  0.,  0.,  0.,  0.,  0.,  0.,  0.,  0.,  0.,\n",
        "         0.,  0.,  1.,  0.,  0.,  0.,  0.,  0.,  1.,  0.,  0.,  0.],\n",
        "       [ 0.,  0.,  0.,  0.,  0.,  0.,  0.,  0.,  0.,  0.,  0.,  0.,  0.,\n",
        "         0.,  0.,  0.,  1.,  0.,  0.,  0.,  1.,  0.,  1.,  0.,  0.],\n",
        "       [ 0.,  0.,  0.,  0.,  0.,  0.,  0.,  0.,  0.,  0.,  0.,  0.,  0.,\n",
        "         0.,  0.,  0.,  0.,  1.,  0.,  0.,  0.,  1.,  0.,  1.,  0.],\n",
        "       [ 0.,  0.,  0.,  0.,  0.,  0.,  0.,  0.,  0.,  0.,  0.,  0.,  0.,\n",
        "         0.,  0.,  0.,  0.,  0.,  1.,  0.,  0.,  0.,  1.,  0.,  1.],\n",
        "       [ 0.,  0.,  0.,  0.,  0.,  0.,  0.,  0.,  0.,  0.,  0.,  0.,  0.,\n",
        "         0.,  0.,  0.,  0.,  0.,  0.,  1.,  0.,  0.,  0.,  1.,  0.]])"
       ]
      }
     ],
     "prompt_number": 78
    },
    {
     "cell_type": "code",
     "collapsed": true,
     "input": [
      "id_order"
     ],
     "language": "python",
     "metadata": {},
     "outputs": [
      {
       "output_type": "pyout",
       "prompt_number": 79,
       "text": [
        "[0,\n",
        " 1,\n",
        " 2,\n",
        " 3,\n",
        " 4,\n",
        " 5,\n",
        " 6,\n",
        " 7,\n",
        " 8,\n",
        " 9,\n",
        " 10,\n",
        " 11,\n",
        " 12,\n",
        " 13,\n",
        " 14,\n",
        " 15,\n",
        " 16,\n",
        " 17,\n",
        " 18,\n",
        " 19,\n",
        " 20,\n",
        " 21,\n",
        " 22,\n",
        " 23,\n",
        " 24]"
       ]
      }
     ],
     "prompt_number": 79
    },
    {
     "cell_type": "code",
     "collapsed": false,
     "input": [
      "w.sparse"
     ],
     "language": "python",
     "metadata": {},
     "outputs": [
      {
       "output_type": "pyout",
       "prompt_number": 80,
       "text": [
        "<25x25 sparse matrix of type '<type 'numpy.float64'>'\n",
        "\twith 80 stored elements in Compressed Sparse Row format>"
       ]
      }
     ],
     "prompt_number": 80
    },
    {
     "cell_type": "markdown",
     "metadata": {},
     "source": [
      "If we are working with very large datasets, we might want to create a sparse object directly to save up on memory:"
     ]
    },
    {
     "cell_type": "code",
     "collapsed": false,
     "input": [
      "ws = ps.weights.lat2SW(5, 5)\n",
      "ws"
     ],
     "language": "python",
     "metadata": {},
     "outputs": [
      {
       "output_type": "pyout",
       "prompt_number": 81,
       "text": [
        "<25x25 sparse matrix of type '<type 'numpy.int8'>'\n",
        "\twith 80 stored elements in Compressed Sparse Row format>"
       ]
      }
     ],
     "prompt_number": 81
    },
    {
     "cell_type": "markdown",
     "metadata": {},
     "source": [
      "## Queen Contiguity"
     ]
    },
    {
     "cell_type": "code",
     "collapsed": false,
     "input": [
      "wq = ps.lat2W(5, 5, rook=False)"
     ],
     "language": "python",
     "metadata": {},
     "outputs": [],
     "prompt_number": 82
    },
    {
     "cell_type": "code",
     "collapsed": false,
     "input": [
      "wq.s0"
     ],
     "language": "python",
     "metadata": {},
     "outputs": [
      {
       "output_type": "pyout",
       "prompt_number": 83,
       "text": [
        "144.0"
       ]
      }
     ],
     "prompt_number": 83
    },
    {
     "cell_type": "code",
     "collapsed": false,
     "input": [
      "wq.histogram"
     ],
     "language": "python",
     "metadata": {},
     "outputs": [
      {
       "output_type": "pyout",
       "prompt_number": 84,
       "text": [
        "[(3, 4), (4, 0), (5, 12), (6, 0), (7, 0), (8, 9)]"
       ]
      }
     ],
     "prompt_number": 84
    },
    {
     "cell_type": "code",
     "collapsed": false,
     "input": [
      "np.sum( [ c[0] * c[1] for c in wq.histogram ] )"
     ],
     "language": "python",
     "metadata": {},
     "outputs": [
      {
       "output_type": "pyout",
       "prompt_number": 85,
       "text": [
        "144"
       ]
      }
     ],
     "prompt_number": 85
    },
    {
     "cell_type": "code",
     "collapsed": false,
     "input": [
      "wq.pct_nonzero"
     ],
     "language": "python",
     "metadata": {},
     "outputs": [
      {
       "output_type": "pyout",
       "prompt_number": 86,
       "text": [
        "0.23039999999999999"
       ]
      }
     ],
     "prompt_number": 86
    },
    {
     "cell_type": "code",
     "collapsed": false,
     "input": [
      "144. / wq.n**2"
     ],
     "language": "python",
     "metadata": {},
     "outputs": [
      {
       "output_type": "pyout",
       "prompt_number": 87,
       "text": [
        "0.2304"
       ]
      }
     ],
     "prompt_number": 87
    },
    {
     "cell_type": "heading",
     "level": 2,
     "metadata": {},
     "source": [
      "Bishop"
     ]
    },
    {
     "cell_type": "code",
     "collapsed": false,
     "input": [
      "wb = ps.w_difference(wq,w, constrained = False)"
     ],
     "language": "python",
     "metadata": {},
     "outputs": [],
     "prompt_number": 88
    },
    {
     "cell_type": "code",
     "collapsed": false,
     "input": [
      "wb.n"
     ],
     "language": "python",
     "metadata": {},
     "outputs": [
      {
       "output_type": "pyout",
       "prompt_number": 89,
       "text": [
        "25"
       ]
      }
     ],
     "prompt_number": 89
    },
    {
     "cell_type": "code",
     "collapsed": false,
     "input": [
      "wb.s0"
     ],
     "language": "python",
     "metadata": {},
     "outputs": [
      {
       "output_type": "pyout",
       "prompt_number": 90,
       "text": [
        "64.0"
       ]
      }
     ],
     "prompt_number": 90
    },
    {
     "cell_type": "code",
     "collapsed": false,
     "input": [
      "wq[0]"
     ],
     "language": "python",
     "metadata": {},
     "outputs": [
      {
       "output_type": "pyout",
       "prompt_number": 91,
       "text": [
        "{1: 1.0, 5: 1.0, 6: 1.0}"
       ]
      }
     ],
     "prompt_number": 91
    },
    {
     "cell_type": "code",
     "collapsed": false,
     "input": [
      "w[0]"
     ],
     "language": "python",
     "metadata": {},
     "outputs": [
      {
       "output_type": "pyout",
       "prompt_number": 92,
       "text": [
        "{1: 1.0, 5: 1.0}"
       ]
      }
     ],
     "prompt_number": 92
    },
    {
     "cell_type": "code",
     "collapsed": false,
     "input": [
      "wb[0]"
     ],
     "language": "python",
     "metadata": {},
     "outputs": [
      {
       "output_type": "pyout",
       "prompt_number": 93,
       "text": [
        "{6: 1.0}"
       ]
      }
     ],
     "prompt_number": 93
    },
    {
     "cell_type": "code",
     "collapsed": false,
     "input": [
      "ps.w_difference?"
     ],
     "language": "python",
     "metadata": {},
     "outputs": [],
     "prompt_number": 94
    },
    {
     "cell_type": "code",
     "collapsed": false,
     "input": [
      "wb.histogram"
     ],
     "language": "python",
     "metadata": {},
     "outputs": [
      {
       "output_type": "pyout",
       "prompt_number": 95,
       "text": [
        "[(1, 4), (2, 12), (3, 0), (4, 9)]"
       ]
      }
     ],
     "prompt_number": 95
    },
    {
     "cell_type": "heading",
     "level": 2,
     "metadata": {},
     "source": [
      "Spatial Lag"
     ]
    },
    {
     "cell_type": "markdown",
     "metadata": {},
     "source": [
      "$l_i = \\sum_{i,j} w_{i,j} y_j$"
     ]
    },
    {
     "cell_type": "code",
     "collapsed": false,
     "input": [
      "y = np.random.randint(low=0, high=100, size=w.n) * 1.\n",
      "y"
     ],
     "language": "python",
     "metadata": {},
     "outputs": [
      {
       "output_type": "pyout",
       "prompt_number": 96,
       "text": [
        "array([ 29.,  56.,   4.,  91.,   8.,   2.,  98.,  38.,  60.,  76.,  67.,\n",
        "        32.,  30.,  62.,   7.,   1.,  85.,  65.,  87.,  67.,  95.,  23.,\n",
        "        98.,  92.,  78.])"
       ]
      }
     ],
     "prompt_number": 96
    },
    {
     "cell_type": "code",
     "collapsed": false,
     "input": [
      "xs = np.array(range(5) * 5).flatten()\n",
      "ys = np.array([[i] * 5 for i in range(5)]).flatten()\n",
      "f = figure()\n",
      "ax = f.add_subplot(111)\n",
      "scatter(xs, ys, marker='', color='k')\n",
      "for i in range(5):\n",
      "    axvline(i+0.5, color='k')\n",
      "    axhline(i+0.5, color='k')\n",
      "ax.axes.get_yaxis().set_visible(False)\n",
      "ax.axes.get_xaxis().set_visible(False)\n",
      "ax.set_xlim((-0.5, 4.5))\n",
      "ax.set_ylim((-0.5, 4.5))\n",
      "for i in range(25):\n",
      "    text(xs[i], ys[i], \"%s | %s\"%(str(i), y[i]), horizontalalignment='center',\n",
      "         verticalalignment='center')\n",
      "title('Distribution of Y')"
     ],
     "language": "python",
     "metadata": {},
     "outputs": [
      {
       "output_type": "pyout",
       "prompt_number": 97,
       "text": [
        "<matplotlib.text.Text at 0x4694050>"
       ]
      },
      {
       "output_type": "display_data",
       "png": "[encoded data removed]"
      }
     ],
     "prompt_number": 97
    },
    {
     "cell_type": "code",
     "collapsed": false,
     "input": [
      "wy = ps.lag_spatial(w,y)\n",
      "wy"
     ],
     "language": "python",
     "metadata": {},
     "outputs": [
      {
       "output_type": "pyout",
       "prompt_number": 98,
       "text": [
        "array([  58.,  131.,  185.,   72.,  167.,  194.,  128.,  192.,  267.,\n",
        "         75.,   35.,  280.,  197.,  184.,  205.,  247.,  121.,  300.,\n",
        "        286.,  172.,   24.,  278.,  180.,  263.,  159.])"
       ]
      }
     ],
     "prompt_number": 98
    },
    {
     "cell_type": "code",
     "collapsed": false,
     "input": [
      "xs = np.array(range(5) * 5).flatten()\n",
      "ys = np.array([[i] * 5 for i in range(5)]).flatten()\n",
      "f = figure()\n",
      "ax = f.add_subplot(111)\n",
      "scatter(xs, ys, marker='', color='k')\n",
      "for i in range(5):\n",
      "    axvline(i+0.5, color='k')\n",
      "    axhline(i+0.5, color='k')\n",
      "ax.axes.get_yaxis().set_visible(False)\n",
      "ax.axes.get_xaxis().set_visible(False)\n",
      "ax.set_xlim((-0.5, 4.5))\n",
      "ax.set_ylim((-0.5, 4.5))\n",
      "for i in range(25):\n",
      "    text(xs[i], ys[i], \"%s | %s\"%(str(i), wy[i]), horizontalalignment='center',\n",
      "         verticalalignment='center')\n",
      "title(\"Spatial lag Y\")"
     ],
     "language": "python",
     "metadata": {},
     "outputs": [
      {
       "output_type": "pyout",
       "prompt_number": 99,
       "text": [
        "<matplotlib.text.Text at 0x4893f90>"
       ]
      },
      {
       "output_type": "display_data",
       "png": "[encoded data removed]"
      }
     ],
     "prompt_number": 99
    },
    {
     "cell_type": "code",
     "collapsed": false,
     "input": [
      "w[0]"
     ],
     "language": "python",
     "metadata": {},
     "outputs": [
      {
       "output_type": "pyout",
       "prompt_number": 100,
       "text": [
        "{1: 1.0, 5: 1.0}"
       ]
      }
     ],
     "prompt_number": 100
    },
    {
     "cell_type": "code",
     "collapsed": false,
     "input": [
      "y[[1,5]]"
     ],
     "language": "python",
     "metadata": {},
     "outputs": [
      {
       "output_type": "pyout",
       "prompt_number": 101,
       "text": [
        "array([ 56.,   2.])"
       ]
      }
     ],
     "prompt_number": 101
    },
    {
     "cell_type": "code",
     "collapsed": false,
     "input": [
      "y *= 10"
     ],
     "language": "python",
     "metadata": {},
     "outputs": [],
     "prompt_number": 102
    },
    {
     "cell_type": "code",
     "collapsed": false,
     "input": [
      "y"
     ],
     "language": "python",
     "metadata": {},
     "outputs": [
      {
       "output_type": "pyout",
       "prompt_number": 103,
       "text": [
        "array([ 290.,  560.,   40.,  910.,   80.,   20.,  980.,  380.,  600.,\n",
        "        760.,  670.,  320.,  300.,  620.,   70.,   10.,  850.,  650.,\n",
        "        870.,  670.,  950.,  230.,  980.,  920.,  780.])"
       ]
      }
     ],
     "prompt_number": 103
    },
    {
     "cell_type": "code",
     "collapsed": false,
     "input": [
      "wy = ps.lag_spatial(w,y)"
     ],
     "language": "python",
     "metadata": {},
     "outputs": [],
     "prompt_number": 104
    },
    {
     "cell_type": "code",
     "collapsed": false,
     "input": [
      "wy"
     ],
     "language": "python",
     "metadata": {},
     "outputs": [
      {
       "output_type": "pyout",
       "prompt_number": 105,
       "text": [
        "array([  580.,  1310.,  1850.,   720.,  1670.,  1940.,  1280.,  1920.,\n",
        "        2670.,   750.,   350.,  2800.,  1970.,  1840.,  2050.,  2470.,\n",
        "        1210.,  3000.,  2860.,  1720.,   240.,  2780.,  1800.,  2630.,\n",
        "        1590.])"
       ]
      }
     ],
     "prompt_number": 105
    },
    {
     "cell_type": "code",
     "collapsed": false,
     "input": [
      "w[0]"
     ],
     "language": "python",
     "metadata": {},
     "outputs": [
      {
       "output_type": "pyout",
       "prompt_number": 106,
       "text": [
        "{1: 1.0, 5: 1.0}"
       ]
      }
     ],
     "prompt_number": 106
    },
    {
     "cell_type": "code",
     "collapsed": false,
     "input": [
      "y[[1,5]]"
     ],
     "language": "python",
     "metadata": {},
     "outputs": [
      {
       "output_type": "pyout",
       "prompt_number": 107,
       "text": [
        "array([ 560.,   20.])"
       ]
      }
     ],
     "prompt_number": 107
    },
    {
     "cell_type": "code",
     "collapsed": false,
     "input": [
      "y[[1,5]].sum()"
     ],
     "language": "python",
     "metadata": {},
     "outputs": [
      {
       "output_type": "pyout",
       "prompt_number": 108,
       "text": [
        "580.0"
       ]
      }
     ],
     "prompt_number": 108
    },
    {
     "cell_type": "markdown",
     "metadata": {},
     "source": [
      "In order to obtain averages around an observation, standardize `W`:"
     ]
    },
    {
     "cell_type": "markdown",
     "metadata": {},
     "source": [
      "${w}_{i,j}^* = w_{i,j} / \\sum_j w_{i,j}$"
     ]
    },
    {
     "cell_type": "code",
     "collapsed": false,
     "input": [
      "print w.transform\n",
      "w.transform = 'R'\n",
      "print w.transform"
     ],
     "language": "python",
     "metadata": {},
     "outputs": [
      {
       "output_type": "stream",
       "stream": "stdout",
       "text": [
        "O\n",
        "R\n"
       ]
      }
     ],
     "prompt_number": 109
    },
    {
     "cell_type": "code",
     "collapsed": true,
     "input": [
      "w.weights"
     ],
     "language": "python",
     "metadata": {},
     "outputs": [
      {
       "output_type": "pyout",
       "prompt_number": 110,
       "text": [
        "{0: [0.5, 0.5],\n",
        " 1: [0.3333333333333333, 0.3333333333333333, 0.3333333333333333],\n",
        " 2: [0.3333333333333333, 0.3333333333333333, 0.3333333333333333],\n",
        " 3: [0.3333333333333333, 0.3333333333333333, 0.3333333333333333],\n",
        " 4: [0.5, 0.5],\n",
        " 5: [0.3333333333333333, 0.3333333333333333, 0.3333333333333333],\n",
        " 6: [0.25, 0.25, 0.25, 0.25],\n",
        " 7: [0.25, 0.25, 0.25, 0.25],\n",
        " 8: [0.25, 0.25, 0.25, 0.25],\n",
        " 9: [0.3333333333333333, 0.3333333333333333, 0.3333333333333333],\n",
        " 10: [0.3333333333333333, 0.3333333333333333, 0.3333333333333333],\n",
        " 11: [0.25, 0.25, 0.25, 0.25],\n",
        " 12: [0.25, 0.25, 0.25, 0.25],\n",
        " 13: [0.25, 0.25, 0.25, 0.25],\n",
        " 14: [0.3333333333333333, 0.3333333333333333, 0.3333333333333333],\n",
        " 15: [0.3333333333333333, 0.3333333333333333, 0.3333333333333333],\n",
        " 16: [0.25, 0.25, 0.25, 0.25],\n",
        " 17: [0.25, 0.25, 0.25, 0.25],\n",
        " 18: [0.25, 0.25, 0.25, 0.25],\n",
        " 19: [0.3333333333333333, 0.3333333333333333, 0.3333333333333333],\n",
        " 20: [0.5, 0.5],\n",
        " 21: [0.3333333333333333, 0.3333333333333333, 0.3333333333333333],\n",
        " 22: [0.3333333333333333, 0.3333333333333333, 0.3333333333333333],\n",
        " 23: [0.3333333333333333, 0.3333333333333333, 0.3333333333333333],\n",
        " 24: [0.5, 0.5]}"
       ]
      }
     ],
     "prompt_number": 110
    },
    {
     "cell_type": "code",
     "collapsed": false,
     "input": [
      "wry = ps.lag_spatial(w,y)"
     ],
     "language": "python",
     "metadata": {},
     "outputs": [],
     "prompt_number": 111
    },
    {
     "cell_type": "code",
     "collapsed": false,
     "input": [
      "wry"
     ],
     "language": "python",
     "metadata": {},
     "outputs": [
      {
       "output_type": "pyout",
       "prompt_number": 112,
       "text": [
        "array([ 290.        ,  436.66666667,  616.66666667,  240.        ,\n",
        "        835.        ,  646.66666667,  320.        ,  480.        ,\n",
        "        667.5       ,  250.        ,  116.66666667,  700.        ,\n",
        "        492.5       ,  460.        ,  683.33333333,  823.33333333,\n",
        "        302.5       ,  750.        ,  715.        ,  573.33333333,\n",
        "        120.        ,  926.66666667,  600.        ,  876.66666667,  795.        ])"
       ]
      }
     ],
     "prompt_number": 112
    },
    {
     "cell_type": "code",
     "collapsed": false,
     "input": [
      "xs = np.array(range(5) * 5).flatten()\n",
      "ys = np.array([[i] * 5 for i in range(5)]).flatten()\n",
      "f = figure()\n",
      "ax = f.add_subplot(111)\n",
      "scatter(xs, ys, marker='', color='k')\n",
      "for i in range(5):\n",
      "    axvline(i+0.5, color='k')\n",
      "    axhline(i+0.5, color='k')\n",
      "ax.axes.get_yaxis().set_visible(False)\n",
      "ax.axes.get_xaxis().set_visible(False)\n",
      "ax.set_xlim((-0.5, 4.5))\n",
      "ax.set_ylim((-0.5, 4.5))\n",
      "for i in range(25):\n",
      "    text(xs[i], ys[i], \"%s | %s\"%(str(i), np.round(wry[i], 2)), horizontalalignment='center',\n",
      "         verticalalignment='center')\n",
      "title(\"Standardized spatial lag Y\")"
     ],
     "language": "python",
     "metadata": {},
     "outputs": [
      {
       "output_type": "pyout",
       "prompt_number": 113,
       "text": [
        "<matplotlib.text.Text at 0x4b79210>"
       ]
      },
      {
       "output_type": "display_data",
       "png": "[encoded data removed]"
      }
     ],
     "prompt_number": 113
    },
    {
     "cell_type": "code",
     "collapsed": false,
     "input": [
      "w[24]"
     ],
     "language": "python",
     "metadata": {},
     "outputs": [
      {
       "output_type": "pyout",
       "prompt_number": 114,
       "text": [
        "{19: 0.5, 23: 0.5}"
       ]
      }
     ],
     "prompt_number": 114
    },
    {
     "cell_type": "code",
     "collapsed": false,
     "input": [
      "y[[19,23]].mean()"
     ],
     "language": "python",
     "metadata": {},
     "outputs": [
      {
       "output_type": "pyout",
       "prompt_number": 115,
       "text": [
        "795.0"
       ]
      }
     ],
     "prompt_number": 115
    },
    {
     "cell_type": "markdown",
     "metadata": {},
     "source": [
      "# Weights From External Files\n",
      "\n",
      "With these concepts in mind, let's apply them to real world data. We will revisit the neighborhood checkin dataset from Amsterdam."
     ]
    },
    {
     "cell_type": "markdown",
     "metadata": {},
     "source": [
      "## shapefiles"
     ]
    },
    {
     "cell_type": "code",
     "collapsed": false,
     "input": [
      "w_adam = ps.rook_from_shapefile('data/amsterdam_hoods.shp')"
     ],
     "language": "python",
     "metadata": {},
     "outputs": [],
     "prompt_number": 116
    },
    {
     "cell_type": "code",
     "collapsed": false,
     "input": [
      "w_adam.n"
     ],
     "language": "python",
     "metadata": {},
     "outputs": [
      {
       "output_type": "pyout",
       "prompt_number": 117,
       "text": [
        "96"
       ]
      }
     ],
     "prompt_number": 117
    },
    {
     "cell_type": "code",
     "collapsed": false,
     "input": [
      "w_adam.pct_nonzero"
     ],
     "language": "python",
     "metadata": {},
     "outputs": [
      {
       "output_type": "pyout",
       "prompt_number": 118,
       "text": [
        "0.051215277777777776"
       ]
      }
     ],
     "prompt_number": 118
    },
    {
     "cell_type": "code",
     "collapsed": false,
     "input": [
      "wq_adam = ps.queen_from_shapefile('data/amsterdam_hoods.shp')"
     ],
     "language": "python",
     "metadata": {},
     "outputs": [],
     "prompt_number": 119
    },
    {
     "cell_type": "code",
     "collapsed": false,
     "input": [
      "wq_adam.pct_nonzero"
     ],
     "language": "python",
     "metadata": {},
     "outputs": [
      {
       "output_type": "pyout",
       "prompt_number": 120,
       "text": [
        "0.056206597222222224"
       ]
      }
     ],
     "prompt_number": 120
    },
    {
     "cell_type": "code",
     "collapsed": false,
     "input": [
      "w_adam.histogram"
     ],
     "language": "python",
     "metadata": {},
     "outputs": [
      {
       "output_type": "pyout",
       "prompt_number": 121,
       "text": [
        "[(0, 1),\n",
        " (1, 2),\n",
        " (2, 6),\n",
        " (3, 8),\n",
        " (4, 23),\n",
        " (5, 22),\n",
        " (6, 14),\n",
        " (7, 13),\n",
        " (8, 6),\n",
        " (9, 1)]"
       ]
      }
     ],
     "prompt_number": 121
    },
    {
     "cell_type": "code",
     "collapsed": false,
     "input": [
      "wq_adam.histogram"
     ],
     "language": "python",
     "metadata": {},
     "outputs": [
      {
       "output_type": "pyout",
       "prompt_number": 122,
       "text": [
        "[(0, 1),\n",
        " (1, 2),\n",
        " (2, 4),\n",
        " (3, 7),\n",
        " (4, 18),\n",
        " (5, 21),\n",
        " (6, 13),\n",
        " (7, 13),\n",
        " (8, 12),\n",
        " (9, 5)]"
       ]
      }
     ],
     "prompt_number": 122
    },
    {
     "cell_type": "markdown",
     "metadata": {},
     "source": [
      "Let's visualize the cardinalities of both weight structures"
     ]
    },
    {
     "cell_type": "code",
     "collapsed": false,
     "input": [
      "wh = np.array(w_adam.histogram)"
     ],
     "language": "python",
     "metadata": {},
     "outputs": [],
     "prompt_number": 123
    },
    {
     "cell_type": "code",
     "collapsed": false,
     "input": [
      "bar(wh[:,0],wh[:,1])"
     ],
     "language": "python",
     "metadata": {},
     "outputs": [
      {
       "output_type": "pyout",
       "prompt_number": 124,
       "text": [
        "<Container object of 10 artists>"
       ]
      },
      {
       "output_type": "display_data",
       "png": "[encoded data removed]"
      }
     ],
     "prompt_number": 124
    },
    {
     "cell_type": "code",
     "collapsed": false,
     "input": [
      "whq_adam = np.array(wq_adam.histogram)"
     ],
     "language": "python",
     "metadata": {},
     "outputs": [],
     "prompt_number": 125
    },
    {
     "cell_type": "code",
     "collapsed": false,
     "input": [
      "bar(wh[:,0],wh[:,1])"
     ],
     "language": "python",
     "metadata": {},
     "outputs": [
      {
       "output_type": "pyout",
       "prompt_number": 126,
       "text": [
        "<Container object of 10 artists>"
       ]
      },
      {
       "output_type": "display_data",
       "png": "[encoded data removed]"
      }
     ],
     "prompt_number": 126
    },
    {
     "cell_type": "markdown",
     "metadata": {},
     "source": [
      "An alternative is to consider directly the number of neighbors every observation has, read it into a `pandas.Series` and plot a histogram/density kernel of it:"
     ]
    },
    {
     "cell_type": "code",
     "collapsed": true,
     "input": [
      "nn = pd.Series(wq_adam.cardinalities.values())\n",
      "nn"
     ],
     "language": "python",
     "metadata": {},
     "outputs": [
      {
       "output_type": "pyout",
       "prompt_number": 127,
       "text": [
        "0     2\n",
        "1     8\n",
        "2     5\n",
        "3     5\n",
        "4     7\n",
        "5     8\n",
        "6     8\n",
        "7     9\n",
        "8     8\n",
        "9     5\n",
        "10    5\n",
        "11    7\n",
        "12    4\n",
        "13    7\n",
        "14    5\n",
        "15    6\n",
        "16    6\n",
        "17    4\n",
        "18    4\n",
        "19    7\n",
        "20    5\n",
        "21    7\n",
        "22    5\n",
        "23    4\n",
        "24    4\n",
        "25    9\n",
        "26    4\n",
        "27    0\n",
        "28    1\n",
        "29    4\n",
        "30    7\n",
        "31    4\n",
        "32    7\n",
        "33    9\n",
        "34    6\n",
        "35    4\n",
        "36    7\n",
        "37    6\n",
        "38    6\n",
        "39    3\n",
        "40    2\n",
        "41    9\n",
        "42    4\n",
        "43    4\n",
        "44    3\n",
        "45    5\n",
        "46    6\n",
        "47    6\n",
        "48    8\n",
        "49    5\n",
        "50    5\n",
        "51    5\n",
        "52    4\n",
        "53    8\n",
        "54    4\n",
        "55    3\n",
        "56    7\n",
        "57    5\n",
        "58    5\n",
        "59    3\n",
        "60    4\n",
        "61    5\n",
        "62    8\n",
        "63    7\n",
        "64    6\n",
        "65    2\n",
        "66    4\n",
        "67    3\n",
        "68    5\n",
        "69    5\n",
        "70    2\n",
        "71    1\n",
        "72    9\n",
        "73    5\n",
        "74    8\n",
        "75    5\n",
        "76    8\n",
        "77    7\n",
        "78    3\n",
        "79    4\n",
        "80    6\n",
        "81    8\n",
        "82    4\n",
        "83    7\n",
        "84    4\n",
        "85    6\n",
        "86    8\n",
        "87    7\n",
        "88    6\n",
        "89    3\n",
        "90    8\n",
        "91    6\n",
        "92    5\n",
        "93    5\n",
        "94    6\n",
        "95    5\n",
        "Length: 96"
       ]
      }
     ],
     "prompt_number": 127
    },
    {
     "cell_type": "code",
     "collapsed": false,
     "input": [
      "nn.hist()"
     ],
     "language": "python",
     "metadata": {},
     "outputs": [
      {
       "output_type": "pyout",
       "prompt_number": 128,
       "text": [
        "<matplotlib.axes.AxesSubplot at 0x501ec10>"
       ]
      },
      {
       "output_type": "display_data",
       "png": "[encoded data removed]"
      }
     ],
     "prompt_number": 128
    },
    {
     "cell_type": "code",
     "collapsed": false,
     "input": [
      "(nn * 1.).plot(kind='kde')"
     ],
     "language": "python",
     "metadata": {},
     "outputs": [
      {
       "output_type": "pyout",
       "prompt_number": 129,
       "text": [
        "<matplotlib.axes.AxesSubplot at 0x503e790>"
       ]
      },
      {
       "output_type": "display_data",
       "png": "[encoded data removed]"
      }
     ],
     "prompt_number": 129
    },
    {
     "cell_type": "markdown",
     "metadata": {},
     "source": [
      "### Writing to files: GAL"
     ]
    },
    {
     "cell_type": "code",
     "collapsed": false,
     "input": [
      "adam_gal = ps.open(\"data/adam.gal\",'w','gal')"
     ],
     "language": "python",
     "metadata": {},
     "outputs": [],
     "prompt_number": 130
    },
    {
     "cell_type": "code",
     "collapsed": false,
     "input": [
      "adam_gal.write(wq_adam)"
     ],
     "language": "python",
     "metadata": {},
     "outputs": [],
     "prompt_number": 131
    },
    {
     "cell_type": "code",
     "collapsed": false,
     "input": [
      "adam_gal.close()"
     ],
     "language": "python",
     "metadata": {},
     "outputs": [],
     "prompt_number": 132
    },
    {
     "cell_type": "markdown",
     "metadata": {},
     "source": [
      "We can look at the structure of the file by considering only the beginning of the file:"
     ]
    },
    {
     "cell_type": "code",
     "collapsed": false,
     "input": [
      "! head data/adam.gal"
     ],
     "language": "python",
     "metadata": {},
     "outputs": [
      {
       "output_type": "stream",
       "stream": "stdout",
       "text": [
        "96\r\n",
        "0 2\r\n",
        "1 4\r\n",
        "1 8\r\n",
        "0 2 3 4 5 38 48 37\r\n",
        "2 5\r\n",
        "1 3 5 6 7\r\n",
        "3 5\r\n",
        "8 1 2 4 7\r\n",
        "4 7\r\n"
       ]
      }
     ],
     "prompt_number": 133
    },
    {
     "cell_type": "markdown",
     "metadata": {},
     "source": [
      "## Distance Based Weights"
     ]
    },
    {
     "cell_type": "code",
     "collapsed": false,
     "input": [
      "x,y = np.indices((5,5))"
     ],
     "language": "python",
     "metadata": {},
     "outputs": [],
     "prompt_number": 134
    },
    {
     "cell_type": "code",
     "collapsed": false,
     "input": [
      "x.shape = (25,1)\n",
      "y.shape = (25,1)\n",
      "data = np.hstack([x,y])"
     ],
     "language": "python",
     "metadata": {},
     "outputs": [],
     "prompt_number": 135
    },
    {
     "cell_type": "code",
     "collapsed": false,
     "input": [
      "data"
     ],
     "language": "python",
     "metadata": {},
     "outputs": [
      {
       "output_type": "pyout",
       "prompt_number": 136,
       "text": [
        "array([[0, 0],\n",
        "       [0, 1],\n",
        "       [0, 2],\n",
        "       [0, 3],\n",
        "       [0, 4],\n",
        "       [1, 0],\n",
        "       [1, 1],\n",
        "       [1, 2],\n",
        "       [1, 3],\n",
        "       [1, 4],\n",
        "       [2, 0],\n",
        "       [2, 1],\n",
        "       [2, 2],\n",
        "       [2, 3],\n",
        "       [2, 4],\n",
        "       [3, 0],\n",
        "       [3, 1],\n",
        "       [3, 2],\n",
        "       [3, 3],\n",
        "       [3, 4],\n",
        "       [4, 0],\n",
        "       [4, 1],\n",
        "       [4, 2],\n",
        "       [4, 3],\n",
        "       [4, 4]])"
       ]
      }
     ],
     "prompt_number": 136
    },
    {
     "cell_type": "code",
     "collapsed": false,
     "input": [
      "scatter(data[:, 0], data[:, 1])"
     ],
     "language": "python",
     "metadata": {},
     "outputs": [
      {
       "output_type": "pyout",
       "prompt_number": 137,
       "text": [
        "<matplotlib.collections.PathCollection at 0x5689f50>"
       ]
      },
      {
       "output_type": "display_data",
       "png": "[encoded data removed]"
      }
     ],
     "prompt_number": 137
    },
    {
     "cell_type": "markdown",
     "metadata": {},
     "source": [
      "### knn weights"
     ]
    },
    {
     "cell_type": "code",
     "collapsed": false,
     "input": [
      "wknn3 = ps.knnW(data, k = 3)"
     ],
     "language": "python",
     "metadata": {},
     "outputs": [],
     "prompt_number": 138
    },
    {
     "cell_type": "code",
     "collapsed": false,
     "input": [
      "wknn3[0]"
     ],
     "language": "python",
     "metadata": {},
     "outputs": [
      {
       "output_type": "pyout",
       "prompt_number": 139,
       "text": [
        "{1: 1.0, 5: 1.0, 6: 1.0}"
       ]
      }
     ],
     "prompt_number": 139
    },
    {
     "cell_type": "code",
     "collapsed": false,
     "input": [
      "wknn3.histogram"
     ],
     "language": "python",
     "metadata": {},
     "outputs": [
      {
       "output_type": "pyout",
       "prompt_number": 140,
       "text": [
        "[(3, 25)]"
       ]
      }
     ],
     "prompt_number": 140
    },
    {
     "cell_type": "markdown",
     "metadata": {},
     "source": [
      "### Distance Bands"
     ]
    },
    {
     "cell_type": "code",
     "collapsed": false,
     "input": [
      "wdb = ps.threshold_binaryW_from_array(data, 2)"
     ],
     "language": "python",
     "metadata": {},
     "outputs": [],
     "prompt_number": 141
    },
    {
     "cell_type": "code",
     "collapsed": false,
     "input": [
      "wdb[0]"
     ],
     "language": "python",
     "metadata": {},
     "outputs": [
      {
       "output_type": "pyout",
       "prompt_number": 142,
       "text": [
        "{1: 1, 2: 1, 5: 1, 6: 1, 10: 1}"
       ]
      }
     ],
     "prompt_number": 142
    },
    {
     "cell_type": "code",
     "collapsed": false,
     "input": [
      "wdb.histogram"
     ],
     "language": "python",
     "metadata": {},
     "outputs": [
      {
       "output_type": "pyout",
       "prompt_number": 143,
       "text": [
        "[(5, 4), (6, 0), (7, 8), (8, 4), (9, 0), (10, 4), (11, 4), (12, 1)]"
       ]
      }
     ],
     "prompt_number": 143
    },
    {
     "cell_type": "code",
     "collapsed": false,
     "input": [
      "wdb.cardinalities"
     ],
     "language": "python",
     "metadata": {},
     "outputs": [
      {
       "output_type": "pyout",
       "prompt_number": 144,
       "text": [
        "{0: 5,\n",
        " 1: 7,\n",
        " 2: 8,\n",
        " 3: 7,\n",
        " 4: 5,\n",
        " 5: 7,\n",
        " 6: 10,\n",
        " 7: 11,\n",
        " 8: 10,\n",
        " 9: 7,\n",
        " 10: 8,\n",
        " 11: 11,\n",
        " 12: 12,\n",
        " 13: 11,\n",
        " 14: 8,\n",
        " 15: 7,\n",
        " 16: 10,\n",
        " 17: 11,\n",
        " 18: 10,\n",
        " 19: 7,\n",
        " 20: 5,\n",
        " 21: 7,\n",
        " 22: 8,\n",
        " 23: 7,\n",
        " 24: 5}"
       ]
      }
     ],
     "prompt_number": 144
    },
    {
     "cell_type": "markdown",
     "metadata": {},
     "source": [
      "### Writing distance files\n",
      "\n",
      "Distance weights are stored in a different format, the `gwt`. We will first create the `knn` `W` from our shapefile and then write it to a file."
     ]
    },
    {
     "cell_type": "code",
     "collapsed": false,
     "input": [
      "adam_knn5 = ps.knnW_from_shapefile('data/amsterdam_hoods.shp', k=5)"
     ],
     "language": "python",
     "metadata": {},
     "outputs": [],
     "prompt_number": 145
    },
    {
     "cell_type": "code",
     "collapsed": false,
     "input": [
      "adam_gwt = ps.open(\"data/adam.gwt\",'w','gwt')\n",
      "adam_gwt.write(adam_knn5)\n",
      "adam_gwt.close()"
     ],
     "language": "python",
     "metadata": {},
     "outputs": [],
     "prompt_number": 146
    },
    {
     "cell_type": "code",
     "collapsed": false,
     "input": [
      "! head 'data/adam.gwt'"
     ],
     "language": "python",
     "metadata": {},
     "outputs": [
      {
       "output_type": "stream",
       "stream": "stdout",
       "text": [
        "0 96 Unknown Unknown\r\n",
        "0 1      1\r\n",
        "0 2      1\r\n",
        "0 3      1\r\n",
        "0 4      1\r\n",
        "0 7      1\r\n",
        "1 0      1\r\n",
        "1 2      1\r\n",
        "1 3      1\r\n",
        "1 4      1\r\n"
       ]
      }
     ],
     "prompt_number": 147
    }
   ],
   "metadata": {}
  }
 ]
}