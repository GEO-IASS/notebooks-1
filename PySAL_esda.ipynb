{
 "metadata": {
  "name": "PySAL_esda"
 },
 "nbformat": 3,
 "nbformat_minor": 0,
 "worksheets": [
  {
   "cells": [
    {
     "cell_type": "markdown",
     "metadata": {},
     "source": [
      "# Contributors to this notebook\n",
      "\n",
      "* Daniel Arribas-Bel [@darribas](http://twitter.com/darribas)\n",
      "* Serge Rey http://sjrey.org"
     ]
    },
    {
     "cell_type": "code",
     "collapsed": false,
     "input": [
      "import pysal as ps\n",
      "import numpy as np\n",
      "import pandas as pd"
     ],
     "language": "python",
     "metadata": {},
     "outputs": [],
     "prompt_number": 2
    },
    {
     "cell_type": "markdown",
     "metadata": {},
     "source": [
      "# Exploratory Spatial Data Analysis (ESDA)"
     ]
    },
    {
     "cell_type": "markdown",
     "metadata": {},
     "source": [
      "## Global spatial autocorrelation"
     ]
    },
    {
     "cell_type": "markdown",
     "metadata": {},
     "source": [
      "Most spatial data are spatially autocorrelated:"
     ]
    },
    {
     "cell_type": "markdown",
     "metadata": {},
     "source": [
      "* [First law of geography:](http://en.wikipedia.org/wiki/Tobler's_first_law_of_geography)\n",
      "\n",
      "*\"Everything is related to everything else, but near things are more related than distant things\"*\n",
      "\n",
      "W. Tobler"
     ]
    },
    {
     "cell_type": "markdown",
     "metadata": {},
     "source": [
      "* M. Goodchild: *\"Only Hell is spatially random\"*"
     ]
    },
    {
     "cell_type": "markdown",
     "metadata": {},
     "source": [
      "### Positive spatial autocorrelation"
     ]
    },
    {
     "cell_type": "code",
     "collapsed": false,
     "input": [
      "yp = np.arange(25)\n",
      "yp.shape = (5, 5)\n",
      "yp"
     ],
     "language": "python",
     "metadata": {},
     "outputs": [
      {
       "output_type": "pyout",
       "prompt_number": 3,
       "text": [
        "array([[ 0,  1,  2,  3,  4],\n",
        "       [ 5,  6,  7,  8,  9],\n",
        "       [10, 11, 12, 13, 14],\n",
        "       [15, 16, 17, 18, 19],\n",
        "       [20, 21, 22, 23, 24]])"
       ]
      }
     ],
     "prompt_number": 3
    },
    {
     "cell_type": "code",
     "collapsed": false,
     "input": [
      "matshow(yp, cmap=cm.gray_r)\n",
      "colorbar()"
     ],
     "language": "python",
     "metadata": {},
     "outputs": [
      {
       "output_type": "pyout",
       "prompt_number": 4,
       "text": [
        "<matplotlib.colorbar.Colorbar instance at 0x108112b90>"
       ]
      },
      {
       "output_type": "display_data",
       "png": "[encoded data removed]"
      }
     ],
     "prompt_number": 4
    },
    {
     "cell_type": "markdown",
     "metadata": {},
     "source": [
      "### Perfect negative spatial autocorrelation"
     ]
    },
    {
     "cell_type": "code",
     "collapsed": false,
     "input": [
      "yn = np.zeros((25,))\n",
      "ids = range(0,25,2)\n",
      "yn[ids] = 1\n",
      "yn.shape = (5,5)"
     ],
     "language": "python",
     "metadata": {},
     "outputs": [],
     "prompt_number": 5
    },
    {
     "cell_type": "code",
     "collapsed": false,
     "input": [
      "matshow(yn, cmap=cm.gray)"
     ],
     "language": "python",
     "metadata": {},
     "outputs": [
      {
       "output_type": "pyout",
       "prompt_number": 6,
       "text": [
        "<matplotlib.image.AxesImage at 0x1081ba250>"
       ]
      },
      {
       "output_type": "display_data",
       "png": "[encoded data removed]"
      }
     ],
     "prompt_number": 6
    },
    {
     "cell_type": "markdown",
     "metadata": {},
     "source": [
      "### Spatial randomness"
     ]
    },
    {
     "cell_type": "code",
     "collapsed": false,
     "input": [
      "yr = np.arange(25)\n",
      "#Shuffle the data randomly\n",
      "np.random.shuffle(yr)\n",
      "yr.shape = (5, 5)\n",
      "yr"
     ],
     "language": "python",
     "metadata": {},
     "outputs": [
      {
       "output_type": "pyout",
       "prompt_number": 7,
       "text": [
        "array([[ 1,  3, 24, 11,  8],\n",
        "       [21,  5, 18, 13, 14],\n",
        "       [10,  4, 20, 12, 19],\n",
        "       [ 6, 17,  9,  2,  0],\n",
        "       [23, 16, 22,  7, 15]])"
       ]
      }
     ],
     "prompt_number": 7
    },
    {
     "cell_type": "code",
     "collapsed": false,
     "input": [
      "matshow(yr, cmap=cm.gray_r)\n",
      "colorbar()"
     ],
     "language": "python",
     "metadata": {},
     "outputs": [
      {
       "output_type": "pyout",
       "prompt_number": 8,
       "text": [
        "<matplotlib.colorbar.Colorbar instance at 0x108153cb0>"
       ]
      },
      {
       "output_type": "display_data",
       "png": "[encoded data removed]"
      }
     ],
     "prompt_number": 8
    },
    {
     "cell_type": "markdown",
     "metadata": {},
     "source": [
      "### Moran's I"
     ]
    },
    {
     "cell_type": "markdown",
     "metadata": {},
     "source": [
      "This is the most commonly used statistic to test spatial autocorrelation (randomness rather) in continuous data."
     ]
    },
    {
     "cell_type": "code",
     "collapsed": false,
     "input": [
      "w = ps.lat2W(5, 5)"
     ],
     "language": "python",
     "metadata": {},
     "outputs": [],
     "prompt_number": 9
    },
    {
     "cell_type": "code",
     "collapsed": false,
     "input": [
      "mr = ps.Moran(yr.flatten(), w)"
     ],
     "language": "python",
     "metadata": {},
     "outputs": [],
     "prompt_number": 10
    },
    {
     "cell_type": "code",
     "collapsed": false,
     "input": [
      "mr.I"
     ],
     "language": "python",
     "metadata": {},
     "outputs": [
      {
       "output_type": "pyout",
       "prompt_number": 11,
       "text": [
        "-0.074038461538461567"
       ]
      }
     ],
     "prompt_number": 11
    },
    {
     "cell_type": "code",
     "collapsed": false,
     "input": [
      "mr.p_norm"
     ],
     "language": "python",
     "metadata": {},
     "outputs": [
      {
       "output_type": "pyout",
       "prompt_number": 12,
       "text": [
        "0.82939997007016286"
       ]
      }
     ],
     "prompt_number": 12
    },
    {
     "cell_type": "code",
     "collapsed": false,
     "input": [
      "mr.p_sim"
     ],
     "language": "python",
     "metadata": {},
     "outputs": [
      {
       "output_type": "pyout",
       "prompt_number": 13,
       "text": [
        "0.39600000000000002"
       ]
      }
     ],
     "prompt_number": 13
    },
    {
     "cell_type": "code",
     "collapsed": false,
     "input": [
      "# Simulated random values\n",
      "mr.sim"
     ],
     "language": "python",
     "metadata": {},
     "outputs": [
      {
       "output_type": "pyout",
       "prompt_number": 14,
       "text": [
        "array([ -3.14102564e-03,  -2.18461538e-01,   4.35256410e-02,\n",
        "        -2.71730769e-01,  -1.42948718e-02,  -1.36538462e-02,\n",
        "        -7.94871795e-03,   9.61538462e-04,   1.24358974e-02,\n",
        "        -2.15705128e-01,  -1.67948718e-02,  -2.33653846e-01,\n",
        "         8.20512821e-02,   1.82564103e-01,  -2.25641026e-02,\n",
        "         3.82051282e-02,   9.50000000e-02,   1.00448718e-01,\n",
        "        -5.74358974e-02,  -2.45064103e-01,  -1.27820513e-01,\n",
        "        -1.52564103e-01,  -3.78846154e-02,  -1.56794872e-01,\n",
        "         2.55064103e-01,  -2.16923077e-01,   1.24423077e-01,\n",
        "         2.02564103e-01,  -1.89358974e-01,  -6.68589744e-02,\n",
        "         8.20512821e-02,   8.63461538e-02,   1.18589744e-01,\n",
        "        -3.17115385e-01,  -1.80961538e-01,  -3.43589744e-02,\n",
        "        -5.89743590e-03,   3.27564103e-02,   2.74358974e-02,\n",
        "         7.32692308e-02,  -1.54102564e-01,   1.97051282e-01,\n",
        "        -1.84615385e-01,   3.69615385e-01,  -1.71025641e-01,\n",
        "        -3.83333333e-02,  -1.13076923e-01,  -9.80128205e-02,\n",
        "         7.35897436e-02,  -7.47435897e-02,  -5.64743590e-02,\n",
        "        -2.39358974e-01,  -3.61987179e-01,   5.06410256e-02,\n",
        "        -1.04423077e-01,  -4.55128205e-02,   5.38461538e-02,\n",
        "         1.51474359e-01,   2.09871795e-01,   1.17948718e-01,\n",
        "        -2.66153846e-01,  -1.80833333e-01,   2.83205128e-01,\n",
        "        -1.67500000e-01,  -9.61538462e-02,  -2.00641026e-02,\n",
        "         1.70576923e-01,   6.42948718e-02,  -1.12179487e-02,\n",
        "        -1.63461538e-02,  -3.32948718e-01,  -4.46794872e-02,\n",
        "        -2.22243590e-01,  -6.41025641e-04,   2.08205128e-01,\n",
        "         2.63141026e-01,  -1.30769231e-01,  -6.90384615e-02,\n",
        "        -9.34615385e-02,  -1.56602564e-01,   6.46153846e-02,\n",
        "         1.43397436e-01,  -2.19871795e-01,   5.55128205e-02,\n",
        "        -2.32628205e-01,   1.32179487e-01,  -1.87884615e-01,\n",
        "         1.11923077e-01,   4.88461538e-02,   1.20769231e-01,\n",
        "         3.73076923e-02,  -6.64743590e-02,  -4.39038462e-01,\n",
        "        -1.18076923e-01,   2.12115385e-01,   2.76987179e-01,\n",
        "        -2.98717949e-02,  -5.10897436e-02,  -2.59615385e-01,\n",
        "         1.29807692e-01,  -2.40769231e-01,  -6.19230769e-02,\n",
        "        -1.36538462e-02,   1.20000000e-01,  -1.90384615e-02,\n",
        "         1.04807692e-01,  -1.30897436e-01,  -3.99615385e-01,\n",
        "        -3.11538462e-01,   5.26282051e-02,  -1.57692308e-01,\n",
        "         1.81025641e-01,  -5.51282051e-02,  -2.05128205e-03,\n",
        "        -9.42307692e-02,   3.09615385e-02,  -1.31025641e-01,\n",
        "         2.23076923e-01,  -4.25833333e-01,   6.82692308e-02,\n",
        "        -8.36538462e-02,  -8.66025641e-02,  -2.30448718e-01,\n",
        "         3.20256410e-01,  -2.35192308e-01,  -3.63461538e-02,\n",
        "         6.28846154e-02,  -1.99807692e-01,   2.50000000e-03,\n",
        "         5.76923077e-04,   3.04487179e-02,  -8.46153846e-03,\n",
        "         7.53205128e-02,   2.96794872e-02,  -2.28012821e-01,\n",
        "        -1.48269231e-01,  -9.84615385e-02,  -1.76730769e-01,\n",
        "        -2.68333333e-01,   7.69230769e-03,  -1.71730769e-01,\n",
        "        -3.54743590e-01,  -1.73076923e-03,  -7.23076923e-02,\n",
        "         1.28846154e-01,  -7.94871795e-03,   2.30769231e-01,\n",
        "         2.71987179e-01,  -1.22179487e-01,   7.34615385e-02,\n",
        "        -2.31282051e-01,   4.00897436e-01,  -2.84487179e-01,\n",
        "        -2.33012821e-01,  -2.23333333e-01,  -3.20641026e-01,\n",
        "        -4.36987179e-01,  -5.60897436e-02,   1.25641026e-02,\n",
        "        -3.77564103e-02,  -4.48717949e-04,  -5.26282051e-02,\n",
        "         6.80128205e-02,  -2.62948718e-01,  -1.22307692e-01,\n",
        "         2.56666667e-01,  -8.84615385e-02,  -1.37435897e-01,\n",
        "         1.96923077e-01,  -3.23333333e-01,  -4.97435897e-02,\n",
        "         1.50833333e-01,  -9.26282051e-02,  -5.73076923e-02,\n",
        "        -1.14166667e-01,   6.41025641e-02,  -6.51923077e-02,\n",
        "        -1.94038462e-01,  -3.46153846e-03,   5.37179487e-02,\n",
        "        -2.54487179e-02,   1.75064103e-01,   4.55769231e-02,\n",
        "        -4.48076923e-02,  -2.80256410e-01,   1.93782051e-01,\n",
        "        -2.14102564e-01,  -2.05128205e-02,   1.11025641e-01,\n",
        "        -3.52435897e-01,  -2.48846154e-01,   6.60256410e-03,\n",
        "        -1.32820513e-01,   2.97884615e-01,   1.91987179e-01,\n",
        "        -2.31538462e-01,  -1.34871795e-01,   1.96089744e-01,\n",
        "         5.62179487e-02,   5.17948718e-02,  -5.33333333e-02,\n",
        "        -5.53846154e-01,   2.07948718e-01,  -1.44294872e-01,\n",
        "         2.17307692e-02,   2.46474359e-01,  -8.51282051e-02,\n",
        "        -1.90128205e-01,   4.67948718e-03,   4.08974359e-02,\n",
        "         2.41666667e-02,   9.61538462e-02,  -3.69102564e-01,\n",
        "        -2.13717949e-01,   8.71794872e-02,  -4.64102564e-02,\n",
        "        -7.52564103e-02,  -5.57051282e-02,   3.47628205e-01,\n",
        "        -3.25256410e-01,  -2.76346154e-01,  -5.23717949e-02,\n",
        "        -7.88461538e-02,  -1.54935897e-01,   8.62820513e-02,\n",
        "         2.52628205e-01,   4.66025641e-02,  -1.98076923e-02,\n",
        "        -1.34743590e-01,  -2.58653846e-01,   8.02564103e-02,\n",
        "         1.77820513e-01,   2.58012821e-01,   6.58333333e-02,\n",
        "        -1.12628205e-01,  -1.56794872e-01,  -3.17115385e-01,\n",
        "         2.15192308e-01,   5.42307692e-02,  -1.22948718e-01,\n",
        "        -1.44871795e-02,   2.78846154e-02,   1.02500000e-01,\n",
        "        -1.31089744e-01,  -4.17307692e-02,   1.01602564e-01,\n",
        "         1.01923077e-01,   1.21923077e-01,  -5.75000000e-02,\n",
        "        -2.22628205e-01,  -1.83333333e-01,  -3.75833333e-01,\n",
        "        -1.89679487e-01,   8.31410256e-02,  -5.00000000e-01,\n",
        "         1.74358974e-01,  -3.52115385e-01,   1.89038462e-01,\n",
        "        -2.55448718e-01,  -4.44871795e-02,  -3.09038462e-01,\n",
        "        -2.69230769e-02,   1.45256410e-01,  -1.64102564e-02,\n",
        "         4.17948718e-02,   5.60256410e-02,   1.60256410e-02,\n",
        "         9.20512821e-02,   1.47435897e-02,  -9.35897436e-03,\n",
        "         7.91025641e-02,   2.57692308e-02,  -2.21794872e-02,\n",
        "        -2.91794872e-01,  -4.16025641e-02,   5.11538462e-02,\n",
        "         7.39743590e-02,  -6.57692308e-02,   2.31410256e-02,\n",
        "         2.00641026e-01,  -4.00641026e-02,  -1.82243590e-01,\n",
        "         1.18782051e-01,   4.87179487e-03,  -9.87179487e-03,\n",
        "         8.53846154e-02,  -1.90512821e-01,  -2.56410256e-02,\n",
        "        -2.08717949e-01,   1.48333333e-01,   3.20512821e-04,\n",
        "        -1.26794872e-01,   4.39102564e-02,   1.73141026e-01,\n",
        "        -1.81923077e-01,   1.03782051e-01,  -2.98717949e-02,\n",
        "         1.59423077e-01,  -9.60256410e-02,  -1.93012821e-01,\n",
        "        -1.12948718e-01,   8.40384615e-02,   1.55320513e-01,\n",
        "         1.23205128e-01,  -7.35897436e-02,   5.05128205e-02,\n",
        "         6.41025641e-02,   6.21794872e-03,  -3.34615385e-02,\n",
        "         5.07243590e-01,  -6.12820513e-02,   1.19423077e-01,\n",
        "        -2.74038462e-01,  -1.66474359e-01,   1.40384615e-02,\n",
        "        -4.54487179e-02,  -1.07051282e-01,   1.71153846e-02,\n",
        "         1.10256410e-02,  -1.56089744e-01,   3.23076923e-02,\n",
        "        -9.84615385e-02,  -4.47435897e-02,   3.83333333e-02,\n",
        "         8.46153846e-02,  -2.44871795e-02,   8.55128205e-02,\n",
        "        -9.76282051e-02,   1.30961538e-01,  -7.05128205e-02,\n",
        "         2.21794872e-02,  -5.07628205e-01,  -7.20512821e-02,\n",
        "        -1.33974359e-01,   2.13974359e-01,  -6.76282051e-02,\n",
        "        -2.79487179e-01,  -1.94038462e-01,  -4.43846154e-01,\n",
        "        -3.28461538e-01,  -5.28205128e-02,  -4.55128205e-03,\n",
        "        -1.08782051e-01,   5.89743590e-03,   6.58333333e-02,\n",
        "         2.20833333e-01,  -2.16089744e-01,  -8.78846154e-02,\n",
        "         2.48076923e-02,  -1.02371795e-01,  -1.82564103e-01,\n",
        "         2.85897436e-02,  -1.92051282e-01,   2.34230769e-01,\n",
        "        -5.99358974e-02,  -7.14743590e-02,   3.06410256e-02,\n",
        "        -1.15576923e-01,   9.99358974e-02,  -2.02500000e-01,\n",
        "        -1.04038462e-01,   9.66666667e-02,  -9.36538462e-02,\n",
        "        -6.92948718e-02,   2.93910256e-01,  -1.61730769e-01,\n",
        "        -3.57435897e-01,   1.79551282e-01,   1.57692308e-02,\n",
        "         7.61538462e-02,  -1.05897436e-01,  -4.17564103e-01,\n",
        "         7.78846154e-02,  -1.74487179e-01,  -3.18910256e-01,\n",
        "        -1.32051282e-02,   7.30128205e-02,  -1.01923077e-02,\n",
        "         3.51282051e-02,   2.65384615e-02,  -4.49871795e-01,\n",
        "         1.09743590e-01,   1.46923077e-01,  -8.56410256e-02,\n",
        "        -2.05000000e-01,  -1.11474359e-01,  -6.58974359e-02,\n",
        "        -4.20512821e-02,  -5.78846154e-02,  -1.98141026e-01,\n",
        "        -1.37179487e-02,   9.62179487e-02,  -2.97371795e-01,\n",
        "        -2.49230769e-01,  -2.90576923e-01,  -1.80000000e-01,\n",
        "        -3.05512821e-01,  -1.16730769e-01,  -1.77564103e-02,\n",
        "         2.90192308e-01,   8.92948718e-02,  -3.56666667e-01,\n",
        "         4.61538462e-02,   2.89935897e-01,  -1.35000000e-01,\n",
        "        -9.07051282e-02,  -3.43205128e-01,   9.98076923e-02,\n",
        "        -2.62115385e-01,  -4.56410256e-02,  -2.11538462e-01,\n",
        "         1.66666667e-02,  -2.93397436e-01,   2.02948718e-01,\n",
        "        -4.37756410e-01,  -1.24551282e-01,   9.48717949e-02,\n",
        "        -4.31410256e-02,  -9.39102564e-02,  -8.96794872e-02,\n",
        "        -2.44679487e-01,  -2.10576923e-01,  -2.12884615e-01,\n",
        "         7.68589744e-02,  -2.24615385e-01,  -3.97435897e-02,\n",
        "        -4.05897436e-01,  -1.63846154e-01,  -9.67948718e-03,\n",
        "         2.30128205e-02,  -1.32756410e-01,   1.34358974e-01,\n",
        "        -1.35512821e-01,  -2.59102564e-01,  -4.79487179e-02,\n",
        "         2.06217949e-01,  -3.16025641e-02,   4.92948718e-02,\n",
        "         4.68589744e-02,  -1.28012821e-01,   1.35897436e-02,\n",
        "         2.08333333e-02,  -1.42884615e-01,   3.84615385e-03,\n",
        "        -4.22435897e-02,  -1.46153846e-02,   1.67435897e-01,\n",
        "         3.42948718e-02,   8.65384615e-02,   5.08333333e-02,\n",
        "         1.71282051e-01,   1.01217949e-01,   2.80128205e-02,\n",
        "        -2.73076923e-02,   3.87820513e-02,  -3.38461538e-01,\n",
        "        -1.92820513e-01,  -7.00000000e-02,   5.30128205e-02,\n",
        "        -2.98589744e-01,  -3.22179487e-01,  -2.91858974e-01,\n",
        "        -3.56410256e-02,  -5.66025641e-02,   4.23076923e-02,\n",
        "         6.76923077e-02,  -1.72884615e-01,  -7.97435897e-02,\n",
        "         1.13846154e-01,  -3.41025641e-02,  -2.20833333e-01,\n",
        "         4.39102564e-02,   4.10256410e-02,  -3.80320513e-01,\n",
        "         1.62371795e-01,  -1.58076923e-01,  -1.64871795e-01,\n",
        "        -1.72564103e-01,   4.45512821e-02,  -1.79743590e-01,\n",
        "        -2.71153846e-02,   1.27500000e-01,  -4.45512821e-02,\n",
        "        -1.83076923e-01,   5.77564103e-02,   3.02564103e-02,\n",
        "         1.22820513e-01,  -6.59615385e-02,  -1.51474359e-01,\n",
        "        -9.05128205e-02,   7.26923077e-02,   3.40384615e-02,\n",
        "         1.16025641e-02,  -3.09358974e-01,  -1.76474359e-01,\n",
        "         1.47820513e-01,   2.05576923e-01,   9.07692308e-02,\n",
        "        -7.44230769e-02,  -3.01282051e-03,  -2.97564103e-01,\n",
        "        -7.85897436e-02,   1.69551282e-01,  -3.55256410e-01,\n",
        "        -2.26923077e-02,   2.03397436e-01,  -2.60705128e-01,\n",
        "        -2.05000000e-01,   2.01730769e-01,   3.29487179e-02,\n",
        "        -1.79615385e-01,  -1.54230769e-01,  -9.85897436e-02,\n",
        "         1.16153846e-01,  -2.75897436e-01,  -2.11410256e-01,\n",
        "         5.54487179e-02,  -1.48974359e-01,  -2.91346154e-01,\n",
        "        -1.14038462e-01,   2.27115385e-01,   1.08333333e-01,\n",
        "         7.17948718e-02,   2.32051282e-01,   2.63717949e-01,\n",
        "        -1.54871795e-01,   2.47500000e-01,   1.95192308e-01,\n",
        "         1.20705128e-01,   3.35897436e-02,  -1.44807692e-01,\n",
        "        -4.61538462e-03,   2.35000000e-01,  -1.38397436e-01,\n",
        "         9.30769231e-02,  -3.09615385e-02,   1.41153846e-01,\n",
        "         2.48717949e-01,   1.06025641e-01,  -8.17307692e-02,\n",
        "        -1.34871795e-01,   1.89102564e-02,  -1.15897436e-01,\n",
        "        -1.40705128e-01,  -2.48525641e-01,   1.55192308e-01,\n",
        "        -1.43717949e-01,  -4.23076923e-03,  -6.08974359e-03,\n",
        "         8.48717949e-02,   4.65384615e-02,   1.95512821e-02,\n",
        "        -4.73717949e-02,  -6.14102564e-02,  -2.30448718e-01,\n",
        "         7.69230769e-02,   1.00000000e-02,  -1.94294872e-01,\n",
        "        -2.08205128e-01,   6.53205128e-02,   7.88461538e-03,\n",
        "        -1.57307692e-01,  -4.64743590e-02,  -4.56410256e-02,\n",
        "         7.15384615e-02,   2.08717949e-01,   1.01666667e-01,\n",
        "        -3.21794872e-02,   4.18589744e-02,  -1.77179487e-01,\n",
        "         1.08782051e-01,  -4.42948718e-02,  -2.70384615e-01,\n",
        "        -4.25833333e-01,  -4.24358974e-02,   7.53846154e-02,\n",
        "        -4.35897436e-03,  -1.53461538e-01,  -8.08333333e-02,\n",
        "        -3.33333333e-03,   1.60128205e-01,  -1.60256410e-01,\n",
        "        -2.56666667e-01,  -1.98333333e-01,   4.94871795e-02,\n",
        "        -1.85128205e-01,   9.97435897e-02,  -1.82948718e-01,\n",
        "         1.57628205e-01,  -3.69487179e-01,  -3.63076923e-01,\n",
        "         2.14102564e-02,   2.45192308e-01,   1.42243590e-01,\n",
        "        -9.25000000e-02,  -7.62179487e-02,   1.18589744e-02,\n",
        "        -5.06410256e-02,  -1.80961538e-01,  -2.99102564e-01,\n",
        "         5.54487179e-02,  -9.87820513e-02,  -1.42307692e-01,\n",
        "         1.29102564e-01,  -5.23717949e-02,   1.64423077e-01,\n",
        "         8.03205128e-02,   1.55769231e-01,  -6.34615385e-02,\n",
        "        -1.77820513e-01,  -1.00320513e-01,  -1.46217949e-01,\n",
        "        -8.00641026e-02,  -1.13974359e-01,   1.36666667e-01,\n",
        "         1.35064103e-01,   5.00000000e-03,  -2.11474359e-01,\n",
        "        -1.94230769e-02,   2.51923077e-02,   1.73589744e-01,\n",
        "        -6.09615385e-02,  -2.92948718e-02,  -7.47435897e-02,\n",
        "        -3.37820513e-02,  -1.81410256e-02,  -7.91025641e-02,\n",
        "        -1.64743590e-01,  -9.26923077e-02,   2.78269231e-01,\n",
        "         3.88461538e-02,   5.12820513e-03,   3.57371795e-01,\n",
        "        -2.94871795e-01,   7.38461538e-02,   1.11858974e-01,\n",
        "        -5.17307692e-02,  -6.23076923e-02,   1.26858974e-01,\n",
        "        -1.61025641e-01,   3.08333333e-02,   1.22051282e-01,\n",
        "         1.38653846e-01,  -7.46153846e-02,  -1.16089744e-01,\n",
        "         1.41666667e-02,   8.14102564e-02,  -5.28846154e-02,\n",
        "        -3.37179487e-02,   3.82948718e-01,   3.58397436e-01,\n",
        "         2.58333333e-02,  -2.90384615e-02,  -1.73076923e-02,\n",
        "        -1.16089744e-01,   2.00192308e-01,   2.69871795e-02,\n",
        "        -1.46153846e-01,  -7.11538462e-02,   4.22435897e-02,\n",
        "        -3.48012821e-01,  -1.44166667e-01,   1.56923077e-01,\n",
        "         5.94871795e-02,  -1.26089744e-01,  -1.59294872e-01,\n",
        "        -1.72435897e-02,   2.40192308e-01,  -9.76923077e-02,\n",
        "        -2.29615385e-01,   1.46410256e-01,  -2.96153846e-02,\n",
        "        -1.29102564e-01,   8.16666667e-02,  -2.32628205e-01,\n",
        "         2.19871795e-01,   2.54679487e-01,  -2.26923077e-02,\n",
        "         6.37179487e-02,  -1.10000000e-01,  -1.10064103e-01,\n",
        "         1.28012821e-01,   1.86025641e-01,   1.73333333e-01,\n",
        "         3.75641026e-02,  -1.24743590e-01,  -2.56538462e-01,\n",
        "        -6.25000000e-02,  -1.23269231e-01,  -2.20576923e-01,\n",
        "         7.50641026e-02,  -1.48525641e-01,  -1.58461538e-01,\n",
        "         1.69871795e-02,   6.01282051e-02,   6.26282051e-02,\n",
        "        -1.08076923e-01,   1.43717949e-01,  -2.17179487e-01,\n",
        "        -2.24230769e-01,  -4.06410256e-02,  -1.36474359e-01,\n",
        "        -3.54487179e-02,  -1.79615385e-01,  -5.25641026e-02,\n",
        "         9.07692308e-02,   1.67307692e-01,  -2.84551282e-01,\n",
        "        -1.35448718e-01,  -2.43589744e-03,  -2.09615385e-02,\n",
        "        -3.12564103e-01,  -2.14358974e-01,  -2.12820513e-02,\n",
        "        -1.26730769e-01,  -1.25833333e-01,  -2.57051282e-02,\n",
        "         7.91025641e-02,  -1.35192308e-01,  -3.58717949e-01,\n",
        "        -3.99230769e-01,  -5.11538462e-02,  -6.75641026e-02,\n",
        "        -4.91666667e-02,  -2.05512821e-01,  -1.56474359e-01,\n",
        "        -9.85256410e-02,   2.43333333e-01,  -9.74358974e-02,\n",
        "        -1.00897436e-01,  -2.37243590e-01,   2.27820513e-01,\n",
        "        -1.53846154e-02,   5.41025641e-02,   3.33974359e-02,\n",
        "        -1.69551282e-01,  -8.28846154e-02,   1.45000000e-01,\n",
        "         2.56410256e-04,  -1.06153846e-01,  -2.58974359e-02,\n",
        "         1.92307692e-03,   4.80128205e-02,  -1.56474359e-01,\n",
        "        -5.42948718e-02,   1.15000000e-01,  -2.94679487e-01,\n",
        "        -1.33589744e-01,   1.02948718e-01,   6.40384615e-02,\n",
        "        -2.13461538e-02,   1.48205128e-01,  -7.27564103e-02,\n",
        "        -2.20192308e-01,  -2.09679487e-01,   2.39615385e-01,\n",
        "        -2.35000000e-01,  -2.88782051e-01,   1.11089744e-01,\n",
        "        -1.86538462e-02,  -6.26923077e-02,  -4.53205128e-02,\n",
        "         2.66025641e-02,   1.83333333e-02,  -9.30128205e-02,\n",
        "        -1.51538462e-01,   5.42307692e-02,   4.55128205e-02,\n",
        "        -2.46794872e-02,  -6.01282051e-02,   8.07692308e-02,\n",
        "         5.08974359e-02,   6.66025641e-02,  -8.00641026e-02,\n",
        "        -1.52115385e-01,  -2.80128205e-02,   1.14743590e-02,\n",
        "        -1.84615385e-02,  -1.00576923e-01,  -4.62243590e-01,\n",
        "         8.61538462e-02,  -1.57051282e-01,  -2.55064103e-01,\n",
        "         1.83012821e-01,  -4.25000000e-02,   1.19871795e-02,\n",
        "        -1.87948718e-01,   9.61538462e-02,  -1.21794872e-02,\n",
        "        -3.02115385e-01,   2.24358974e-03,   3.53333333e-01,\n",
        "         7.83974359e-02,  -9.32692308e-02,   2.48717949e-02,\n",
        "         8.55769231e-02,   2.93589744e-02,  -9.70512821e-02,\n",
        "        -2.47179487e-01,   5.25000000e-02,   1.29871795e-01,\n",
        "         2.18653846e-01,  -2.02243590e-01,  -1.17500000e-01,\n",
        "        -1.09615385e-02,   2.76282051e-02,  -1.00320513e-01,\n",
        "         3.71153846e-02,  -2.02243590e-01,  -3.01987179e-01,\n",
        "        -3.51923077e-02,  -2.18525641e-01,   5.83974359e-02,\n",
        "        -2.42243590e-01,  -1.35961538e-01,  -3.20512821e-04,\n",
        "        -9.82692308e-02,   1.31410256e-02,  -1.21923077e-01,\n",
        "        -1.94679487e-01,  -3.07564103e-01,  -1.56602564e-01,\n",
        "         8.26923077e-03,   1.53205128e-02,  -1.25064103e-01,\n",
        "         6.82692308e-02,  -7.68589744e-02,  -2.00769231e-01,\n",
        "        -4.64102564e-02,  -1.23717949e-02,   2.18782051e-01,\n",
        "        -8.91666667e-02,   1.40448718e-01,  -7.16666667e-02,\n",
        "        -1.13653846e-01,  -3.39743590e-02,   3.26923077e-03,\n",
        "         1.14102564e-01,   2.72948718e-01,  -7.97435897e-02,\n",
        "         3.32692308e-02,  -1.28846154e-01,  -1.47307692e-01,\n",
        "         2.29230769e-01,  -1.11730769e-01,  -8.10897436e-02,\n",
        "        -3.62179487e-02,  -9.94230769e-02,  -1.23205128e-01,\n",
        "         2.88461538e-02,  -3.44871795e-02,  -1.88076923e-01,\n",
        "        -2.75576923e-01,  -3.28205128e-01,  -1.73717949e-02,\n",
        "         1.94230769e-02,  -1.96538462e-01,  -1.52628205e-01,\n",
        "        -1.28846154e-02,  -2.38076923e-01,  -2.30576923e-01,\n",
        "         9.42307692e-03,   3.06410256e-02,  -2.18205128e-01,\n",
        "         4.06410256e-02,   1.79487179e-03,  -2.92948718e-02,\n",
        "        -4.95512821e-02,  -1.68269231e-01,   3.17115385e-01,\n",
        "        -1.53205128e-02,   6.21794872e-03,   1.17307692e-01,\n",
        "        -1.09294872e-01,  -5.55128205e-02,   3.61538462e-02,\n",
        "        -2.00000000e-02,   2.35512821e-01,  -1.48205128e-01,\n",
        "        -3.51089744e-01,   1.46987179e-01,   7.92948718e-02,\n",
        "        -1.94871795e-01,   1.21923077e-01,  -3.56410256e-02,\n",
        "         2.75000000e-02,   1.88910256e-01,  -2.93910256e-01,\n",
        "         1.54230769e-01,  -6.55769231e-02,  -8.85256410e-02,\n",
        "         1.66025641e-02,  -9.01282051e-02,  -5.06410256e-03,\n",
        "         1.69423077e-01,   1.14871795e-01,   1.82564103e-01,\n",
        "         2.07820513e-01,   5.35897436e-02,   1.07243590e-01,\n",
        "         1.98974359e-01,   1.39551282e-01,   4.35000000e-01,\n",
        "        -1.31538462e-01,   1.44294872e-01,  -1.46474359e-01,\n",
        "         1.76282051e-02,  -5.93589744e-02,  -1.82692308e-02,\n",
        "        -9.10897436e-02,  -8.30769231e-02,   7.76282051e-02,\n",
        "        -9.80769231e-02,  -3.52692308e-01,  -1.73076923e-02,\n",
        "        -2.01346154e-01,  -3.25641026e-02,  -6.90384615e-02,\n",
        "        -1.15769231e-01,  -1.62435897e-01,   3.07692308e-02,\n",
        "         7.66025641e-02,  -4.30769231e-02,   9.03846154e-02,\n",
        "         1.92307692e-04,   2.96794872e-02,  -2.55897436e-01,\n",
        "        -9.25000000e-02,  -1.24230769e-01,  -1.30512821e-01,\n",
        "         2.71153846e-02,   2.35833333e-01,  -1.29423077e-01,\n",
        "         5.94871795e-02,   1.51602564e-01,   8.60256410e-02,\n",
        "         1.14871795e-01,  -1.21089744e-01,   8.91666667e-02,\n",
        "         6.55769231e-02,  -5.53205128e-02,   1.86987179e-01,\n",
        "        -2.63333333e-01,  -3.09679487e-01,  -7.12179487e-02,\n",
        "         8.91666667e-02,  -4.39743590e-02,  -1.42948718e-01,\n",
        "        -2.70512821e-02,  -1.86474359e-01,  -8.96794872e-02,\n",
        "        -1.42948718e-02,   1.39423077e-01,   8.82692308e-02,\n",
        "        -1.49551282e-01,  -1.39102564e-01,   1.10064103e-01,\n",
        "        -1.17307692e-02,  -1.97371795e-01,  -7.01282051e-02,\n",
        "        -1.02564103e-03,   1.15512821e-01,  -9.76282051e-02,\n",
        "        -2.65897436e-01,   8.37179487e-02,  -1.20384615e-01,\n",
        "         7.85256410e-02,  -1.51346154e-01,  -7.93589744e-02,\n",
        "        -1.72692308e-01,  -2.75000000e-02,   1.38012821e-01,\n",
        "        -4.47435897e-01,   1.11858974e-01,  -1.32564103e-01,\n",
        "        -4.69871795e-02,   3.50641026e-02,  -1.22243590e-01,\n",
        "        -7.08974359e-02,  -2.38589744e-01,  -1.48782051e-01,\n",
        "        -1.52243590e-01,  -3.65384615e-02,  -1.30833333e-01,\n",
        "         1.08653846e-01,  -1.88782051e-01,  -3.32051282e-02,\n",
        "        -3.18205128e-01,   3.92435897e-01,  -1.71538462e-01,\n",
        "        -4.50000000e-02,   4.53846154e-02,   1.88461538e-02,\n",
        "        -1.01089744e-01,   2.04423077e-01,  -1.70320513e-01,\n",
        "        -2.04230769e-01,   2.68782051e-01,   8.20512821e-02])"
       ]
      }
     ],
     "prompt_number": 14
    },
    {
     "cell_type": "markdown",
     "metadata": {},
     "source": [
      "We can plot the empirical inference easily using `pandas` and a bit of `matplotlib`:"
     ]
    },
    {
     "cell_type": "code",
     "collapsed": false,
     "input": [
      "srv = pd.Series(mr.sim)\n",
      "f = figure()\n",
      "ax = f.add_subplot(111)\n",
      "srv.plot(kind='kde', ax=ax)\n",
      "axvline(mr.I, color='r')\n",
      "xlabel('I')\n",
      "ylabel('f(I)')\n",
      "title('Empirical distribution and value of $Ir$')"
     ],
     "language": "python",
     "metadata": {},
     "outputs": [
      {
       "output_type": "pyout",
       "prompt_number": 15,
       "text": [
        "<matplotlib.text.Text at 0x1083982d0>"
       ]
      },
      {
       "output_type": "display_data",
       "png": "[encoded data removed]"
      }
     ],
     "prompt_number": 15
    },
    {
     "cell_type": "code",
     "collapsed": true,
     "input": [
      "mp = ps.Moran(yp.flatten(), w)\n",
      "srv = pd.Series(mp.sim)\n",
      "f = figure()\n",
      "ax = f.add_subplot(111)\n",
      "srv.plot(kind='kde', ax=ax)\n",
      "axvline(mp.I, color='r')\n",
      "xlabel('I')\n",
      "ylabel('f(I)')\n",
      "title('Empirical distribution and value of $I$')\n",
      "print \"\"\n",
      "print \"Moran's I value is: %.4f\"%mp.I"
     ],
     "language": "python",
     "metadata": {},
     "outputs": [
      {
       "output_type": "stream",
       "stream": "stdout",
       "text": [
        "\n",
        "Moran's I value is: 0.8400\n"
       ]
      },
      {
       "output_type": "display_data",
       "png": "[encoded data removed]"
      }
     ],
     "prompt_number": 17
    },
    {
     "cell_type": "code",
     "collapsed": true,
     "input": [
      "mn = ps.Moran(yn.flatten(), w)\n",
      "srv = pd.Series(mn.sim)\n",
      "f = figure()\n",
      "ax = f.add_subplot(111)\n",
      "srv.plot(kind='kde', ax=ax)\n",
      "axvline(mn.I, color='r')\n",
      "xlabel('I')\n",
      "ylabel('f(I)')\n",
      "title('Empirical distribution and value of $yn$')\n",
      "print \"\"\n",
      "print \"Moran's I value is: %.4f\"%mn.I"
     ],
     "language": "python",
     "metadata": {},
     "outputs": [
      {
       "output_type": "stream",
       "stream": "stdout",
       "text": [
        "\n",
        "Moran's I value is: -1.0000\n"
       ]
      },
      {
       "output_type": "display_data",
       "png": "[encoded data removed]"
      }
     ],
     "prompt_number": 16
    },
    {
     "cell_type": "markdown",
     "metadata": {},
     "source": [
      "Now let's try Moran's I on the Amsterdam checkin data. Note that because we have already created the weights (see the notebook `PySAL_weights` in the same folder), we can simply load them."
     ]
    },
    {
     "cell_type": "code",
     "collapsed": false,
     "input": [
      "w = ps.open('data/adam.gal').read()\n",
      "w.transform = 'R'\n",
      "w"
     ],
     "language": "python",
     "metadata": {},
     "outputs": [
      {
       "output_type": "pyout",
       "prompt_number": 17,
       "text": [
        "<pysal.weights.weights.W at 0x46769d0>"
       ]
      }
     ],
     "prompt_number": 17
    },
    {
     "cell_type": "markdown",
     "metadata": {},
     "source": [
      "Let's try it on the total volume of checkins by neighborhood:"
     ]
    },
    {
     "cell_type": "code",
     "collapsed": false,
     "input": [
      "total = np.array(ps.open('data/amsterdam_hoods.dbf').by_col('total'))"
     ],
     "language": "python",
     "metadata": {},
     "outputs": [],
     "prompt_number": 18
    },
    {
     "cell_type": "code",
     "collapsed": false,
     "input": [
      "mi_adam = ps.Moran(total, w)\n",
      "srv = pd.Series(mi_adam.sim)\n",
      "f = figure()\n",
      "ax = f.add_subplot(111)\n",
      "srv.plot(kind='kde', ax=ax)\n",
      "axvline(mi_adam.I, color='r')\n",
      "xlabel('I')\n",
      "ylabel('f(I)')\n",
      "title('Empirical distribution and value of total checkins in Amsterdam')\n",
      "print \"\"\n",
      "print \"Moran's I value is: %.4f\"%mi_adam.I"
     ],
     "language": "python",
     "metadata": {},
     "outputs": [
      {
       "output_type": "stream",
       "stream": "stdout",
       "text": [
        "\n",
        "Moran's I value is: 0.3748\n"
       ]
      },
      {
       "output_type": "display_data",
       "png": "[encoded data removed]"
      }
     ],
     "prompt_number": 19
    },
    {
     "cell_type": "markdown",
     "metadata": {},
     "source": [
      "### Scatter plot\n",
      "\n",
      "One way to graphically display and understand Moran's I is through the so called `scatter plot`, that represents the values of `y` against their spatially lagged values (`wy`). This is straightforward to plot with `matplotlib`. An interesting addition is to include a fitted line, whose slope corresponds to Moran's I."
     ]
    },
    {
     "cell_type": "code",
     "collapsed": false,
     "input": [
      "w_total = ps.lag_spatial(w, total)\n",
      "scatter(total, w_total, marker='.', s=20, alpha=1, color='k')\n",
      "fit = ps.spreg.OLS(total[:, None], total[:, None])\n",
      "plot(total[:, None], fit.predy, color='r')\n",
      "title(\"Slope coefficient: %.4f\"%fit.betas[1])"
     ],
     "language": "python",
     "metadata": {},
     "outputs": [
      {
       "output_type": "pyout",
       "prompt_number": 20,
       "text": [
        "<matplotlib.text.Text at 0x4bb3b90>"
       ]
      },
      {
       "output_type": "display_data",
       "png": "[encoded data removed]"
      }
     ],
     "prompt_number": 20
    },
    {
     "cell_type": "code",
     "collapsed": false,
     "input": [
      "mi_adam.I"
     ],
     "language": "python",
     "metadata": {},
     "outputs": [
      {
       "output_type": "pyout",
       "prompt_number": 21,
       "text": [
        "0.37484886591924094"
       ]
      }
     ],
     "prompt_number": 21
    },
    {
     "cell_type": "markdown",
     "metadata": {},
     "source": [
      "#### On your own\n",
      "\n",
      "Try to explore the change of spatial autocorrelation in the volume of checkins over the different hours of the day."
     ]
    },
    {
     "cell_type": "markdown",
     "metadata": {},
     "source": [
      "## Local spatial autocorrelation\n",
      "\n",
      "[Anselin, 1995. *Local Indicators of Spatial Association*](http://onlinelibrary.wiley.com/doi/10.1111/j.1538-4632.1995.tb00338.x/abstract)"
     ]
    },
    {
     "cell_type": "code",
     "collapsed": false,
     "input": [
      "from pysal.contrib.viz import mapping as viz"
     ],
     "language": "python",
     "metadata": {},
     "outputs": [],
     "prompt_number": 22
    },
    {
     "cell_type": "code",
     "collapsed": false,
     "input": [
      "lisa_total = ps.Moran_Local(total, w)"
     ],
     "language": "python",
     "metadata": {},
     "outputs": [],
     "prompt_number": 23
    },
    {
     "cell_type": "code",
     "collapsed": true,
     "input": [
      "lisa_total.Is"
     ],
     "language": "python",
     "metadata": {},
     "outputs": [
      {
       "output_type": "pyout",
       "prompt_number": 24,
       "text": [
        "array([  6.00928348e+00,   4.61049219e+00,   4.21625690e+00,\n",
        "         5.85778358e+00,   1.85434314e+00,   6.28629394e-01,\n",
        "         7.82059246e-01,   2.91992050e+00,   3.79614269e-01,\n",
        "         9.00362375e-02,  -3.15884500e-02,  -3.87707864e-01,\n",
        "        -1.46755548e-01,   2.16206112e-02,   1.51768095e-01,\n",
        "         5.85137017e-02,  -3.55651247e-03,  -2.00495239e-02,\n",
        "         2.53094637e-01,   2.65744884e-02,  -3.85914527e-01,\n",
        "         1.07817032e-01,  -2.00100954e-01,  -1.28315718e-01,\n",
        "        -1.24848021e-01,  -2.85310661e-01,  -1.20589376e-01,\n",
        "        -0.00000000e+00,   3.46222202e-01,  -1.81243281e-01,\n",
        "         3.83573127e-02,   2.27087403e-01,   9.07483942e-02,\n",
        "         2.19138381e-01,   2.63422429e-01,   2.56582190e-01,\n",
        "         2.01213118e-01,  -4.74572686e-01,  -5.88628830e-01,\n",
        "         5.08278164e-01,   4.97589107e-01,   4.93393442e-01,\n",
        "         3.06105138e-01,   2.22173819e-01,   4.87447098e-01,\n",
        "         4.91732036e-01,   4.35930530e-01,   3.49562356e-01,\n",
        "         1.14567123e-01,   1.88236539e-01,   2.02206393e-01,\n",
        "         2.15329787e-01,   8.72422953e-02,   2.63652616e-01,\n",
        "         4.40349543e-01,   5.02263000e-01,   3.88195119e-01,\n",
        "         7.75548690e-02,   1.67674606e-01,   3.54347065e-01,\n",
        "         1.84807572e-01,  -8.81867741e-02,   1.47323208e-01,\n",
        "        -6.50123144e-03,   3.60884988e-03,   7.43432590e-01,\n",
        "         1.97889741e-01,   1.18667866e-02,   1.68373918e-01,\n",
        "         3.17586835e-02,   1.64696808e-01,   4.21305299e-01,\n",
        "         1.58410835e-01,  -2.99822873e-02,   2.50045741e-02,\n",
        "        -1.44443287e-01,  -6.24732651e-02,  -1.36036262e-01,\n",
        "        -3.97822541e-01,   1.21608637e-03,   7.31089535e-01,\n",
        "         2.24929241e-02,  -8.04512891e-02,   3.05613345e-02,\n",
        "         1.04569058e-01,  -2.68784057e-02,   7.42422057e-01,\n",
        "        -7.16215299e-03,  -1.21280935e-01,  -5.37466361e-01,\n",
        "         1.43591500e-02,  -6.84062578e-02,  -8.05244122e-02,\n",
        "        -7.60828884e-02,  -1.29253720e-01,   2.23350448e-03])"
       ]
      }
     ],
     "prompt_number": 24
    },
    {
     "cell_type": "code",
     "collapsed": true,
     "input": [
      "lisa_total.p_sim"
     ],
     "language": "python",
     "metadata": {},
     "outputs": [
      {
       "output_type": "pyout",
       "prompt_number": 25,
       "text": [
        "array([ 0.003,  0.004,  0.001,  0.001,  0.002,  0.004,  0.068,  0.006,\n",
        "        0.01 ,  0.11 ,  0.309,  0.195,  0.249,  0.374,  0.214,  0.394,\n",
        "        0.424,  0.366,  0.219,  0.326,  0.052,  0.135,  0.066,  0.193,\n",
        "        0.248,  0.276,  0.287,  0.001,  0.258,  0.25 ,  0.232,  0.206,\n",
        "        0.263,  0.028,  0.129,  0.065,  0.161,  0.072,  0.023,  0.012,\n",
        "        0.067,  0.001,  0.167,  0.285,  0.008,  0.002,  0.001,  0.046,\n",
        "        0.18 ,  0.267,  0.264,  0.263,  0.499,  0.066,  0.001,  0.01 ,\n",
        "        0.021,  0.315,  0.154,  0.162,  0.157,  0.314,  0.108,  0.399,\n",
        "        0.374,  0.239,  0.149,  0.406,  0.274,  0.194,  0.456,  0.291,\n",
        "        0.1  ,  0.318,  0.193,  0.164,  0.498,  0.342,  0.128,  0.379,\n",
        "        0.037,  0.244,  0.276,  0.468,  0.406,  0.329,  0.12 ,  0.467,\n",
        "        0.182,  0.066,  0.395,  0.272,  0.219,  0.206,  0.469,  0.219])"
       ]
      }
     ],
     "prompt_number": 25
    },
    {
     "cell_type": "code",
     "collapsed": true,
     "input": [
      "hoods = viz.Map_Projection(\"data/amsterdam_hoods.shp\")\n",
      "viz.lisa_cluster_map(hoods, lisa_total, title=\"LISA Cluster Map\")"
     ],
     "language": "python",
     "metadata": {},
     "outputs": [
      {
       "output_type": "display_data",
       "png": "[encoded data removed]"
      }
     ],
     "prompt_number": 26
    }
   ],
   "metadata": {}
  }
 ]
}