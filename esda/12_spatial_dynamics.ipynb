{
 "cells": [
  {
   "cell_type": "code",
   "execution_count": 1,
   "metadata": {
    "collapsed": false
   },
   "outputs": [
    {
     "name": "stdout",
     "output_type": "stream",
     "text": [
      "Populating the interactive namespace from numpy and matplotlib\n"
     ]
    }
   ],
   "source": [
    "import pysal as ps\n",
    "import numpy as np\n",
    "%pylab inline"
   ]
  },
  {
   "cell_type": "code",
   "execution_count": 2,
   "metadata": {
    "collapsed": false
   },
   "outputs": [],
   "source": [
    "f = ps.open(\"data/usjoin.csv\",'r')"
   ]
  },
  {
   "cell_type": "markdown",
   "metadata": {},
   "source": [
    "To determine what is in the file, check the `header` attribute on the file object:"
   ]
  },
  {
   "cell_type": "code",
   "execution_count": 3,
   "metadata": {
    "collapsed": false
   },
   "outputs": [
    {
     "data": {
      "text/plain": [
       "['Name',\n",
       " 'STATE_FIPS',\n",
       " '1929',\n",
       " '1930',\n",
       " '1931',\n",
       " '1932',\n",
       " '1933',\n",
       " '1934',\n",
       " '1935',\n",
       " '1936',\n",
       " '1937',\n",
       " '1938',\n",
       " '1939',\n",
       " '1940',\n",
       " '1941',\n",
       " '1942',\n",
       " '1943',\n",
       " '1944',\n",
       " '1945',\n",
       " '1946',\n",
       " '1947',\n",
       " '1948',\n",
       " '1949',\n",
       " '1950',\n",
       " '1951',\n",
       " '1952',\n",
       " '1953',\n",
       " '1954',\n",
       " '1955',\n",
       " '1956',\n",
       " '1957',\n",
       " '1958',\n",
       " '1959',\n",
       " '1960',\n",
       " '1961',\n",
       " '1962',\n",
       " '1963',\n",
       " '1964',\n",
       " '1965',\n",
       " '1966',\n",
       " '1967',\n",
       " '1968',\n",
       " '1969',\n",
       " '1970',\n",
       " '1971',\n",
       " '1972',\n",
       " '1973',\n",
       " '1974',\n",
       " '1975',\n",
       " '1976',\n",
       " '1977',\n",
       " '1978',\n",
       " '1979',\n",
       " '1980',\n",
       " '1981',\n",
       " '1982',\n",
       " '1983',\n",
       " '1984',\n",
       " '1985',\n",
       " '1986',\n",
       " '1987',\n",
       " '1988',\n",
       " '1989',\n",
       " '1990',\n",
       " '1991',\n",
       " '1992',\n",
       " '1993',\n",
       " '1994',\n",
       " '1995',\n",
       " '1996',\n",
       " '1997',\n",
       " '1998',\n",
       " '1999',\n",
       " '2000',\n",
       " '2001',\n",
       " '2002',\n",
       " '2003',\n",
       " '2004',\n",
       " '2005',\n",
       " '2006',\n",
       " '2007',\n",
       " '2008',\n",
       " '2009']"
      ]
     },
     "execution_count": 3,
     "metadata": {},
     "output_type": "execute_result"
    }
   ],
   "source": [
    "f.header"
   ]
  },
  {
   "cell_type": "markdown",
   "metadata": {},
   "source": [
    "Ok, lets pull in the name variable to see what we have"
   ]
  },
  {
   "cell_type": "code",
   "execution_count": 4,
   "metadata": {
    "collapsed": false
   },
   "outputs": [],
   "source": [
    "name = f.by_col('Name')"
   ]
  },
  {
   "cell_type": "code",
   "execution_count": 5,
   "metadata": {
    "collapsed": false
   },
   "outputs": [
    {
     "data": {
      "text/plain": [
       "['Alabama',\n",
       " 'Arizona',\n",
       " 'Arkansas',\n",
       " 'California',\n",
       " 'Colorado',\n",
       " 'Connecticut',\n",
       " 'Delaware',\n",
       " 'Florida',\n",
       " 'Georgia',\n",
       " 'Idaho',\n",
       " 'Illinois',\n",
       " 'Indiana',\n",
       " 'Iowa',\n",
       " 'Kansas',\n",
       " 'Kentucky',\n",
       " 'Louisiana',\n",
       " 'Maine',\n",
       " 'Maryland',\n",
       " 'Massachusetts',\n",
       " 'Michigan',\n",
       " 'Minnesota',\n",
       " 'Mississippi',\n",
       " 'Missouri',\n",
       " 'Montana',\n",
       " 'Nebraska',\n",
       " 'Nevada',\n",
       " 'New Hampshire',\n",
       " 'New Jersey',\n",
       " 'New Mexico',\n",
       " 'New York',\n",
       " 'North Carolina',\n",
       " 'North Dakota',\n",
       " 'Ohio',\n",
       " 'Oklahoma',\n",
       " 'Oregon',\n",
       " 'Pennsylvania',\n",
       " 'Rhode Island',\n",
       " 'South Carolina',\n",
       " 'South Dakota',\n",
       " 'Tennessee',\n",
       " 'Texas',\n",
       " 'Utah',\n",
       " 'Vermont',\n",
       " 'Virginia',\n",
       " 'Washington',\n",
       " 'West Virginia',\n",
       " 'Wisconsin',\n",
       " 'Wyoming']"
      ]
     },
     "execution_count": 5,
     "metadata": {},
     "output_type": "execute_result"
    }
   ],
   "source": [
    "name"
   ]
  },
  {
   "cell_type": "markdown",
   "metadata": {},
   "source": [
    "Now obtain per capital incomes in 1929 which is in the column associated with `1929`"
   ]
  },
  {
   "cell_type": "code",
   "execution_count": 6,
   "metadata": {
    "collapsed": false
   },
   "outputs": [],
   "source": [
    "y1929 = f.by_col('1929')"
   ]
  },
  {
   "cell_type": "code",
   "execution_count": 7,
   "metadata": {
    "collapsed": false
   },
   "outputs": [
    {
     "data": {
      "text/plain": [
       "[323,\n",
       " 600,\n",
       " 310,\n",
       " 991,\n",
       " 634,\n",
       " 1024,\n",
       " 1032,\n",
       " 518,\n",
       " 347,\n",
       " 507,\n",
       " 948,\n",
       " 607,\n",
       " 581,\n",
       " 532,\n",
       " 393,\n",
       " 414,\n",
       " 601,\n",
       " 768,\n",
       " 906,\n",
       " 790,\n",
       " 599,\n",
       " 286,\n",
       " 621,\n",
       " 592,\n",
       " 596,\n",
       " 868,\n",
       " 686,\n",
       " 918,\n",
       " 410,\n",
       " 1152,\n",
       " 332,\n",
       " 382,\n",
       " 771,\n",
       " 455,\n",
       " 668,\n",
       " 772,\n",
       " 874,\n",
       " 271,\n",
       " 426,\n",
       " 378,\n",
       " 479,\n",
       " 551,\n",
       " 634,\n",
       " 434,\n",
       " 741,\n",
       " 460,\n",
       " 673,\n",
       " 675]"
      ]
     },
     "execution_count": 7,
     "metadata": {},
     "output_type": "execute_result"
    }
   ],
   "source": [
    "y1929"
   ]
  },
  {
   "cell_type": "markdown",
   "metadata": {},
   "source": [
    "And now 2009"
   ]
  },
  {
   "cell_type": "code",
   "execution_count": 8,
   "metadata": {
    "collapsed": false
   },
   "outputs": [],
   "source": [
    "y2009 = f.by_col(\"2009\")"
   ]
  },
  {
   "cell_type": "code",
   "execution_count": 9,
   "metadata": {
    "collapsed": false
   },
   "outputs": [
    {
     "data": {
      "text/plain": [
       "[32274,\n",
       " 32077,\n",
       " 31493,\n",
       " 40902,\n",
       " 40093,\n",
       " 52736,\n",
       " 40135,\n",
       " 36565,\n",
       " 33086,\n",
       " 30987,\n",
       " 40933,\n",
       " 33174,\n",
       " 35983,\n",
       " 37036,\n",
       " 31250,\n",
       " 35151,\n",
       " 35268,\n",
       " 47159,\n",
       " 49590,\n",
       " 34280,\n",
       " 40920,\n",
       " 29318,\n",
       " 35106,\n",
       " 32699,\n",
       " 37057,\n",
       " 38009,\n",
       " 41882,\n",
       " 48123,\n",
       " 32197,\n",
       " 46844,\n",
       " 33564,\n",
       " 38672,\n",
       " 35018,\n",
       " 33708,\n",
       " 35210,\n",
       " 38827,\n",
       " 41283,\n",
       " 30835,\n",
       " 36499,\n",
       " 33512,\n",
       " 35674,\n",
       " 30107,\n",
       " 36752,\n",
       " 43211,\n",
       " 40619,\n",
       " 31843,\n",
       " 35676,\n",
       " 42504]"
      ]
     },
     "execution_count": 9,
     "metadata": {},
     "output_type": "execute_result"
    }
   ],
   "source": [
    "y2009"
   ]
  },
  {
   "cell_type": "markdown",
   "metadata": {},
   "source": [
    "These are read into regular Python lists which are not particularly well suited to efficient data analysis. So let's convert them to numpy arrays"
   ]
  },
  {
   "cell_type": "code",
   "execution_count": 10,
   "metadata": {
    "collapsed": false
   },
   "outputs": [],
   "source": [
    "y2009 = np.array(y2009)"
   ]
  },
  {
   "cell_type": "code",
   "execution_count": 11,
   "metadata": {
    "collapsed": false
   },
   "outputs": [
    {
     "data": {
      "text/plain": [
       "array([32274, 32077, 31493, 40902, 40093, 52736, 40135, 36565, 33086,\n",
       "       30987, 40933, 33174, 35983, 37036, 31250, 35151, 35268, 47159,\n",
       "       49590, 34280, 40920, 29318, 35106, 32699, 37057, 38009, 41882,\n",
       "       48123, 32197, 46844, 33564, 38672, 35018, 33708, 35210, 38827,\n",
       "       41283, 30835, 36499, 33512, 35674, 30107, 36752, 43211, 40619,\n",
       "       31843, 35676, 42504])"
      ]
     },
     "execution_count": 11,
     "metadata": {},
     "output_type": "execute_result"
    }
   ],
   "source": [
    "y2009"
   ]
  },
  {
   "cell_type": "markdown",
   "metadata": {},
   "source": [
    "Much better. But pulling these in and converting them a column at a time is tedious and error prone. So we will do all of this in a list comprehension."
   ]
  },
  {
   "cell_type": "code",
   "execution_count": 12,
   "metadata": {
    "collapsed": false
   },
   "outputs": [],
   "source": [
    "Y = np.array( [ f.by_col(str(year)) for year in range(1929,2010) ] ) * 1.0"
   ]
  },
  {
   "cell_type": "code",
   "execution_count": 13,
   "metadata": {
    "collapsed": false
   },
   "outputs": [
    {
     "data": {
      "text/plain": [
       "(81, 48)"
      ]
     },
     "execution_count": 13,
     "metadata": {},
     "output_type": "execute_result"
    }
   ],
   "source": [
    "Y.shape"
   ]
  },
  {
   "cell_type": "code",
   "execution_count": 14,
   "metadata": {
    "collapsed": false
   },
   "outputs": [],
   "source": [
    "Y = Y.transpose()"
   ]
  },
  {
   "cell_type": "code",
   "execution_count": 15,
   "metadata": {
    "collapsed": false
   },
   "outputs": [
    {
     "data": {
      "text/plain": [
       "(48, 81)"
      ]
     },
     "execution_count": 15,
     "metadata": {},
     "output_type": "execute_result"
    }
   ],
   "source": [
    "Y.shape"
   ]
  },
  {
   "cell_type": "code",
   "execution_count": 16,
   "metadata": {
    "collapsed": false
   },
   "outputs": [],
   "source": [
    "years = np.arange(1929,2010)"
   ]
  },
  {
   "cell_type": "code",
   "execution_count": 17,
   "metadata": {
    "collapsed": false
   },
   "outputs": [
    {
     "data": {
      "text/plain": [
       "[<matplotlib.lines.Line2D at 0x10a3df5d0>]"
      ]
     },
     "execution_count": 17,
     "metadata": {},
     "output_type": "execute_result"
    },
    {
     "data": {
      "image/png": "[encoded data removed]",
      "text/plain": [
       "<matplotlib.figure.Figure at 0x10a2f8b50>"
      ]
     },
     "metadata": {},
     "output_type": "display_data"
    }
   ],
   "source": [
    "plot(years,Y[0])"
   ]
  },
  {
   "cell_type": "code",
   "execution_count": 18,
   "metadata": {
    "collapsed": false
   },
   "outputs": [],
   "source": [
    "RY = Y / Y.mean(axis=0)"
   ]
  },
  {
   "cell_type": "code",
   "execution_count": 19,
   "metadata": {
    "collapsed": false
   },
   "outputs": [
    {
     "data": {
      "text/plain": [
       "[<matplotlib.lines.Line2D at 0x10a73cc90>]"
      ]
     },
     "execution_count": 19,
     "metadata": {},
     "output_type": "execute_result"
    },
    {
     "data": {
      "image/png": "[encoded data removed]",
      "text/plain": [
       "<matplotlib.figure.Figure at 0x10a450350>"
      ]
     },
     "metadata": {},
     "output_type": "display_data"
    }
   ],
   "source": [
    "plot(years,RY[0])"
   ]
  },
  {
   "cell_type": "code",
   "execution_count": 20,
   "metadata": {
    "collapsed": false
   },
   "outputs": [],
   "source": [
    "name = np.array(name)"
   ]
  },
  {
   "cell_type": "code",
   "execution_count": 21,
   "metadata": {
    "collapsed": false
   },
   "outputs": [
    {
     "data": {
      "text/plain": [
       "(array([32]),)"
      ]
     },
     "execution_count": 21,
     "metadata": {},
     "output_type": "execute_result"
    }
   ],
   "source": [
    "np.nonzero(name=='Ohio')"
   ]
  },
  {
   "cell_type": "code",
   "execution_count": 22,
   "metadata": {
    "collapsed": false
   },
   "outputs": [
    {
     "data": {
      "text/plain": [
       "<matplotlib.legend.Legend at 0x10b279c50>"
      ]
     },
     "execution_count": 22,
     "metadata": {},
     "output_type": "execute_result"
    },
    {
     "data": {
      "image/png": "[encoded data removed]",
      "text/plain": [
       "<matplotlib.figure.Figure at 0x10a7912d0>"
      ]
     },
     "metadata": {},
     "output_type": "display_data"
    }
   ],
   "source": [
    "plot(years, RY[32], label='Ohio')\n",
    "plot(years, RY[0], label='Alabama')\n",
    "legend()"
   ]
  },
  {
   "cell_type": "markdown",
   "metadata": {},
   "source": [
    "# Kernel Density (univariate, aspatial)"
   ]
  },
  {
   "cell_type": "code",
   "execution_count": 23,
   "metadata": {
    "collapsed": false
   },
   "outputs": [],
   "source": [
    "from scipy.stats.kde import gaussian_kde"
   ]
  },
  {
   "cell_type": "code",
   "execution_count": 24,
   "metadata": {
    "collapsed": false
   },
   "outputs": [],
   "source": [
    "density = gaussian_kde(Y[:,0])"
   ]
  },
  {
   "cell_type": "code",
   "execution_count": 25,
   "metadata": {
    "collapsed": false
   },
   "outputs": [
    {
     "data": {
      "text/plain": [
       "array([  323.,   600.,   310.,   991.,   634.,  1024.,  1032.,   518.,\n",
       "         347.,   507.,   948.,   607.,   581.,   532.,   393.,   414.,\n",
       "         601.,   768.,   906.,   790.,   599.,   286.,   621.,   592.,\n",
       "         596.,   868.,   686.,   918.,   410.,  1152.,   332.,   382.,\n",
       "         771.,   455.,   668.,   772.,   874.,   271.,   426.,   378.,\n",
       "         479.,   551.,   634.,   434.,   741.,   460.,   673.,   675.])"
      ]
     },
     "execution_count": 25,
     "metadata": {},
     "output_type": "execute_result"
    }
   ],
   "source": [
    "Y[:,0]"
   ]
  },
  {
   "cell_type": "code",
   "execution_count": 26,
   "metadata": {
    "collapsed": false
   },
   "outputs": [],
   "source": [
    "density = gaussian_kde(Y[:,0])"
   ]
  },
  {
   "cell_type": "code",
   "execution_count": 27,
   "metadata": {
    "collapsed": false
   },
   "outputs": [],
   "source": [
    "minY0 = Y[:,0].min()*.90\n",
    "maxY0 = Y[:,0].max()*1.10\n",
    "x = np.linspace(minY0, maxY0, 100)"
   ]
  },
  {
   "cell_type": "code",
   "execution_count": 28,
   "metadata": {
    "collapsed": false
   },
   "outputs": [
    {
     "data": {
      "text/plain": [
       "[<matplotlib.lines.Line2D at 0x10b3b9ed0>]"
      ]
     },
     "execution_count": 28,
     "metadata": {},
     "output_type": "execute_result"
    },
    {
     "data": {
      "image/png": "[encoded data removed]",
      "text/plain": [
       "<matplotlib.figure.Figure at 0x10b286c50>"
      ]
     },
     "metadata": {},
     "output_type": "display_data"
    }
   ],
   "source": [
    "plot(x,density(x))"
   ]
  },
  {
   "cell_type": "code",
   "execution_count": 29,
   "metadata": {
    "collapsed": false
   },
   "outputs": [],
   "source": [
    "d2009 = gaussian_kde(Y[:,-1])"
   ]
  },
  {
   "cell_type": "code",
   "execution_count": 30,
   "metadata": {
    "collapsed": false
   },
   "outputs": [],
   "source": [
    "minY0 = Y[:,-1].min()*.90\n",
    "maxY0 = Y[:,-1].max()*1.10\n",
    "x = np.linspace(minY0, maxY0, 100)"
   ]
  },
  {
   "cell_type": "code",
   "execution_count": 31,
   "metadata": {
    "collapsed": false
   },
   "outputs": [
    {
     "data": {
      "text/plain": [
       "[<matplotlib.lines.Line2D at 0x10b703550>]"
      ]
     },
     "execution_count": 31,
     "metadata": {},
     "output_type": "execute_result"
    },
    {
     "data": {
      "image/png": "[encoded data removed]",
      "text/plain": [
       "<matplotlib.figure.Figure at 0x10b3f8ed0>"
      ]
     },
     "metadata": {},
     "output_type": "display_data"
    }
   ],
   "source": [
    "plot(x,d2009(x))"
   ]
  },
  {
   "cell_type": "code",
   "execution_count": 32,
   "metadata": {
    "collapsed": false
   },
   "outputs": [],
   "source": [
    "minR0 = RY.min()"
   ]
  },
  {
   "cell_type": "code",
   "execution_count": 33,
   "metadata": {
    "collapsed": false
   },
   "outputs": [],
   "source": [
    "maxR0 = RY.max()"
   ]
  },
  {
   "cell_type": "code",
   "execution_count": 34,
   "metadata": {
    "collapsed": false
   },
   "outputs": [],
   "source": [
    "x = np.linspace(minR0, maxR0, 100)"
   ]
  },
  {
   "cell_type": "code",
   "execution_count": 35,
   "metadata": {
    "collapsed": false
   },
   "outputs": [],
   "source": [
    "d1929 = gaussian_kde(RY[:,0])"
   ]
  },
  {
   "cell_type": "code",
   "execution_count": 36,
   "metadata": {
    "collapsed": false
   },
   "outputs": [],
   "source": [
    "d2009 = gaussian_kde(RY[:,-1])"
   ]
  },
  {
   "cell_type": "code",
   "execution_count": 37,
   "metadata": {
    "collapsed": false
   },
   "outputs": [
    {
     "data": {
      "text/plain": [
       "[<matplotlib.lines.Line2D at 0x10b53bcd0>]"
      ]
     },
     "execution_count": 37,
     "metadata": {},
     "output_type": "execute_result"
    },
    {
     "data": {
      "image/png": "[encoded data removed]",
      "text/plain": [
       "<matplotlib.figure.Figure at 0x10b53bfd0>"
      ]
     },
     "metadata": {},
     "output_type": "display_data"
    }
   ],
   "source": [
    "plot(x, d1929(x))\n",
    "plot(x, d2009(x))"
   ]
  },
  {
   "cell_type": "code",
   "execution_count": 38,
   "metadata": {
    "collapsed": false
   },
   "outputs": [
    {
     "data": {
      "text/plain": [
       "<matplotlib.legend.Legend at 0x10c970310>"
      ]
     },
     "execution_count": 38,
     "metadata": {},
     "output_type": "execute_result"
    },
    {
     "data": {
      "image/png": "[encoded data removed]",
      "text/plain": [
       "<matplotlib.figure.Figure at 0x10c800690>"
      ]
     },
     "metadata": {},
     "output_type": "display_data"
    }
   ],
   "source": [
    "plot(x, d1929(x), label='1929')\n",
    "plot(x, d2009(x), label='2009')\n",
    "legend()"
   ]
  },
  {
   "cell_type": "markdown",
   "metadata": {},
   "source": [
    "## Markov Chains"
   ]
  },
  {
   "cell_type": "code",
   "execution_count": 39,
   "metadata": {
    "collapsed": false
   },
   "outputs": [],
   "source": [
    "c = np.array([['b','a','c'],\n",
    "['c','c','a'],\n",
    "['c','b','c'],\n",
    "['a','a','b'],\n",
    "['a','b','c']])"
   ]
  },
  {
   "cell_type": "code",
   "execution_count": 40,
   "metadata": {
    "collapsed": false
   },
   "outputs": [
    {
     "data": {
      "text/plain": [
       "array([['b', 'a', 'c'],\n",
       "       ['c', 'c', 'a'],\n",
       "       ['c', 'b', 'c'],\n",
       "       ['a', 'a', 'b'],\n",
       "       ['a', 'b', 'c']], \n",
       "      dtype='|S1')"
      ]
     },
     "execution_count": 40,
     "metadata": {},
     "output_type": "execute_result"
    }
   ],
   "source": [
    "c"
   ]
  },
  {
   "cell_type": "code",
   "execution_count": 41,
   "metadata": {
    "collapsed": false
   },
   "outputs": [],
   "source": [
    "m = ps.Markov(c)"
   ]
  },
  {
   "cell_type": "code",
   "execution_count": 42,
   "metadata": {
    "collapsed": false
   },
   "outputs": [
    {
     "data": {
      "text/plain": [
       "array(['a', 'b', 'c'], \n",
       "      dtype='|S1')"
      ]
     },
     "execution_count": 42,
     "metadata": {},
     "output_type": "execute_result"
    }
   ],
   "source": [
    "m.classes"
   ]
  },
  {
   "cell_type": "code",
   "execution_count": 43,
   "metadata": {
    "collapsed": false
   },
   "outputs": [
    {
     "data": {
      "text/plain": [
       "array([[ 1.,  2.,  1.],\n",
       "       [ 1.,  0.,  2.],\n",
       "       [ 1.,  1.,  1.]])"
      ]
     },
     "execution_count": 43,
     "metadata": {},
     "output_type": "execute_result"
    }
   ],
   "source": [
    "m.transitions"
   ]
  },
  {
   "cell_type": "code",
   "execution_count": 44,
   "metadata": {
    "collapsed": false
   },
   "outputs": [
    {
     "data": {
      "text/plain": [
       "matrix([[ 0.25      ,  0.5       ,  0.25      ],\n",
       "        [ 0.33333333,  0.        ,  0.66666667],\n",
       "        [ 0.33333333,  0.33333333,  0.33333333]])"
      ]
     },
     "execution_count": 44,
     "metadata": {},
     "output_type": "execute_result"
    }
   ],
   "source": [
    "m.p"
   ]
  },
  {
   "cell_type": "markdown",
   "metadata": {},
   "source": [
    "### State Per Capita Incomes"
   ]
  },
  {
   "cell_type": "code",
   "execution_count": 45,
   "metadata": {
    "collapsed": false
   },
   "outputs": [
    {
     "data": {
      "text/plain": [
       "(81, 48)"
      ]
     },
     "execution_count": 45,
     "metadata": {},
     "output_type": "execute_result"
    }
   ],
   "source": [
    "f = ps.open(\"data/usjoin.csv\")\n",
    "pci = np.array([f.by_col[str(y)] for y in range(1929,2010)])\n",
    "pci.shape"
   ]
  },
  {
   "cell_type": "markdown",
   "metadata": {},
   "source": [
    "Put series into cross-sectional quintiles (i.e., quintiles for each year)"
   ]
  },
  {
   "cell_type": "code",
   "execution_count": 46,
   "metadata": {
    "collapsed": false
   },
   "outputs": [],
   "source": [
    "q5 = np.array([ps.Quantiles(y).yb for y in pci]).transpose()"
   ]
  },
  {
   "cell_type": "code",
   "execution_count": 47,
   "metadata": {
    "collapsed": false
   },
   "outputs": [
    {
     "data": {
      "text/plain": [
       "(48, 81)"
      ]
     },
     "execution_count": 47,
     "metadata": {},
     "output_type": "execute_result"
    }
   ],
   "source": [
    "q5.shape"
   ]
  },
  {
   "cell_type": "code",
   "execution_count": 48,
   "metadata": {
    "collapsed": false
   },
   "outputs": [
    {
     "data": {
      "text/plain": [
       "array([0, 2, 0, 4, 2, 4, 4, 1, 0, 1, 4, 2, 2, 1, 0, 1, 2, 3, 4, 4, 2, 0, 2,\n",
       "       2, 2, 4, 3, 4, 0, 4, 0, 0, 3, 1, 3, 3, 4, 0, 1, 0, 1, 2, 2, 1, 3, 1,\n",
       "       3, 3])"
      ]
     },
     "execution_count": 48,
     "metadata": {},
     "output_type": "execute_result"
    }
   ],
   "source": [
    "q5[:,0]"
   ]
  },
  {
   "cell_type": "code",
   "execution_count": 49,
   "metadata": {
    "collapsed": false
   },
   "outputs": [
    {
     "data": {
      "text/plain": [
       "(81, 48)"
      ]
     },
     "execution_count": 49,
     "metadata": {},
     "output_type": "execute_result"
    }
   ],
   "source": [
    "pci.shape"
   ]
  },
  {
   "cell_type": "code",
   "execution_count": 50,
   "metadata": {
    "collapsed": false
   },
   "outputs": [
    {
     "data": {
      "text/plain": [
       "array([ 323,  600,  310,  991,  634, 1024, 1032,  518,  347,  507,  948,\n",
       "        607,  581,  532,  393,  414,  601,  768,  906,  790,  599,  286,\n",
       "        621,  592,  596,  868,  686,  918,  410, 1152,  332,  382,  771,\n",
       "        455,  668,  772,  874,  271,  426,  378,  479,  551,  634,  434,\n",
       "        741,  460,  673,  675])"
      ]
     },
     "execution_count": 50,
     "metadata": {},
     "output_type": "execute_result"
    }
   ],
   "source": [
    "pci[0]"
   ]
  },
  {
   "cell_type": "markdown",
   "metadata": {},
   "source": [
    "we are looping over the rows of y which is ordered Txn (rows are cross sections, row 0 is the cross-section for period 0"
   ]
  },
  {
   "cell_type": "code",
   "execution_count": 51,
   "metadata": {
    "collapsed": false
   },
   "outputs": [],
   "source": [
    "m5 = ps.Markov(q5)"
   ]
  },
  {
   "cell_type": "code",
   "execution_count": 52,
   "metadata": {
    "collapsed": false
   },
   "outputs": [
    {
     "data": {
      "text/plain": [
       "array([0, 1, 2, 3, 4])"
      ]
     },
     "execution_count": 52,
     "metadata": {},
     "output_type": "execute_result"
    }
   ],
   "source": [
    "m5.classes"
   ]
  },
  {
   "cell_type": "code",
   "execution_count": 53,
   "metadata": {
    "collapsed": false
   },
   "outputs": [
    {
     "data": {
      "text/plain": [
       "array([[ 729.,   71.,    1.,    0.,    0.],\n",
       "       [  72.,  567.,   80.,    3.,    0.],\n",
       "       [   0.,   81.,  631.,   86.,    2.],\n",
       "       [   0.,    3.,   86.,  573.,   56.],\n",
       "       [   0.,    0.,    1.,   57.,  741.]])"
      ]
     },
     "execution_count": 53,
     "metadata": {},
     "output_type": "execute_result"
    }
   ],
   "source": [
    "m5.transitions"
   ]
  },
  {
   "cell_type": "code",
   "execution_count": 54,
   "metadata": {
    "collapsed": false
   },
   "outputs": [
    {
     "data": {
      "text/plain": [
       "matrix([[ 0.91011236,  0.0886392 ,  0.00124844,  0.        ,  0.        ],\n",
       "        [ 0.09972299,  0.78531856,  0.11080332,  0.00415512,  0.        ],\n",
       "        [ 0.        ,  0.10125   ,  0.78875   ,  0.1075    ,  0.0025    ],\n",
       "        [ 0.        ,  0.00417827,  0.11977716,  0.79805014,  0.07799443],\n",
       "        [ 0.        ,  0.        ,  0.00125156,  0.07133917,  0.92740926]])"
      ]
     },
     "execution_count": 54,
     "metadata": {},
     "output_type": "execute_result"
    }
   ],
   "source": [
    "m5.p"
   ]
  },
  {
   "cell_type": "code",
   "execution_count": 55,
   "metadata": {
    "collapsed": false
   },
   "outputs": [
    {
     "data": {
      "text/plain": [
       "matrix([[ 0.20774716],\n",
       "        [ 0.18725774],\n",
       "        [ 0.20740537],\n",
       "        [ 0.18821787],\n",
       "        [ 0.20937187]])"
      ]
     },
     "execution_count": 55,
     "metadata": {},
     "output_type": "execute_result"
    }
   ],
   "source": [
    "m5.steady_state"
   ]
  },
  {
   "cell_type": "code",
   "execution_count": 56,
   "metadata": {
    "collapsed": false
   },
   "outputs": [],
   "source": [
    "fmpt = ps.ergodic.fmpt(m5.p)"
   ]
  },
  {
   "cell_type": "code",
   "execution_count": 57,
   "metadata": {
    "collapsed": false
   },
   "outputs": [
    {
     "data": {
      "text/plain": [
       "matrix([[   4.81354357,   11.50292712,   29.60921231,   53.38594954,\n",
       "          103.59816743],\n",
       "        [  42.04774505,    5.34023324,   18.74455332,   42.50023268,\n",
       "           92.71316899],\n",
       "        [  69.25849753,   27.21075248,    4.82147603,   25.27184624,\n",
       "           75.43305672],\n",
       "        [  84.90689329,   42.85914824,   17.18082642,    5.31299186,\n",
       "           51.60953369],\n",
       "        [  98.41295543,   56.36521038,   30.66046735,   14.21158356,\n",
       "            4.77619083]])"
      ]
     },
     "execution_count": 57,
     "metadata": {},
     "output_type": "execute_result"
    }
   ],
   "source": [
    "fmpt"
   ]
  },
  {
   "cell_type": "markdown",
   "metadata": {},
   "source": [
    "For a state with income in the first quintile, it takes on average 11.5 years for it to first enter the second quintile, 29.6 to get to the third quintile, 53.4 years to enter the fourth, and 103.6 years to reach the richest quintile."
   ]
  },
  {
   "cell_type": "markdown",
   "metadata": {},
   "source": [
    "## Spatial Markov"
   ]
  },
  {
   "cell_type": "code",
   "execution_count": 58,
   "metadata": {
    "collapsed": false
   },
   "outputs": [
    {
     "data": {
      "text/plain": [
       "(81, 48)"
      ]
     },
     "execution_count": 58,
     "metadata": {},
     "output_type": "execute_result"
    }
   ],
   "source": [
    "pci.shape"
   ]
  },
  {
   "cell_type": "code",
   "execution_count": 59,
   "metadata": {
    "collapsed": false
   },
   "outputs": [],
   "source": [
    "pci = pci.T"
   ]
  },
  {
   "cell_type": "code",
   "execution_count": 60,
   "metadata": {
    "collapsed": false
   },
   "outputs": [
    {
     "data": {
      "text/plain": [
       "(48, 81)"
      ]
     },
     "execution_count": 60,
     "metadata": {},
     "output_type": "execute_result"
    }
   ],
   "source": [
    "pci.shape"
   ]
  },
  {
   "cell_type": "code",
   "execution_count": 61,
   "metadata": {
    "collapsed": false
   },
   "outputs": [],
   "source": [
    "rpci = pci / pci.mean(axis=0)"
   ]
  },
  {
   "cell_type": "code",
   "execution_count": 62,
   "metadata": {
    "collapsed": false
   },
   "outputs": [
    {
     "data": {
      "text/plain": [
       "array([ 0.5250254 ,  0.97527938,  0.50389434,  1.61083644,  1.03054521,\n",
       "        1.6644768 ,  1.67748053,  0.8419912 ,  0.56403657,  0.82411107,\n",
       "        1.54094142,  0.98665764,  0.94439553,  0.86474771,  0.63880799,\n",
       "        0.67294277,  0.97690484,  1.2483576 ,  1.47267186,  1.28411785,\n",
       "        0.97365391,  0.46488317,  1.00941416,  0.96227565,  0.96877751,\n",
       "        1.41090417,  1.11506942,  1.49217745,  0.66644091,  1.8725364 ,\n",
       "        0.53965459,  0.62092787,  1.253234  ,  0.73958686,  1.08581104,\n",
       "        1.25485946,  1.42065696,  0.44050119,  0.69244836,  0.61442601,\n",
       "        0.77859804,  0.89563156,  1.03054521,  0.70545208,  1.20447003,\n",
       "        0.74771419,  1.09393837,  1.0971893 ])"
      ]
     },
     "execution_count": 62,
     "metadata": {},
     "output_type": "execute_result"
    }
   ],
   "source": [
    "rpci[:,0]"
   ]
  },
  {
   "cell_type": "code",
   "execution_count": 63,
   "metadata": {
    "collapsed": false
   },
   "outputs": [
    {
     "data": {
      "text/plain": [
       "0.99999999999999989"
      ]
     },
     "execution_count": 63,
     "metadata": {},
     "output_type": "execute_result"
    }
   ],
   "source": [
    "rpci[:,0].mean()"
   ]
  },
  {
   "cell_type": "markdown",
   "metadata": {},
   "source": [
    "Read in a GAL file to construct our W"
   ]
  },
  {
   "cell_type": "code",
   "execution_count": 64,
   "metadata": {
    "collapsed": false
   },
   "outputs": [],
   "source": [
    "w = ps.open(ps.examples.get_path(\"states48.gal\")).read()"
   ]
  },
  {
   "cell_type": "code",
   "execution_count": 65,
   "metadata": {
    "collapsed": false
   },
   "outputs": [
    {
     "data": {
      "text/plain": [
       "48"
      ]
     },
     "execution_count": 65,
     "metadata": {},
     "output_type": "execute_result"
    }
   ],
   "source": [
    "w.n"
   ]
  },
  {
   "cell_type": "code",
   "execution_count": 66,
   "metadata": {
    "collapsed": false
   },
   "outputs": [],
   "source": [
    "w.transform = 'R'"
   ]
  },
  {
   "cell_type": "code",
   "execution_count": 67,
   "metadata": {
    "collapsed": false
   },
   "outputs": [],
   "source": [
    "sm = ps.Spatial_Markov(rpci, w, fixed=True, k=5)"
   ]
  },
  {
   "cell_type": "code",
   "execution_count": 68,
   "metadata": {
    "collapsed": false
   },
   "outputs": [
    {
     "data": {
      "text/plain": [
       "matrix([[ 0.91461837,  0.07503234,  0.00905563,  0.00129366,  0.        ],\n",
       "        [ 0.06570302,  0.82654402,  0.10512484,  0.00131406,  0.00131406],\n",
       "        [ 0.00520833,  0.10286458,  0.79427083,  0.09505208,  0.00260417],\n",
       "        [ 0.        ,  0.00913838,  0.09399478,  0.84856397,  0.04830287],\n",
       "        [ 0.        ,  0.        ,  0.        ,  0.06217617,  0.93782383]])"
      ]
     },
     "execution_count": 68,
     "metadata": {},
     "output_type": "execute_result"
    }
   ],
   "source": [
    "sm.p"
   ]
  },
  {
   "cell_type": "code",
   "execution_count": 69,
   "metadata": {
    "collapsed": false
   },
   "outputs": [
    {
     "name": "stdout",
     "output_type": "stream",
     "text": [
      "[[ 0.96341463  0.0304878   0.00609756  0.          0.        ]\n",
      " [ 0.06040268  0.83221477  0.10738255  0.          0.        ]\n",
      " [ 0.          0.14        0.74        0.12        0.        ]\n",
      " [ 0.          0.03571429  0.32142857  0.57142857  0.07142857]\n",
      " [ 0.          0.          0.          0.16666667  0.83333333]]\n",
      "[[ 0.79831933  0.16806723  0.03361345  0.          0.        ]\n",
      " [ 0.0754717   0.88207547  0.04245283  0.          0.        ]\n",
      " [ 0.00537634  0.06989247  0.8655914   0.05913978  0.        ]\n",
      " [ 0.          0.          0.06372549  0.90196078  0.03431373]\n",
      " [ 0.          0.          0.          0.19444444  0.80555556]]\n",
      "[[ 0.84693878  0.15306122  0.          0.          0.        ]\n",
      " [ 0.08133971  0.78947368  0.1291866   0.          0.        ]\n",
      " [ 0.00518135  0.0984456   0.79274611  0.0984456   0.00518135]\n",
      " [ 0.          0.          0.09411765  0.87058824  0.03529412]\n",
      " [ 0.          0.          0.          0.10204082  0.89795918]]\n",
      "[[ 0.8852459   0.09836066  0.          0.01639344  0.        ]\n",
      " [ 0.03875969  0.81395349  0.13953488  0.          0.00775194]\n",
      " [ 0.0049505   0.09405941  0.77722772  0.11881188  0.0049505 ]\n",
      " [ 0.          0.02339181  0.12865497  0.75438596  0.09356725]\n",
      " [ 0.          0.          0.          0.09661836  0.90338164]]\n",
      "[[ 0.33333333  0.66666667  0.          0.          0.        ]\n",
      " [ 0.0483871   0.77419355  0.16129032  0.01612903  0.        ]\n",
      " [ 0.01149425  0.16091954  0.74712644  0.08045977  0.        ]\n",
      " [ 0.          0.01036269  0.06217617  0.89637306  0.03108808]\n",
      " [ 0.          0.          0.          0.02352941  0.97647059]]\n"
     ]
    }
   ],
   "source": [
    "for p in sm.P:\n",
    "    print p"
   ]
  },
  {
   "cell_type": "code",
   "execution_count": 70,
   "metadata": {
    "collapsed": false
   },
   "outputs": [
    {
     "data": {
      "text/plain": [
       "array([[ 0.43509425,  0.2635327 ,  0.20363044,  0.06841983,  0.02932278],\n",
       "       [ 0.13391287,  0.33993305,  0.25153036,  0.23343016,  0.04119356],\n",
       "       [ 0.12124869,  0.21137444,  0.2635101 ,  0.29013417,  0.1137326 ],\n",
       "       [ 0.0776413 ,  0.19748806,  0.25352636,  0.22480415,  0.24654013],\n",
       "       [ 0.01776781,  0.19964349,  0.19009833,  0.25524697,  0.3372434 ]])"
      ]
     },
     "execution_count": 70,
     "metadata": {},
     "output_type": "execute_result"
    }
   ],
   "source": [
    "sm.S"
   ]
  },
  {
   "cell_type": "code",
   "execution_count": 71,
   "metadata": {
    "collapsed": false
   },
   "outputs": [
    {
     "name": "stdout",
     "output_type": "stream",
     "text": [
      "[[   2.29835259   28.95614035   46.14285714   80.80952381  279.42857143]\n",
      " [  33.86549708    3.79459555   22.57142857   57.23809524  255.85714286]\n",
      " [  43.60233918    9.73684211    4.91085714   34.66666667  233.28571429]\n",
      " [  46.62865497   12.76315789    6.25714286   14.61564626  198.61904762]\n",
      " [  52.62865497   18.76315789   12.25714286    6.           34.1031746 ]]\n",
      "[[   7.46754205    9.70574606   25.76785714   74.53116883  194.23446197]\n",
      " [  27.76691978    2.94175577   24.97142857   73.73474026  193.4380334 ]\n",
      " [  53.57477715   28.48447637    3.97566318   48.76331169  168.46660482]\n",
      " [  72.03631562   46.94601483   18.46153846    4.28393653  119.70329314]\n",
      " [  77.17917276   52.08887197   23.6043956     5.14285714   24.27564033]]\n",
      "[[   8.24751154    6.53333333   18.38765432   40.70864198  112.76732026]\n",
      " [  47.35040872    4.73094099   11.85432099   34.17530864  106.23398693]\n",
      " [  69.42288828   24.76666667    3.794921     22.32098765   94.37966594]\n",
      " [  83.72288828   39.06666667   14.3           3.44668119   76.36702977]\n",
      " [  93.52288828   48.86666667   24.1           9.8           8.79255406]]\n",
      "[[  12.87974382   13.34847151   19.83446328   28.47257282   55.82395142]\n",
      " [  99.46114206    5.06359731   10.54545198   23.05133495   49.68944423]\n",
      " [ 117.76777159   23.03735526    3.94436301   15.0843986    43.57927247]\n",
      " [ 127.89752089   32.4393006    14.56853107    4.44831643   31.63099455]\n",
      " [ 138.24752089   42.7893006    24.91853107   10.35          4.05613474]]\n",
      "[[  56.2815534     1.5          10.57236842   27.02173913  110.54347826]\n",
      " [  82.9223301     5.00892857    9.07236842   25.52173913  109.04347826]\n",
      " [  97.17718447   19.53125       5.26043557   21.42391304  104.94565217]\n",
      " [ 127.1407767    48.74107143   33.29605263    3.91777427   83.52173913]\n",
      " [ 169.6407767    91.24107143   75.79605263   42.5           2.96521739]]\n"
     ]
    }
   ],
   "source": [
    "for f in sm.F:\n",
    "    print f"
   ]
  },
  {
   "cell_type": "code",
   "execution_count": 72,
   "metadata": {
    "collapsed": false
   },
   "outputs": [
    {
     "name": "stdout",
     "output_type": "stream",
     "text": [
      "--------------------------------------------------------------\n",
      "                     Spatial Markov Test                      \n",
      "--------------------------------------------------------------\n",
      "Number of classes: 5\n",
      "Number of transitions: 3840\n",
      "Number of regimes: 5\n",
      "Regime names: LAG0, LAG1, LAG2, LAG3, LAG4\n",
      "--------------------------------------------------------------\n",
      "   Test                   LR                Chi-2\n",
      "  Stat.              170.659              200.624\n",
      "    DOF                   60                   60\n",
      "p-value                0.000                0.000\n",
      "--------------------------------------------------------------\n",
      "P(H0)           C0         C1         C2         C3         C4\n",
      "     C0      0.915      0.075      0.009      0.001      0.000\n",
      "     C1      0.066      0.827      0.105      0.001      0.001\n",
      "     C2      0.005      0.103      0.794      0.095      0.003\n",
      "     C3      0.000      0.009      0.094      0.849      0.048\n",
      "     C4      0.000      0.000      0.000      0.062      0.938\n",
      "--------------------------------------------------------------\n",
      "P(LAG0)         C0         C1         C2         C3         C4\n",
      "     C0      0.963      0.030      0.006      0.000      0.000\n",
      "     C1      0.060      0.832      0.107      0.000      0.000\n",
      "     C2      0.000      0.140      0.740      0.120      0.000\n",
      "     C3      0.000      0.036      0.321      0.571      0.071\n",
      "     C4      0.000      0.000      0.000      0.167      0.833\n",
      "--------------------------------------------------------------\n",
      "P(LAG1)         C0         C1         C2         C3         C4\n",
      "     C0      0.798      0.168      0.034      0.000      0.000\n",
      "     C1      0.075      0.882      0.042      0.000      0.000\n",
      "     C2      0.005      0.070      0.866      0.059      0.000\n",
      "     C3      0.000      0.000      0.064      0.902      0.034\n",
      "     C4      0.000      0.000      0.000      0.194      0.806\n",
      "--------------------------------------------------------------\n",
      "P(LAG2)         C0         C1         C2         C3         C4\n",
      "     C0      0.847      0.153      0.000      0.000      0.000\n",
      "     C1      0.081      0.789      0.129      0.000      0.000\n",
      "     C2      0.005      0.098      0.793      0.098      0.005\n",
      "     C3      0.000      0.000      0.094      0.871      0.035\n",
      "     C4      0.000      0.000      0.000      0.102      0.898\n",
      "--------------------------------------------------------------\n",
      "P(LAG3)         C0         C1         C2         C3         C4\n",
      "     C0      0.885      0.098      0.000      0.016      0.000\n",
      "     C1      0.039      0.814      0.140      0.000      0.008\n",
      "     C2      0.005      0.094      0.777      0.119      0.005\n",
      "     C3      0.000      0.023      0.129      0.754      0.094\n",
      "     C4      0.000      0.000      0.000      0.097      0.903\n",
      "--------------------------------------------------------------\n",
      "P(LAG4)         C0         C1         C2         C3         C4\n",
      "     C0      0.333      0.667      0.000      0.000      0.000\n",
      "     C1      0.048      0.774      0.161      0.016      0.000\n",
      "     C2      0.011      0.161      0.747      0.080      0.000\n",
      "     C3      0.000      0.010      0.062      0.896      0.031\n",
      "     C4      0.000      0.000      0.000      0.024      0.976\n",
      "--------------------------------------------------------------\n"
     ]
    }
   ],
   "source": [
    "sm.summary()"
   ]
  },
  {
   "cell_type": "markdown",
   "metadata": {},
   "source": [
    "## LISA Markov"
   ]
  },
  {
   "cell_type": "code",
   "execution_count": 73,
   "metadata": {
    "collapsed": false
   },
   "outputs": [],
   "source": [
    "lm = ps.LISA_Markov(pci,w)"
   ]
  },
  {
   "cell_type": "code",
   "execution_count": 74,
   "metadata": {
    "collapsed": false
   },
   "outputs": [
    {
     "data": {
      "text/plain": [
       "array([1, 2, 3, 4])"
      ]
     },
     "execution_count": 74,
     "metadata": {},
     "output_type": "execute_result"
    }
   ],
   "source": [
    "lm.classes "
   ]
  },
  {
   "cell_type": "code",
   "execution_count": 75,
   "metadata": {
    "collapsed": false
   },
   "outputs": [
    {
     "data": {
      "text/plain": [
       "array([[  1.08700000e+03,   4.40000000e+01,   4.00000000e+00,\n",
       "          3.40000000e+01],\n",
       "       [  4.10000000e+01,   4.70000000e+02,   3.60000000e+01,\n",
       "          1.00000000e+00],\n",
       "       [  5.00000000e+00,   3.40000000e+01,   1.42200000e+03,\n",
       "          3.90000000e+01],\n",
       "       [  3.00000000e+01,   1.00000000e+00,   4.00000000e+01,\n",
       "          5.52000000e+02]])"
      ]
     },
     "execution_count": 75,
     "metadata": {},
     "output_type": "execute_result"
    }
   ],
   "source": [
    "lm.transitions"
   ]
  },
  {
   "cell_type": "code",
   "execution_count": 76,
   "metadata": {
    "collapsed": false
   },
   "outputs": [
    {
     "data": {
      "text/plain": [
       "matrix([[ 0.92985458,  0.03763901,  0.00342173,  0.02908469],\n",
       "        [ 0.07481752,  0.85766423,  0.06569343,  0.00182482],\n",
       "        [ 0.00333333,  0.02266667,  0.948     ,  0.026     ],\n",
       "        [ 0.04815409,  0.00160514,  0.06420546,  0.88603531]])"
      ]
     },
     "execution_count": 76,
     "metadata": {},
     "output_type": "execute_result"
    }
   ],
   "source": [
    "lm.p"
   ]
  },
  {
   "cell_type": "code",
   "execution_count": 77,
   "metadata": {
    "collapsed": false
   },
   "outputs": [
    {
     "data": {
      "text/plain": [
       "matrix([[ 0.28561505],\n",
       "        [ 0.14190226],\n",
       "        [ 0.40493672],\n",
       "        [ 0.16754598]])"
      ]
     },
     "execution_count": 77,
     "metadata": {},
     "output_type": "execute_result"
    }
   ],
   "source": [
    "lm.steady_state"
   ]
  },
  {
   "cell_type": "code",
   "execution_count": 78,
   "metadata": {
    "collapsed": false
   },
   "outputs": [
    {
     "data": {
      "text/plain": [
       "matrix([[  3.50121609,  37.93025465,  40.55772829,  43.17412009],\n",
       "        [ 31.72800152,   7.04710419,  28.68182751,  49.91485137],\n",
       "        [ 52.44489385,  47.42097495,   2.46952168,  43.75609676],\n",
       "        [ 38.76794022,  51.51755827,  26.31568558,   5.96851095]])"
      ]
     },
     "execution_count": 78,
     "metadata": {},
     "output_type": "execute_result"
    }
   ],
   "source": [
    "ps.ergodic.fmpt(lm.p)"
   ]
  },
  {
   "cell_type": "markdown",
   "metadata": {},
   "source": [
    "### Test of independence of own chains and lag chains"
   ]
  },
  {
   "cell_type": "code",
   "execution_count": 79,
   "metadata": {
    "collapsed": false
   },
   "outputs": [
    {
     "data": {
      "text/plain": [
       "array([[  1.08700000e+03,   4.40000000e+01,   4.00000000e+00,\n",
       "          3.40000000e+01],\n",
       "       [  4.10000000e+01,   4.70000000e+02,   3.60000000e+01,\n",
       "          1.00000000e+00],\n",
       "       [  5.00000000e+00,   3.40000000e+01,   1.42200000e+03,\n",
       "          3.90000000e+01],\n",
       "       [  3.00000000e+01,   1.00000000e+00,   4.00000000e+01,\n",
       "          5.52000000e+02]])"
      ]
     },
     "execution_count": 79,
     "metadata": {},
     "output_type": "execute_result"
    }
   ],
   "source": [
    "lm.transitions"
   ]
  },
  {
   "cell_type": "code",
   "execution_count": 80,
   "metadata": {
    "collapsed": false
   },
   "outputs": [
    {
     "data": {
      "text/plain": [
       "array([[  1.12328098e+03,   1.15377356e+01,   3.47522158e-01,\n",
       "          3.38337644e+01],\n",
       "       [  3.50272664e+00,   5.28473882e+02,   1.59178880e+01,\n",
       "          1.05503814e-01],\n",
       "       [  1.53878082e-01,   2.32163556e+01,   1.46690710e+03,\n",
       "          9.72266513e+00],\n",
       "       [  9.60775143e+00,   9.86856346e-02,   6.23537392e+00,\n",
       "          6.07058189e+02]])"
      ]
     },
     "execution_count": 80,
     "metadata": {},
     "output_type": "execute_result"
    }
   ],
   "source": [
    "lm.expected_t"
   ]
  },
  {
   "cell_type": "code",
   "execution_count": 81,
   "metadata": {
    "collapsed": false
   },
   "outputs": [
    {
     "data": {
      "text/plain": [
       "(162.47505958346292, 0.0, 9)"
      ]
     },
     "execution_count": 81,
     "metadata": {},
     "output_type": "execute_result"
    }
   ],
   "source": [
    "lm.chi_2"
   ]
  },
  {
   "cell_type": "code",
   "execution_count": null,
   "metadata": {
    "collapsed": false
   },
   "outputs": [],
   "source": []
  },
  {
   "cell_type": "code",
   "execution_count": null,
   "metadata": {
    "collapsed": false
   },
   "outputs": [],
   "source": []
  }
 ],
 "metadata": {
  "kernelspec": {
   "display_name": "Python 2",
   "language": "python",
   "name": "python2"
  },
  "language_info": {
   "codemirror_mode": {
    "name": "ipython",
    "version": 2
   },
   "file_extension": ".py",
   "mimetype": "text/x-python",
   "name": "python",
   "nbconvert_exporter": "python",
   "pygments_lexer": "ipython2",
   "version": "2.7.9"
  }
 },
 "nbformat": 4,
 "nbformat_minor": 0
}
