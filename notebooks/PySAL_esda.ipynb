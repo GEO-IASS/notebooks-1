{
 "cells": [
  {
   "cell_type": "markdown",
   "metadata": {},
   "source": [
    "# Contributors to this notebook\n",
    "\n",
    "* Daniel Arribas-Bel [@darribas](http://twitter.com/darribas)\n",
    "* Serge Rey http://sjrey.org"
   ]
  },
  {
   "cell_type": "code",
   "execution_count": 1,
   "metadata": {
    "collapsed": false
   },
   "outputs": [],
   "source": [
    "%matplotlib inline\n",
    "import pysal as ps  # 1.5 or higher\n",
    "import numpy as np  # 1.7 or higher\n",
    "import pandas as pd # 0.10 or higher\n",
    "from matplotlib.pyplot import *"
   ]
  },
  {
   "cell_type": "markdown",
   "metadata": {},
   "source": [
    "# Exploratory Spatial Data Analysis (ESDA)"
   ]
  },
  {
   "cell_type": "markdown",
   "metadata": {},
   "source": [
    "## Global spatial autocorrelation"
   ]
  },
  {
   "cell_type": "markdown",
   "metadata": {},
   "source": [
    "Most spatial data are spatially autocorrelated:"
   ]
  },
  {
   "cell_type": "markdown",
   "metadata": {},
   "source": [
    "* [First law of geography:](http://en.wikipedia.org/wiki/Tobler's_first_law_of_geography)\n",
    "\n",
    "*\"Everything is related to everything else, but near things are more related than distant things\"*\n",
    "\n",
    "W. Tobler"
   ]
  },
  {
   "cell_type": "markdown",
   "metadata": {},
   "source": [
    "* M. Goodchild: *\"Only Hell is spatially random\"*"
   ]
  },
  {
   "cell_type": "markdown",
   "metadata": {},
   "source": [
    "### Positive spatial autocorrelation"
   ]
  },
  {
   "cell_type": "code",
   "execution_count": 2,
   "metadata": {
    "collapsed": false
   },
   "outputs": [
    {
     "data": {
      "text/plain": [
       "array([[ 0,  1,  2,  3,  4],\n",
       "       [ 5,  6,  7,  8,  9],\n",
       "       [10, 11, 12, 13, 14],\n",
       "       [15, 16, 17, 18, 19],\n",
       "       [20, 21, 22, 23, 24]])"
      ]
     },
     "execution_count": 2,
     "metadata": {},
     "output_type": "execute_result"
    }
   ],
   "source": [
    "yp = np.arange(25)\n",
    "yp.shape = (5, 5)\n",
    "yp"
   ]
  },
  {
   "cell_type": "code",
   "execution_count": 3,
   "metadata": {
    "collapsed": false
   },
   "outputs": [
    {
     "data": {
      "text/plain": [
       "<matplotlib.colorbar.Colorbar at 0x104018f90>"
      ]
     },
     "execution_count": 3,
     "metadata": {},
     "output_type": "execute_result"
    },
    {
     "data": {
      "image/png": "[encoded data removed]",
      "text/plain": [
       "<matplotlib.figure.Figure at 0x113de6fd0>"
      ]
     },
     "metadata": {},
     "output_type": "display_data"
    }
   ],
   "source": [
    "matshow(yp, cmap=cm.gray_r)\n",
    "colorbar()"
   ]
  },
  {
   "cell_type": "markdown",
   "metadata": {},
   "source": [
    "### Perfect negative spatial autocorrelation"
   ]
  },
  {
   "cell_type": "code",
   "execution_count": 4,
   "metadata": {
    "collapsed": false
   },
   "outputs": [],
   "source": [
    "yn = np.zeros((25,))\n",
    "ids = range(0,25,2)\n",
    "yn[ids] = 1\n",
    "yn.shape = (5,5)"
   ]
  },
  {
   "cell_type": "code",
   "execution_count": 5,
   "metadata": {
    "collapsed": false
   },
   "outputs": [
    {
     "data": {
      "text/plain": [
       "<matplotlib.image.AxesImage at 0x1168d3210>"
      ]
     },
     "execution_count": 5,
     "metadata": {},
     "output_type": "execute_result"
    },
    {
     "data": {
      "image/png": "[encoded data removed]",
      "text/plain": [
       "<matplotlib.figure.Figure at 0x1162b8f10>"
      ]
     },
     "metadata": {},
     "output_type": "display_data"
    }
   ],
   "source": [
    "matshow(yn, cmap=cm.gray)"
   ]
  },
  {
   "cell_type": "markdown",
   "metadata": {},
   "source": [
    "### Spatial randomness"
   ]
  },
  {
   "cell_type": "code",
   "execution_count": 6,
   "metadata": {
    "collapsed": false
   },
   "outputs": [
    {
     "data": {
      "text/plain": [
       "array([[14, 17,  4, 21, 10],\n",
       "       [ 1,  3,  9, 12,  7],\n",
       "       [20,  0, 23, 15, 11],\n",
       "       [ 2, 18, 13,  6, 22],\n",
       "       [24, 19,  5,  8, 16]])"
      ]
     },
     "execution_count": 6,
     "metadata": {},
     "output_type": "execute_result"
    }
   ],
   "source": [
    "yr = np.arange(25)\n",
    "#Shuffle the data randomly\n",
    "np.random.shuffle(yr)\n",
    "yr.shape = (5, 5)\n",
    "yr"
   ]
  },
  {
   "cell_type": "code",
   "execution_count": 7,
   "metadata": {
    "collapsed": false
   },
   "outputs": [
    {
     "data": {
      "text/plain": [
       "<matplotlib.colorbar.Colorbar at 0x116961250>"
      ]
     },
     "execution_count": 7,
     "metadata": {},
     "output_type": "execute_result"
    },
    {
     "data": {
      "image/png": "[encoded data removed]",
      "text/plain": [
       "<matplotlib.figure.Figure at 0x1168ebed0>"
      ]
     },
     "metadata": {},
     "output_type": "display_data"
    }
   ],
   "source": [
    "matshow(yr, cmap=cm.gray_r)\n",
    "colorbar()"
   ]
  },
  {
   "cell_type": "markdown",
   "metadata": {},
   "source": [
    "### Moran's I"
   ]
  },
  {
   "cell_type": "markdown",
   "metadata": {},
   "source": [
    "This is the most commonly used statistic to test spatial autocorrelation (randomness rather) in continuous data."
   ]
  },
  {
   "cell_type": "code",
   "execution_count": 8,
   "metadata": {
    "collapsed": false
   },
   "outputs": [],
   "source": [
    "w = ps.lat2W(5, 5)"
   ]
  },
  {
   "cell_type": "code",
   "execution_count": 9,
   "metadata": {
    "collapsed": false
   },
   "outputs": [],
   "source": [
    "mr = ps.Moran(yr.flatten(), w)"
   ]
  },
  {
   "cell_type": "code",
   "execution_count": 10,
   "metadata": {
    "collapsed": false
   },
   "outputs": [
    {
     "data": {
      "text/plain": [
       "-0.24346153846153845"
      ]
     },
     "execution_count": 10,
     "metadata": {},
     "output_type": "execute_result"
    }
   ],
   "source": [
    "mr.I"
   ]
  },
  {
   "cell_type": "code",
   "execution_count": 11,
   "metadata": {
    "collapsed": false
   },
   "outputs": [
    {
     "data": {
      "text/plain": [
       "0.17921535500967212"
      ]
     },
     "execution_count": 11,
     "metadata": {},
     "output_type": "execute_result"
    }
   ],
   "source": [
    "mr.p_norm"
   ]
  },
  {
   "cell_type": "code",
   "execution_count": 12,
   "metadata": {
    "collapsed": false
   },
   "outputs": [
    {
     "data": {
      "text/plain": [
       "0.097000000000000003"
      ]
     },
     "execution_count": 12,
     "metadata": {},
     "output_type": "execute_result"
    }
   ],
   "source": [
    "mr.p_sim"
   ]
  },
  {
   "cell_type": "code",
   "execution_count": 13,
   "metadata": {
    "collapsed": false
   },
   "outputs": [
    {
     "data": {
      "text/plain": [
       "array([  3.91025641e-02,   2.69871795e-02,  -1.65448718e-01,\n",
       "         1.00512821e-01,   7.60256410e-02,   8.91025641e-03,\n",
       "         4.12820513e-02,  -1.50641026e-01,  -3.52564103e-02,\n",
       "         3.14615385e-01,   2.02564103e-02,   8.04487179e-02,\n",
       "        -1.22500000e-01,  -2.62820513e-02,  -3.90256410e-01,\n",
       "        -2.98141026e-01,  -2.64679487e-01,  -2.28525641e-01,\n",
       "         1.02435897e-01,  -2.60576923e-01,   8.68589744e-02,\n",
       "         1.40512821e-01,  -8.38461538e-02,  -1.49294872e-01,\n",
       "         1.54102564e-01,   4.33333333e-02,  -2.46410256e-01,\n",
       "         3.00000000e-02,   1.10769231e-01,   1.84935897e-01,\n",
       "        -1.39871795e-01,  -5.21153846e-02,   6.29487179e-02,\n",
       "         1.81410256e-01,   1.19487179e-01,  -2.11538462e-02,\n",
       "         1.20897436e-01,  -1.38076923e-01,  -1.58012821e-01,\n",
       "         1.78141026e-01,   4.84615385e-02,  -6.72435897e-02,\n",
       "        -4.29487179e-03,  -7.48076923e-02,   2.28076923e-01,\n",
       "        -5.66666667e-02,  -1.32115385e-01,   1.69230769e-01,\n",
       "         1.75641026e-02,   9.55769231e-02,  -1.42820513e-01,\n",
       "        -2.17307692e-01,  -1.19871795e-02,  -3.95705128e-01,\n",
       "        -1.25128205e-01,  -7.69871795e-02,   5.55769231e-02,\n",
       "        -6.92307692e-02,   1.40833333e-01,  -3.95512821e-02,\n",
       "         8.66025641e-02,  -7.48717949e-02,  -1.56089744e-01,\n",
       "         1.93012821e-01,  -4.89743590e-02,  -5.76923077e-03,\n",
       "        -1.01538462e-01,   7.94871795e-02,  -3.75897436e-01,\n",
       "        -1.44743590e-01,  -1.65320513e-01,   2.14743590e-02,\n",
       "        -1.65833333e-01,   1.47051282e-01,  -1.94487179e-01,\n",
       "         1.02948718e-01,   8.80128205e-02,  -1.57500000e-01,\n",
       "         8.08974359e-02,   6.17307692e-02,   6.76923077e-02,\n",
       "        -1.53076923e-01,  -7.37179487e-02,  -3.45000000e-01,\n",
       "         1.40064103e-01,  -1.45000000e-01,   2.17435897e-01,\n",
       "         1.23525641e-01,  -9.13461538e-02,   1.38974359e-01,\n",
       "        -1.27307692e-01,   2.32948718e-01,   1.96794872e-01,\n",
       "         4.10256410e-03,   1.26730769e-01,  -6.02564103e-03,\n",
       "         9.48076923e-02,  -3.41089744e-01,  -8.21153846e-02,\n",
       "         1.31666667e-01,   1.38141026e-01,  -1.37948718e-01,\n",
       "        -3.89615385e-01,   1.12051282e-01,   1.07628205e-01,\n",
       "         2.44166667e-01,   8.41025641e-02,   4.16025641e-02,\n",
       "         2.23717949e-02,  -7.18589744e-02,   1.18397436e-01,\n",
       "         1.87820513e-02,  -1.57243590e-01,  -9.91666667e-02,\n",
       "        -1.57692308e-02,  -1.16987179e-01,  -4.12820513e-02,\n",
       "         1.03205128e-01,   2.82948718e-01,   7.30769231e-03,\n",
       "         1.26410256e-01,  -2.17500000e-01,  -1.89487179e-01,\n",
       "         4.74358974e-03,   2.33974359e-02,   7.85897436e-02,\n",
       "         1.26666667e-01,  -3.32051282e-02,   1.24743590e-01,\n",
       "        -1.26025641e-01,   1.79038462e-01,  -1.19615385e-01,\n",
       "         7.89743590e-02,  -3.07692308e-03,   5.76923077e-03,\n",
       "        -4.81538462e-01,   1.03141026e-01,   1.91153846e-01,\n",
       "         6.01282051e-02,  -1.61282051e-01,  -2.84615385e-02,\n",
       "         3.70705128e-01,  -1.05256410e-01,   1.58333333e-01,\n",
       "        -1.97307692e-01,  -5.34615385e-02,  -2.08910256e-01,\n",
       "        -1.43012821e-01,  -2.50512821e-01,  -3.33653846e-01,\n",
       "        -3.18525641e-01,  -6.36538462e-02,   1.11538462e-02,\n",
       "         8.88461538e-02,  -4.06410256e-02,   8.58974359e-02,\n",
       "        -1.70769231e-01,   7.06410256e-02,  -1.20192308e-01,\n",
       "        -1.57371795e-01,  -2.01794872e-01,  -2.48717949e-02,\n",
       "        -1.95705128e-01,  -1.51794872e-01,   1.52628205e-01,\n",
       "         1.70833333e-01,   3.77628205e-01,  -4.37051282e-01,\n",
       "        -1.29743590e-01,  -1.83269231e-01,  -8.09615385e-02,\n",
       "        -1.19102564e-01,   5.83333333e-02,   7.43589744e-03,\n",
       "         1.02692308e-01,   2.94871795e-02,  -1.57051282e-02,\n",
       "         4.70512821e-02,  -1.69294872e-01,   1.51089744e-01,\n",
       "        -3.22948718e-01,   3.49358974e-02,  -3.31089744e-01,\n",
       "        -6.10897436e-02,  -1.03525641e-01,  -5.05128205e-02,\n",
       "         6.05769231e-02,  -8.25000000e-02,  -5.47435897e-02,\n",
       "         4.41025641e-02,  -1.50641026e-01,  -1.27243590e-01,\n",
       "         1.43589744e-01,   1.00064103e-01,  -3.50641026e-02,\n",
       "        -7.16025641e-02,   1.08974359e-03,   1.39487179e-01,\n",
       "        -9.16666667e-03,   3.72435897e-02,   2.08974359e-01,\n",
       "        -1.19551282e-01,  -3.82564103e-01,  -1.58012821e-01,\n",
       "         1.66474359e-01,  -1.97115385e-01,  -2.30705128e-01,\n",
       "         1.84743590e-01,   8.91025641e-03,   1.04871795e-01,\n",
       "        -2.24294872e-01,  -1.09102564e-01,  -1.68333333e-01,\n",
       "        -3.05128205e-02,   2.05064103e-01,   5.34615385e-02,\n",
       "        -1.44871795e-02,  -2.21923077e-01,  -5.82692308e-02,\n",
       "        -2.69871795e-02,  -4.38076923e-01,  -3.67628205e-01,\n",
       "        -2.09102564e-01,  -2.28461538e-01,  -1.13461538e-01,\n",
       "        -7.30128205e-02,  -4.48717949e-03,  -3.85897436e-01,\n",
       "        -4.76282051e-02,   1.38269231e-01,   7.98076923e-02,\n",
       "        -5.17307692e-02,  -3.34935897e-01,   1.61410256e-01,\n",
       "         3.30769231e-02,   7.17307692e-02,   1.10000000e-01,\n",
       "        -1.05320513e-01,  -2.37179487e-02,   3.73397436e-01,\n",
       "        -9.44871795e-02,   7.95512821e-02,   1.71153846e-01,\n",
       "        -1.35641026e-01,   1.51282051e-02,  -1.90384615e-01,\n",
       "         1.68782051e-01,  -1.62820513e-01,   1.50512821e-01,\n",
       "         1.56602564e-01,   8.21794872e-02,  -1.51858974e-01,\n",
       "        -2.53141026e-01,   2.15512821e-01,  -5.62820513e-02,\n",
       "        -8.69871795e-02,  -2.36794872e-01,  -1.90897436e-01,\n",
       "        -5.75000000e-02,  -1.29487179e-02,  -3.43846154e-01,\n",
       "        -2.20576923e-01,   6.32692308e-02,  -2.47564103e-01,\n",
       "        -1.91858974e-01,  -3.93589744e-02,   1.16474359e-01,\n",
       "        -9.21153846e-02,   6.47435897e-02,  -9.53205128e-02,\n",
       "        -3.21153846e-02,   1.25897436e-01,  -9.25641026e-02,\n",
       "         3.87179487e-02,  -2.37820513e-02,  -2.56730769e-01,\n",
       "        -5.67307692e-02,  -3.70512821e-02,   1.73974359e-01,\n",
       "         3.12820513e-02,   1.36602564e-01,  -7.73717949e-02,\n",
       "        -4.38461538e-02,  -8.02564103e-02,  -3.47115385e-01,\n",
       "         2.47371795e-01,   2.82051282e-02,   1.23717949e-02,\n",
       "        -1.20512821e-02,  -3.22435897e-02,  -4.10897436e-02,\n",
       "        -1.38205128e-01,  -2.01474359e-01,   1.23141026e-01,\n",
       "        -1.57884615e-01,  -5.07692308e-02,  -3.52564103e-02,\n",
       "        -8.01923077e-02,  -1.30833333e-01,  -1.23205128e-01,\n",
       "         1.49935897e-01,  -1.12179487e-01,   2.50000000e-03,\n",
       "        -1.07820513e-01,  -1.36794872e-01,  -7.57692308e-02,\n",
       "        -1.96987179e-01,   8.69871795e-02,  -2.43269231e-01,\n",
       "         4.20512821e-02,  -2.02115385e-01,  -1.02692308e-01,\n",
       "        -9.34615385e-02,   1.61089744e-01,  -7.55128205e-02,\n",
       "         5.98076923e-02,   1.97435897e-02,   3.01282051e-02,\n",
       "         4.16666667e-02,   7.01282051e-02,  -1.00961538e-01,\n",
       "         7.46794872e-02,   3.26923077e-02,  -3.91025641e-03,\n",
       "        -1.66153846e-01,  -4.62179487e-02,   2.33782051e-01,\n",
       "        -3.54935897e-01,  -1.80448718e-01,   1.18012821e-01,\n",
       "        -4.03205128e-02,   8.87179487e-02,   1.43397436e-01,\n",
       "        -1.26153846e-01,   4.07051282e-02,   1.53717949e-01,\n",
       "        -2.32500000e-01,  -2.85512821e-01,   1.35448718e-01,\n",
       "         1.99102564e-01,  -3.22243590e-01,   1.02756410e-01,\n",
       "         3.62820513e-02,  -5.02564103e-02,   2.44294872e-01,\n",
       "        -9.89743590e-02,  -5.50641026e-02,  -5.39743590e-02,\n",
       "         3.16025641e-02,   2.24358974e-03,  -1.88589744e-01,\n",
       "         2.09551282e-01,  -2.63076923e-01,   6.76282051e-02,\n",
       "        -1.69871795e-02,  -6.78846154e-02,   3.82692308e-02,\n",
       "        -1.06730769e-01,  -1.45576923e-01,  -1.42115385e-01,\n",
       "        -3.15512821e-01,  -5.12820513e-02,   2.89743590e-01,\n",
       "        -1.75705128e-01,  -1.52435897e-01,  -9.69871795e-02,\n",
       "         2.80769231e-02,   3.63461538e-02,  -5.16025641e-02,\n",
       "        -7.98717949e-02,  -4.96153846e-02,  -1.03717949e-01,\n",
       "        -9.53205128e-02,   1.44230769e-01,  -4.24166667e-01,\n",
       "         3.14038462e-01,   8.87179487e-02,  -4.84871795e-01,\n",
       "         7.18589744e-02,   1.54615385e-01,  -1.32564103e-01,\n",
       "         1.68846154e-01,  -1.33333333e-02,  -9.61538462e-03,\n",
       "        -3.29487179e-02,   9.23076923e-02,  -4.06410256e-02,\n",
       "        -3.07435897e-01,  -1.90769231e-01,  -1.26346154e-01,\n",
       "         1.18076923e-01,  -2.25000000e-02,   3.91666667e-02,\n",
       "        -1.04166667e-01,  -1.68653846e-01,  -1.98717949e-03,\n",
       "        -3.12500000e-01,  -1.30641026e-01,   2.72435897e-02,\n",
       "         2.83333333e-02,  -2.56538462e-01,   7.61538462e-02,\n",
       "        -3.63461538e-02,  -2.42243590e-01,  -9.16025641e-02,\n",
       "        -2.03141026e-01,  -6.48076923e-02,   1.62179487e-02,\n",
       "         1.46474359e-01,  -3.51923077e-02,  -2.55961538e-01,\n",
       "        -4.74358974e-03,   3.22948718e-01,   1.72884615e-01,\n",
       "        -6.89102564e-02,   7.90384615e-02,   2.94871795e-03,\n",
       "        -5.01282051e-02,  -2.60256410e-02,  -1.11538462e-02,\n",
       "         1.38717949e-01,   9.25000000e-02,   1.67948718e-02,\n",
       "        -1.57756410e-01,  -4.86858974e-01,  -5.11538462e-02,\n",
       "        -8.33333333e-04,  -9.92948718e-02,   8.96794872e-02,\n",
       "        -5.50641026e-02,  -5.72435897e-02,  -4.13782051e-01,\n",
       "        -3.47884615e-01,   8.27564103e-02,   4.23076923e-02,\n",
       "        -3.57692308e-02,  -2.91025641e-01,  -9.00000000e-02,\n",
       "        -1.01089744e-01,  -1.14551282e-01,  -1.44294872e-01,\n",
       "        -1.66346154e-01,  -8.10256410e-02,   3.69230769e-02,\n",
       "        -7.45512821e-02,  -1.47628205e-01,  -8.14102564e-02,\n",
       "        -1.43076923e-01,  -2.22692308e-01,  -5.20512821e-02,\n",
       "        -2.35448718e-01,   1.89230769e-01,  -1.81410256e-02,\n",
       "         7.18589744e-02,  -1.80128205e-02,   2.21282051e-01,\n",
       "         1.58076923e-01,  -9.09615385e-02,  -2.24358974e-02,\n",
       "        -1.69038462e-01,  -6.69871795e-02,   3.93461538e-01,\n",
       "        -1.57371795e-01,  -4.19871795e-02,   3.04487179e-01,\n",
       "        -9.80128205e-02,   3.65833333e-01,   6.17307692e-02,\n",
       "         2.43589744e-02,   5.82692308e-02,  -1.22500000e-01,\n",
       "        -1.90512821e-01,   1.31410256e-02,   3.44230769e-02,\n",
       "         2.09038462e-01,   6.47435897e-02,  -3.02371795e-01,\n",
       "        -3.08333333e-01,   1.43589744e-02,  -6.66025641e-02,\n",
       "        -2.68589744e-02,  -1.11602564e-01,   4.29487179e-02,\n",
       "        -2.97115385e-01,  -3.38782051e-01,   4.62948718e-01,\n",
       "         8.43589744e-02,  -1.71538462e-01,  -4.41025641e-02,\n",
       "         3.25000000e-02,  -9.39743590e-02,  -1.53846154e-02,\n",
       "         1.64743590e-02,  -1.36410256e-01,  -1.33717949e-01,\n",
       "        -5.25641026e-02,  -3.46474359e-01,  -1.53782051e-01,\n",
       "         4.55128205e-03,  -1.36730769e-01,   2.09615385e-02,\n",
       "         4.10256410e-03,  -1.17948718e-01,   1.62628205e-01,\n",
       "        -9.87179487e-02,   6.75000000e-02,   1.45512821e-02,\n",
       "         1.08205128e-01,  -1.02435897e-01,   2.55000000e-01,\n",
       "         6.58974359e-02,   1.49551282e-01,   1.76410256e-01,\n",
       "         1.94038462e-01,  -9.65384615e-02,   2.45769231e-01,\n",
       "        -7.46153846e-02,  -2.42628205e-01,   6.37820513e-02,\n",
       "         8.50641026e-02,  -1.60897436e-01,  -9.95512821e-02,\n",
       "        -4.13461538e-02,   4.71794872e-02,  -5.06410256e-03,\n",
       "        -2.64871795e-01,   2.83333333e-02,   2.39743590e-02,\n",
       "        -1.39743590e-02,   2.05128205e-03,  -1.77756410e-01,\n",
       "        -1.69551282e-01,  -3.54487179e-01,   4.69230769e-02,\n",
       "        -3.11538462e-01,  -4.42820513e-01,  -5.34615385e-02,\n",
       "         2.77564103e-02,   1.28076923e-01,  -2.02243590e-01,\n",
       "        -2.95833333e-01,  -3.17115385e-01,   8.53846154e-02,\n",
       "        -2.25448718e-01,   2.69871795e-02,  -1.03717949e-01,\n",
       "        -4.26282051e-02,   7.34615385e-02,  -1.07692308e-02,\n",
       "        -1.58653846e-01,  -1.72948718e-01,  -2.37820513e-02,\n",
       "         7.45512821e-02,  -1.73525641e-01,  -1.66602564e-01,\n",
       "         2.41602564e-01,  -6.16666667e-02,   1.32500000e-01,\n",
       "        -7.10897436e-02,   2.23846154e-01,   1.40833333e-01,\n",
       "        -1.62948718e-01,   2.60000000e-01,  -1.36987179e-01,\n",
       "        -7.56410256e-03,  -4.48717949e-03,   9.71153846e-02,\n",
       "        -3.45512821e-02,   9.25641026e-02,  -7.94230769e-02,\n",
       "         2.63974359e-01,  -2.24807692e-01,   1.94487179e-01,\n",
       "         8.50000000e-02,   9.79487179e-02,   1.28782051e-01,\n",
       "        -1.17628205e-01,  -1.39615385e-01,  -1.41666667e-02,\n",
       "         7.39743590e-02,  -1.22884615e-01,   1.33333333e-02,\n",
       "        -1.53141026e-01,  -2.65384615e-02,   2.69358974e-01,\n",
       "        -3.02948718e-01,   9.42307692e-02,  -2.06858974e-01,\n",
       "         2.33461538e-01,  -9.19230769e-02,  -5.41025641e-02,\n",
       "        -1.47500000e-01,   5.59615385e-02,  -1.82307692e-01,\n",
       "        -1.11346154e-01,  -2.06858974e-01,   9.08333333e-02,\n",
       "        -2.45961538e-01,  -1.09807692e-01,   1.29102564e-01,\n",
       "        -2.67307692e-02,  -9.59615385e-02,   7.51923077e-02,\n",
       "         1.23910256e-01,  -1.86410256e-01,  -3.79230769e-01,\n",
       "        -6.37820513e-02,   8.39743590e-03,   1.02564103e-03,\n",
       "         2.74230769e-01,   4.60256410e-02,  -1.38076923e-01,\n",
       "        -1.33782051e-01,  -8.60256410e-02,  -1.69615385e-01,\n",
       "        -1.85256410e-01,  -2.09102564e-01,   1.90897436e-01,\n",
       "         1.69551282e-01,   4.95512821e-02,  -9.01923077e-02,\n",
       "         7.25000000e-02,  -3.17307692e-02,  -1.58589744e-01,\n",
       "        -2.75384615e-01,  -7.41025641e-02,  -2.97884615e-01,\n",
       "         9.58333333e-02,  -1.00128205e-01,  -2.48333333e-01,\n",
       "        -2.62948718e-01,  -1.27628205e-01,   8.20512821e-02,\n",
       "         1.57692308e-01,   7.45512821e-02,   7.98717949e-02,\n",
       "         2.57500000e-01,   1.81666667e-01,   4.67948718e-02,\n",
       "        -2.98076923e-01,  -1.85192308e-01,   3.07692308e-02,\n",
       "        -2.28012821e-01,   7.69871795e-02,   7.50641026e-02,\n",
       "        -3.29935897e-01,   2.01538462e-01,  -2.16282051e-01,\n",
       "         1.31346154e-01,  -8.74358974e-02,  -1.65192308e-01,\n",
       "        -8.69230769e-02,  -3.01538462e-01,   4.41025641e-02,\n",
       "         1.45512821e-02,  -1.07051282e-02,   5.15384615e-02,\n",
       "         1.35961538e-01,  -7.59615385e-02,   1.13782051e-01,\n",
       "         2.16666667e-02,  -2.21730769e-01,   5.12820513e-02,\n",
       "         1.13397436e-01,  -1.80448718e-01,  -5.94871795e-02,\n",
       "        -1.00705128e-01,  -1.69551282e-01,  -2.14679487e-01,\n",
       "        -1.15192308e-01,   1.03910256e-01,  -2.01346154e-01,\n",
       "         5.88461538e-02,   6.41025641e-02,  -1.46089744e-01,\n",
       "        -6.05128205e-02,   9.35897436e-02,  -3.18205128e-01,\n",
       "        -5.76282051e-02,   1.31538462e-01,  -2.38589744e-01,\n",
       "        -9.54487179e-02,  -1.76474359e-01,   7.32692308e-02,\n",
       "        -6.16666667e-02,   1.83974359e-02,   2.53782051e-01,\n",
       "        -3.11538462e-02,  -2.37884615e-01,   1.23589744e-01,\n",
       "        -3.17435897e-01,  -1.34871795e-01,   3.16538462e-01,\n",
       "        -1.08461538e-01,  -1.42435897e-01,  -1.66217949e-01,\n",
       "         8.39743590e-02,  -5.89743590e-02,   1.23782051e-01,\n",
       "        -9.16666667e-03,  -2.79166667e-01,  -6.28846154e-02,\n",
       "         2.07051282e-01,  -9.61538462e-04,  -2.57115385e-01,\n",
       "        -2.01794872e-01,   1.06538462e-01,  -3.57051282e-02,\n",
       "         1.92435897e-01,   1.50000000e-02,   1.93333333e-01,\n",
       "        -3.02692308e-01,   1.92307692e-01,   1.50384615e-01,\n",
       "        -3.32500000e-01,   8.27564103e-02,   1.79038462e-01,\n",
       "        -5.60256410e-02,  -3.06602564e-01,  -5.64743590e-02,\n",
       "         4.71153846e-02,  -1.12500000e-01,   5.87820513e-02,\n",
       "         1.18269231e-01,  -5.06410256e-02,  -1.11666667e-01,\n",
       "        -9.85256410e-02,  -9.64743590e-02,   2.18141026e-01,\n",
       "         1.35256410e-01,  -2.47628205e-01,  -2.08782051e-01,\n",
       "         1.91858974e-01,   1.65384615e-02,  -9.45512821e-02,\n",
       "         9.58974359e-02,  -3.39743590e-02,  -1.20897436e-01,\n",
       "         9.32051282e-02,  -4.00641026e-02,  -3.23076923e-02,\n",
       "        -1.41666667e-02,   2.90384615e-02,  -2.60128205e-01,\n",
       "        -1.03333333e-01,  -1.37820513e-02,  -2.76794872e-01,\n",
       "        -1.25384615e-01,   1.12564103e-01,  -2.66217949e-01,\n",
       "        -3.02564103e-01,   2.22756410e-01,  -2.83974359e-02,\n",
       "         1.84615385e-02,  -2.72371795e-01,  -2.99358974e-02,\n",
       "        -1.60512821e-01,  -3.83974359e-02,   3.32564103e-01,\n",
       "         1.18910256e-01,  -2.46987179e-01,  -2.28333333e-01,\n",
       "        -1.66666667e-01,   1.46794872e-02,  -1.66666667e-02,\n",
       "         2.43461538e-01,  -2.90833333e-01,   2.58589744e-01,\n",
       "         9.17307692e-02,  -6.97435897e-02,  -1.16410256e-01,\n",
       "        -6.33333333e-02,   1.39294872e-01,   6.98076923e-02,\n",
       "        -2.53974359e-01,   2.62948718e-01,   1.96794872e-02,\n",
       "         8.94230769e-02,   1.93461538e-01,   2.21153846e-02,\n",
       "         1.16474359e-01,  -1.69230769e-01,   4.48717949e-03,\n",
       "         5.78205128e-02,   7.15384615e-02,  -1.44871795e-02,\n",
       "         8.52564103e-03,  -1.41346154e-01,  -9.23076923e-02,\n",
       "         3.42307692e-02,  -1.09551282e-01,  -1.65512821e-01,\n",
       "        -1.36602564e-01,  -1.04102564e-01,   2.24423077e-01,\n",
       "         3.71794872e-02,  -3.33076923e-01,  -2.22692308e-01,\n",
       "         1.84743590e-01,   9.22435897e-02,  -3.25705128e-01,\n",
       "        -3.85897436e-02,  -5.81410256e-02,  -5.33974359e-02,\n",
       "        -3.67948718e-02,   5.12820513e-03,  -3.96794872e-02,\n",
       "        -4.68269231e-01,   8.45512821e-02,  -2.11538462e-03,\n",
       "        -2.35192308e-01,   2.11089744e-01,  -3.52564103e-03,\n",
       "         6.59615385e-02,  -2.45000000e-01,   1.82371795e-01,\n",
       "        -1.53846154e-02,  -7.13461538e-02,  -3.86987179e-01,\n",
       "         1.67884615e-01,  -5.21153846e-02,   1.02884615e-01,\n",
       "         1.97820513e-01,  -2.29166667e-01,  -3.14743590e-02,\n",
       "         6.96794872e-02,  -3.84615385e-03,  -1.49679487e-01,\n",
       "        -8.33333333e-04,  -3.80576923e-01,   3.10576923e-01,\n",
       "        -3.94871795e-02,  -9.75641026e-02,  -1.30641026e-01,\n",
       "         4.42948718e-02,  -2.60256410e-02,   4.17948718e-02,\n",
       "        -4.63269231e-01,  -1.91282051e-01,   1.61538462e-01,\n",
       "        -8.80128205e-02,  -1.41025641e-02,  -1.99358974e-02,\n",
       "        -1.28782051e-01,  -1.20320513e-01,  -3.65769231e-01,\n",
       "         1.73076923e-02,  -1.99358974e-02,   1.00000000e-02,\n",
       "        -2.14551282e-01,   1.30576923e-01,  -6.21794872e-02,\n",
       "         2.43589744e-02,   1.46153846e-01,   1.69230769e-02,\n",
       "         3.51923077e-02,  -2.03589744e-01,  -1.51923077e-02,\n",
       "         2.18333333e-01,   1.00384615e-01,  -8.49358974e-02,\n",
       "        -6.41025641e-05,  -9.69230769e-02,   2.07692308e-02,\n",
       "        -2.29038462e-01,   4.89743590e-02,   6.57692308e-02,\n",
       "        -6.46153846e-02,   2.89743590e-02,  -8.51923077e-02,\n",
       "         1.44230769e-02,   4.35897436e-02,   5.09615385e-02,\n",
       "        -4.68589744e-02,   9.41025641e-02,  -2.03974359e-01,\n",
       "        -2.10256410e-01,   7.43589744e-03,  -6.35897436e-02,\n",
       "        -9.75641026e-02,   1.05064103e-01,   2.44679487e-01,\n",
       "        -4.92307692e-02,  -2.87756410e-01,   2.49423077e-01,\n",
       "         1.70641026e-01,  -2.73717949e-01,  -9.67307692e-02,\n",
       "        -3.26153846e-01,   1.57051282e-02,  -1.36153846e-01,\n",
       "        -8.27564103e-02,  -7.98076923e-02,  -2.09551282e-01,\n",
       "        -1.00384615e-01,  -1.86474359e-01,  -1.15192308e-01,\n",
       "        -8.98076923e-02,   6.21794872e-03,  -2.37115385e-01,\n",
       "         5.97435897e-02,  -5.77564103e-02,  -1.23397436e-01,\n",
       "         1.05320513e-01,  -1.71794872e-02,   6.66025641e-02,\n",
       "         3.76153846e-01,  -2.17820513e-01,   8.87179487e-02,\n",
       "        -8.91666667e-02,  -3.91025641e-03,  -2.11153846e-01,\n",
       "        -9.61538462e-02,  -1.51987179e-01,  -1.06410256e-02,\n",
       "        -1.60384615e-01,  -1.18397436e-01,  -6.41025641e-02,\n",
       "        -1.32435897e-01,   1.85897436e-02,  -1.06410256e-01,\n",
       "         4.22435897e-02,  -5.74358974e-02,  -4.38461538e-02,\n",
       "        -2.23269231e-01,   8.55128205e-02,  -1.61538462e-01,\n",
       "        -7.07692308e-02,  -2.91153846e-01,  -1.01474359e-01,\n",
       "        -1.04102564e-01,  -9.60256410e-02,   8.69871795e-02,\n",
       "         3.50000000e-02,  -8.26923077e-02,  -1.58333333e-02,\n",
       "        -1.56730769e-01,  -6.20512821e-02,  -3.56923077e-01,\n",
       "         3.14102564e-02,  -1.90384615e-02,  -2.45512821e-01,\n",
       "        -2.05512821e-01,  -4.55769231e-02,   1.56153846e-01,\n",
       "         8.55769231e-02,   1.92179487e-01,   3.78205128e-02,\n",
       "        -1.90384615e-02,  -1.43525641e-01,   1.46923077e-01,\n",
       "        -4.66025641e-02,  -5.75000000e-02,  -1.96153846e-02,\n",
       "        -2.11923077e-01,   1.02884615e-01,  -2.91730769e-01,\n",
       "        -1.56153846e-01,   2.13076923e-01,  -5.25000000e-02,\n",
       "         3.03717949e-01,  -1.19487179e-01,   1.46602564e-01,\n",
       "        -9.81410256e-02,  -1.08974359e-03,  -1.88205128e-01,\n",
       "        -1.19230769e-01,   4.63461538e-02,   1.15448718e-01,\n",
       "        -6.27564103e-02,   5.12179487e-02,   5.98717949e-02,\n",
       "         1.04102564e-01,   5.32051282e-03,  -5.25000000e-02,\n",
       "        -8.50000000e-02,  -1.49871795e-01,   1.46602564e-01,\n",
       "        -1.89871795e-01,  -3.02692308e-01,   1.30641026e-01,\n",
       "        -1.40384615e-01,  -3.52564103e-03,   7.17948718e-02,\n",
       "        -7.60897436e-02,  -7.17307692e-02,   1.19743590e-01,\n",
       "         1.95512821e-01,  -2.82692308e-02,   4.19230769e-02,\n",
       "        -6.82692308e-02,  -8.03846154e-02,  -2.05961538e-01,\n",
       "        -2.84358974e-01,  -6.91666667e-02,  -1.66858974e-01,\n",
       "         3.53525641e-01,   3.24358974e-02,   4.91666667e-02])"
      ]
     },
     "execution_count": 13,
     "metadata": {},
     "output_type": "execute_result"
    }
   ],
   "source": [
    "# Simulated random values\n",
    "mr.sim"
   ]
  },
  {
   "cell_type": "markdown",
   "metadata": {},
   "source": [
    "We can plot the empirical inference easily using `pandas` and a bit of `matplotlib`:"
   ]
  },
  {
   "cell_type": "code",
   "execution_count": 14,
   "metadata": {
    "collapsed": false
   },
   "outputs": [
    {
     "data": {
      "text/plain": [
       "<matplotlib.text.Text at 0x116b3b250>"
      ]
     },
     "execution_count": 14,
     "metadata": {},
     "output_type": "execute_result"
    },
    {
     "data": {
      "image/png": "[encoded data removed]",
      "text/plain": [
       "<matplotlib.figure.Figure at 0x113de6f10>"
      ]
     },
     "metadata": {},
     "output_type": "display_data"
    }
   ],
   "source": [
    "srv = pd.Series(mr.sim)\n",
    "f = figure()\n",
    "ax = f.add_subplot(111)\n",
    "srv.plot(kind='kde', ax=ax)\n",
    "axvline(mr.I, color='r')\n",
    "xlabel('I')\n",
    "ylabel('f(I)')\n",
    "title('Empirical distribution and value of $Ir$')"
   ]
  },
  {
   "cell_type": "code",
   "execution_count": 15,
   "metadata": {
    "collapsed": false
   },
   "outputs": [
    {
     "name": "stdout",
     "output_type": "stream",
     "text": [
      "\n",
      "Moran's I value is: 0.8400\n"
     ]
    },
    {
     "data": {
      "image/png": "[encoded data removed]",
      "text/plain": [
       "<matplotlib.figure.Figure at 0x1165fbd90>"
      ]
     },
     "metadata": {},
     "output_type": "display_data"
    }
   ],
   "source": [
    "mp = ps.Moran(yp.flatten(), w)\n",
    "srv = pd.Series(mp.sim)\n",
    "f = figure()\n",
    "ax = f.add_subplot(111)\n",
    "srv.plot(kind='kde', ax=ax)\n",
    "axvline(mp.I, color='r')\n",
    "xlabel('I')\n",
    "ylabel('f(I)')\n",
    "title('Empirical distribution and value of $I$')\n",
    "print(\"\")\n",
    "print(\"Moran's I value is: %.4f\"%mp.I)"
   ]
  },
  {
   "cell_type": "code",
   "execution_count": 16,
   "metadata": {
    "collapsed": false
   },
   "outputs": [
    {
     "name": "stdout",
     "output_type": "stream",
     "text": [
      "\n",
      "Moran's I value is: -1.0000\n"
     ]
    },
    {
     "data": {
      "image/png": "[encoded data removed]",
      "text/plain": [
       "<matplotlib.figure.Figure at 0x1168f57d0>"
      ]
     },
     "metadata": {},
     "output_type": "display_data"
    }
   ],
   "source": [
    "mn = ps.Moran(yn.flatten(), w)\n",
    "srv = pd.Series(mn.sim)\n",
    "f = figure()\n",
    "ax = f.add_subplot(111)\n",
    "srv.plot(kind='kde', ax=ax)\n",
    "axvline(mn.I, color='r')\n",
    "xlabel('I')\n",
    "ylabel('f(I)')\n",
    "title('Empirical distribution and value of $yn$')\n",
    "print(\"\")\n",
    "print(\"Moran's I value is: %.4f\"%mn.I)"
   ]
  },
  {
   "cell_type": "markdown",
   "metadata": {},
   "source": [
    "Now let's try Moran's I on the Amsterdam checkin data. Note that because we have already created the weights (see the notebook `PySAL_weights` in the same folder), we can simply load them."
   ]
  },
  {
   "cell_type": "code",
   "execution_count": 17,
   "metadata": {
    "collapsed": false
   },
   "outputs": [
    {
     "name": "stdout",
     "output_type": "stream",
     "text": [
      "WARNING: there is one disconnected observation (no neighbors)\n",
      "Island id:  ['27']\n",
      "WARNING:  27  is an island (no neighbors)\n"
     ]
    },
    {
     "data": {
      "text/plain": [
       "<pysal.weights.weights.W at 0x113de6ed0>"
      ]
     },
     "execution_count": 17,
     "metadata": {},
     "output_type": "execute_result"
    }
   ],
   "source": [
    "w = ps.open('data/adam.gal').read()\n",
    "w.transform = 'R'\n",
    "w"
   ]
  },
  {
   "cell_type": "markdown",
   "metadata": {},
   "source": [
    "Let's try it on the total volume of checkins by neighborhood:"
   ]
  },
  {
   "cell_type": "code",
   "execution_count": 18,
   "metadata": {
    "collapsed": false
   },
   "outputs": [],
   "source": [
    "total = np.array(ps.open('data/amsterdam_hoods.dbf').by_col('total'))"
   ]
  },
  {
   "cell_type": "code",
   "execution_count": 19,
   "metadata": {
    "collapsed": false
   },
   "outputs": [
    {
     "name": "stdout",
     "output_type": "stream",
     "text": [
      "\n",
      "Moran's I value is: 0.3748\n"
     ]
    },
    {
     "data": {
      "image/png": "[encoded data removed]",
      "text/plain": [
       "<matplotlib.figure.Figure at 0x1168eb510>"
      ]
     },
     "metadata": {},
     "output_type": "display_data"
    }
   ],
   "source": [
    "mi_adam = ps.Moran(total, w)\n",
    "srv = pd.Series(mi_adam.sim)\n",
    "f = figure()\n",
    "ax = f.add_subplot(111)\n",
    "srv.plot(kind='kde', ax=ax)\n",
    "axvline(mi_adam.I, color='r')\n",
    "xlabel('I')\n",
    "ylabel('f(I)')\n",
    "title('Empirical distribution and value of total checkins in Amsterdam')\n",
    "print(\"\")\n",
    "print(\"Moran's I value is: %.4f\"%mi_adam.I)"
   ]
  },
  {
   "cell_type": "markdown",
   "metadata": {},
   "source": [
    "### Scatter plot\n",
    "\n",
    "One way to graphically display and understand Moran's I is through the so called `scatter plot`, that represents the values of `y` against their spatially lagged values (`wy`). This is straightforward to plot with `matplotlib`. An interesting addition is to include a fitted line, whose slope corresponds to Moran's I."
   ]
  },
  {
   "cell_type": "code",
   "execution_count": 20,
   "metadata": {
    "collapsed": false
   },
   "outputs": [
    {
     "data": {
      "text/plain": [
       "<matplotlib.text.Text at 0x117299990>"
      ]
     },
     "execution_count": 20,
     "metadata": {},
     "output_type": "execute_result"
    },
    {
     "data": {
      "image/png": "[encoded data removed]",
      "text/plain": [
       "<matplotlib.figure.Figure at 0x116f00f90>"
      ]
     },
     "metadata": {},
     "output_type": "display_data"
    }
   ],
   "source": [
    "w_total = ps.lag_spatial(w, total)\n",
    "scatter(total, w_total, marker='.', s=20, alpha=1, color='k')\n",
    "fit = ps.spreg.OLS(total[:, None], total[:, None])\n",
    "plot(total[:, None], fit.predy, color='r')\n",
    "title(\"Slope coefficient: %.4f\"%fit.betas[1])"
   ]
  },
  {
   "cell_type": "code",
   "execution_count": 21,
   "metadata": {
    "collapsed": false
   },
   "outputs": [
    {
     "data": {
      "text/plain": [
       "0.37484886591924182"
      ]
     },
     "execution_count": 21,
     "metadata": {},
     "output_type": "execute_result"
    }
   ],
   "source": [
    "mi_adam.I"
   ]
  },
  {
   "cell_type": "markdown",
   "metadata": {},
   "source": [
    "#### On your own\n",
    "\n",
    "Try to explore the change of spatial autocorrelation in the volume of checkins over the different hours of the day."
   ]
  },
  {
   "cell_type": "markdown",
   "metadata": {},
   "source": [
    "## Local spatial autocorrelation\n",
    "\n",
    "[Anselin, 1995. *Local Indicators of Spatial Association*](http://onlinelibrary.wiley.com/doi/10.1111/j.1538-4632.1995.tb00338.x/abstract)"
   ]
  },
  {
   "cell_type": "code",
   "execution_count": 22,
   "metadata": {
    "collapsed": false
   },
   "outputs": [],
   "source": [
    "from pysal.contrib.viz import mapping as viz"
   ]
  },
  {
   "cell_type": "code",
   "execution_count": 23,
   "metadata": {
    "collapsed": false
   },
   "outputs": [],
   "source": [
    "lisa_total = ps.Moran_Local(total, w)"
   ]
  },
  {
   "cell_type": "code",
   "execution_count": 24,
   "metadata": {
    "collapsed": false
   },
   "outputs": [
    {
     "data": {
      "text/plain": [
       "array([  6.00928348e+00,   4.61049219e+00,   4.21625690e+00,\n",
       "         5.85778358e+00,   1.85434314e+00,   6.28629394e-01,\n",
       "         7.82059246e-01,   2.91992050e+00,   3.79614269e-01,\n",
       "         9.00362375e-02,  -3.15884500e-02,  -3.87707864e-01,\n",
       "        -1.46755548e-01,   2.16206112e-02,   1.51768095e-01,\n",
       "         5.85137017e-02,  -3.55651247e-03,  -2.00495239e-02,\n",
       "         2.53094637e-01,   2.65744884e-02,  -3.85914527e-01,\n",
       "         1.07817032e-01,  -2.00100954e-01,  -1.28315718e-01,\n",
       "        -1.24848021e-01,  -2.85310661e-01,  -1.20589376e-01,\n",
       "        -0.00000000e+00,   3.46222202e-01,  -1.81243281e-01,\n",
       "         3.83573127e-02,   2.27087403e-01,   9.07483942e-02,\n",
       "         2.19138381e-01,   2.63422429e-01,   2.56582190e-01,\n",
       "         2.01213118e-01,  -4.74572686e-01,  -5.88628830e-01,\n",
       "         5.08278164e-01,   4.97589107e-01,   4.93393442e-01,\n",
       "         3.06105138e-01,   2.22173819e-01,   4.87447098e-01,\n",
       "         4.91732036e-01,   4.35930530e-01,   3.49562356e-01,\n",
       "         1.14567123e-01,   1.88236539e-01,   2.02206393e-01,\n",
       "         2.15329787e-01,   8.72422953e-02,   2.63652616e-01,\n",
       "         4.40349543e-01,   5.02263000e-01,   3.88195119e-01,\n",
       "         7.75548690e-02,   1.67674606e-01,   3.54347065e-01,\n",
       "         1.84807572e-01,  -8.81867741e-02,   1.47323208e-01,\n",
       "        -6.50123144e-03,   3.60884988e-03,   7.43432590e-01,\n",
       "         1.97889741e-01,   1.18667866e-02,   1.68373918e-01,\n",
       "         3.17586835e-02,   1.64696808e-01,   4.21305299e-01,\n",
       "         1.58410835e-01,  -2.99822873e-02,   2.50045741e-02,\n",
       "        -1.44443287e-01,  -6.24732651e-02,  -1.36036262e-01,\n",
       "        -3.97822541e-01,   1.21608637e-03,   7.31089535e-01,\n",
       "         2.24929241e-02,  -8.04512891e-02,   3.05613345e-02,\n",
       "         1.04569058e-01,  -2.68784057e-02,   7.42422057e-01,\n",
       "        -7.16215299e-03,  -1.21280935e-01,  -5.37466361e-01,\n",
       "         1.43591500e-02,  -6.84062578e-02,  -8.05244122e-02,\n",
       "        -7.60828884e-02,  -1.29253720e-01,   2.23350448e-03])"
      ]
     },
     "execution_count": 24,
     "metadata": {},
     "output_type": "execute_result"
    }
   ],
   "source": [
    "lisa_total.Is"
   ]
  },
  {
   "cell_type": "code",
   "execution_count": 25,
   "metadata": {
    "collapsed": false
   },
   "outputs": [
    {
     "data": {
      "text/plain": [
       "array([ 0.004,  0.003,  0.001,  0.001,  0.001,  0.006,  0.076,  0.005,\n",
       "        0.011,  0.12 ,  0.302,  0.168,  0.232,  0.358,  0.215,  0.415,\n",
       "        0.448,  0.387,  0.211,  0.323,  0.069,  0.139,  0.056,  0.203,\n",
       "        0.267,  0.279,  0.263,  0.001,  0.247,  0.233,  0.228,  0.211,\n",
       "        0.217,  0.039,  0.118,  0.099,  0.176,  0.051,  0.026,  0.006,\n",
       "        0.044,  0.001,  0.182,  0.315,  0.004,  0.002,  0.001,  0.049,\n",
       "        0.17 ,  0.261,  0.292,  0.246,  0.476,  0.063,  0.001,  0.009,\n",
       "        0.017,  0.291,  0.163,  0.122,  0.17 ,  0.305,  0.119,  0.405,\n",
       "        0.397,  0.22 ,  0.153,  0.392,  0.292,  0.218,  0.442,  0.29 ,\n",
       "        0.102,  0.347,  0.178,  0.179,  0.464,  0.329,  0.15 ,  0.379,\n",
       "        0.039,  0.26 ,  0.315,  0.485,  0.404,  0.307,  0.121,  0.44 ,\n",
       "        0.213,  0.066,  0.405,  0.253,  0.231,  0.232,  0.497,  0.231])"
      ]
     },
     "execution_count": 25,
     "metadata": {},
     "output_type": "execute_result"
    }
   ],
   "source": [
    "lisa_total.p_sim"
   ]
  },
  {
   "cell_type": "code",
   "execution_count": 26,
   "metadata": {
    "collapsed": false
   },
   "outputs": [
    {
     "data": {
      "image/png": "[encoded data removed]",
      "text/plain": [
       "<matplotlib.figure.Figure at 0x1172b2f90>"
      ]
     },
     "metadata": {},
     "output_type": "display_data"
    }
   ],
   "source": [
    "hoods = \"data/amsterdam_hoods.shp\"\n",
    "viz.plot_lisa_cluster(hoods, lisa_total, title=\"LISA Cluster Map\")"
   ]
  }
 ],
 "metadata": {
  "kernelspec": {
   "display_name": "Python 2",
   "language": "python",
   "name": "python2"
  },
  "language_info": {
   "codemirror_mode": {
    "name": "ipython",
    "version": 2
   },
   "file_extension": ".py",
   "mimetype": "text/x-python",
   "name": "python",
   "nbconvert_exporter": "python",
   "pygments_lexer": "ipython2",
   "version": "2.7.11"
  }
 },
 "nbformat": 4,
 "nbformat_minor": 0
}
