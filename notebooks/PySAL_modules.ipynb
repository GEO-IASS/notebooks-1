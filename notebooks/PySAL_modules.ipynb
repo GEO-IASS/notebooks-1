{
 "cells": [
  {
   "cell_type": "markdown",
   "metadata": {},
   "source": [
    "# Contributors to this notebook\n",
    "\n",
    "* Daniel Arribas-Bel [@darribas](http://twitter.com/darribas)\n",
    "* Serge Rey http://sjrey.org"
   ]
  },
  {
   "cell_type": "code",
   "execution_count": 1,
   "metadata": {
    "collapsed": false
   },
   "outputs": [],
   "source": [
    "import pysal as ps  # 1.5 or higher\n",
    "import pandas as pd # 0.10 or higher\n",
    "import numpy as np"
   ]
  },
  {
   "cell_type": "markdown",
   "metadata": {},
   "source": [
    "# Specialized modules in `PySAL`"
   ]
  },
  {
   "cell_type": "markdown",
   "metadata": {},
   "source": [
    "Before we brush through more specialized functionality in `PySAL`, let's load up example data:"
   ]
  },
  {
   "cell_type": "code",
   "execution_count": 2,
   "metadata": {
    "collapsed": false
   },
   "outputs": [
    {
     "name": "stdout",
     "output_type": "stream",
     "text": [
      "WARNING: there is one disconnected observation (no neighbors)\n",
      "Island id:  ['27']\n"
     ]
    }
   ],
   "source": [
    "dbf = ps.open('data/amsterdam_hoods.dbf')\n",
    "db = pd.DataFrame(dict([(col, np.array(dbf.by_col(col))) for col in dbf.header]))\n",
    "w = ps.open('data/adam.gal').read()"
   ]
  },
  {
   "cell_type": "markdown",
   "metadata": {},
   "source": [
    "## `region`\n",
    "\n",
    "* Spatial aggregation of areas into regions\n",
    "* \"Spatial clustering\"\n",
    "* Right now, it implements only the `max-p` algorithm:\n",
    "     * Duque, J. C., Anselin, L. and Rey, S. J. 2011 [*\"The MAX-P regions problem\"*](http://onlinelibrary.wiley.com/doi/10.1111/j.1467-9787.2011.00743.x/abstract)"
   ]
  },
  {
   "cell_type": "markdown",
   "metadata": {},
   "source": [
    "Example of aggregation of areas using the `max-p`:"
   ]
  },
  {
   "cell_type": "code",
   "execution_count": 3,
   "metadata": {
    "collapsed": false
   },
   "outputs": [],
   "source": [
    "z = db[[i for i in db.columns if 'h_' in i]].values\n",
    "floor_var = db['total'].values[:, None]\n",
    "maxp = ps.Maxp(w, z, floor=500, floor_variable=floor_var)"
   ]
  },
  {
   "cell_type": "code",
   "execution_count": 4,
   "metadata": {
    "collapsed": false
   },
   "outputs": [
    {
     "data": {
      "text/plain": [
       "{'0': 11,\n",
       " '1': 38,\n",
       " '10': 13,\n",
       " '11': 29,\n",
       " '12': 13,\n",
       " '13': 1,\n",
       " '14': 8,\n",
       " '15': 34,\n",
       " '16': 34,\n",
       " '17': 34,\n",
       " '18': 34,\n",
       " '19': 9,\n",
       " '2': 23,\n",
       " '20': 15,\n",
       " '21': 15,\n",
       " '22': 28,\n",
       " '23': 21,\n",
       " '24': 21,\n",
       " '25': 12,\n",
       " '26': 21,\n",
       " '27': 37,\n",
       " '28': 21,\n",
       " '29': 34,\n",
       " '3': 40,\n",
       " '30': 0,\n",
       " '31': 34,\n",
       " '32': 30,\n",
       " '33': 34,\n",
       " '34': 34,\n",
       " '35': 36,\n",
       " '36': 36,\n",
       " '37': 6,\n",
       " '38': 6,\n",
       " '39': 6,\n",
       " '4': 46,\n",
       " '40': 6,\n",
       " '41': 6,\n",
       " '42': 6,\n",
       " '43': 6,\n",
       " '44': 6,\n",
       " '45': 6,\n",
       " '46': 6,\n",
       " '47': 6,\n",
       " '48': 45,\n",
       " '49': 6,\n",
       " '5': 16,\n",
       " '50': 6,\n",
       " '51': 22,\n",
       " '52': 22,\n",
       " '53': 22,\n",
       " '54': 22,\n",
       " '55': 22,\n",
       " '56': 22,\n",
       " '57': 19,\n",
       " '58': 19,\n",
       " '59': 22,\n",
       " '6': 5,\n",
       " '60': 19,\n",
       " '61': 26,\n",
       " '62': 30,\n",
       " '63': 39,\n",
       " '64': 17,\n",
       " '65': 3,\n",
       " '66': 33,\n",
       " '67': 33,\n",
       " '68': 33,\n",
       " '69': 27,\n",
       " '7': 44,\n",
       " '70': 33,\n",
       " '71': 33,\n",
       " '72': 32,\n",
       " '73': 47,\n",
       " '74': 42,\n",
       " '75': 47,\n",
       " '76': 20,\n",
       " '77': 10,\n",
       " '78': 43,\n",
       " '79': 43,\n",
       " '8': 35,\n",
       " '80': 2,\n",
       " '81': 31,\n",
       " '82': 18,\n",
       " '83': 36,\n",
       " '84': 36,\n",
       " '85': 24,\n",
       " '86': 25,\n",
       " '87': 39,\n",
       " '88': 24,\n",
       " '89': 31,\n",
       " '9': 41,\n",
       " '90': 7,\n",
       " '91': 18,\n",
       " '92': 18,\n",
       " '93': 48,\n",
       " '94': 14,\n",
       " '95': 4}"
      ]
     },
     "execution_count": 4,
     "metadata": {},
     "output_type": "execute_result"
    }
   ],
   "source": [
    "# Cardinalities\n",
    "maxp.area2region"
   ]
  },
  {
   "cell_type": "code",
   "execution_count": 5,
   "metadata": {
    "collapsed": false
   },
   "outputs": [
    {
     "data": {
      "text/plain": [
       "[['30'],\n",
       " ['13'],\n",
       " ['80'],\n",
       " ['65'],\n",
       " ['95'],\n",
       " ['6'],\n",
       " ['47',\n",
       "  '46',\n",
       "  '45',\n",
       "  '42',\n",
       "  '37',\n",
       "  '49',\n",
       "  '40',\n",
       "  '41',\n",
       "  '39',\n",
       "  '50',\n",
       "  '38',\n",
       "  '44',\n",
       "  '43'],\n",
       " ['90'],\n",
       " ['14'],\n",
       " ['19'],\n",
       " ['77'],\n",
       " ['0'],\n",
       " ['25'],\n",
       " ['10', '12'],\n",
       " ['94'],\n",
       " ['21', '20'],\n",
       " ['5'],\n",
       " ['64'],\n",
       " ['82', '91', '92'],\n",
       " ['60', '58', '57'],\n",
       " ['76'],\n",
       " ['23', '24', '26', '28'],\n",
       " ['55', '56', '59', '51', '53', '52', '54'],\n",
       " ['2'],\n",
       " ['85', '88'],\n",
       " ['86'],\n",
       " ['61'],\n",
       " ['69'],\n",
       " ['22'],\n",
       " ['11'],\n",
       " ['32', '62'],\n",
       " ['89', '81'],\n",
       " ['72'],\n",
       " ['70', '68', '71', '67', '66'],\n",
       " ['29', '15', '33', '34', '18', '16', '17', '31'],\n",
       " ['8'],\n",
       " ['83', '35', '36', '84'],\n",
       " ['27'],\n",
       " ['1'],\n",
       " ['87', '63'],\n",
       " ['3'],\n",
       " ['9'],\n",
       " ['74'],\n",
       " ['79', '78'],\n",
       " ['7'],\n",
       " ['48'],\n",
       " ['4'],\n",
       " ['73', '75'],\n",
       " ['93']]"
      ]
     },
     "execution_count": 5,
     "metadata": {},
     "output_type": "execute_result"
    }
   ],
   "source": [
    "maxp.regions"
   ]
  },
  {
   "cell_type": "markdown",
   "metadata": {},
   "source": [
    "## `spreg`\n",
    "\n",
    "State-of-the-art spatial regression.\n",
    "\n",
    "* Standard linear regression $\\rightarrow y = X \\beta + \\epsilon$\n",
    "* Spatial autocorrelation diagnostics\n",
    "* Spatial autocorrelation\n",
    "     * Spatial lag model $\\rightarrow y = \\rho Wy + X \\beta + \\epsilon$\n",
    "     * Spatial error model $\\rightarrow y = X \\beta + u \\; \\text{;} \\; u = Wu + \\epsilon$\n",
    "     * Combo models $\\rightarrow y = \\rho Wy + X \\beta + u \\; \\text{;} \\; u = Wu + \\epsilon$\n",
    "* Spatial heterogeneity $\\rightarrow$ spatial regimes"
   ]
  },
  {
   "cell_type": "markdown",
   "metadata": {},
   "source": [
    "Example of standard model:"
   ]
  },
  {
   "cell_type": "code",
   "execution_count": 6,
   "metadata": {
    "collapsed": false
   },
   "outputs": [],
   "source": [
    "y = db['total'].values[:, None]\n",
    "x = db[['h_0', 'h_7', 'h_16']].values"
   ]
  },
  {
   "cell_type": "code",
   "execution_count": 7,
   "metadata": {
    "collapsed": false
   },
   "outputs": [
    {
     "name": "stdout",
     "output_type": "stream",
     "text": [
      "REGRESSION\n",
      "----------\n",
      "SUMMARY OF OUTPUT: ORDINARY LEAST SQUARES\n",
      "-----------------------------------------\n",
      "Data set            :     unknown\n",
      "Weights matrix      :     unknown\n",
      "Dependent Variable  :     dep_var                Number of Observations:          96\n",
      "Mean dependent var  :    806.5312                Number of Variables   :           4\n",
      "S.D. dependent var  :   1070.2103                Degrees of Freedom    :          92\n",
      "R-squared           :      0.9819\n",
      "Adjusted R-squared  :      0.9813\n",
      "Sum squared residual: 1965750.735                F-statistic           :   1666.7952\n",
      "Sigma-square        :   21366.856                Prob(F-statistic)     :   5.004e-80\n",
      "S.E. of regression  :     146.174                Log likelihood        :    -612.716\n",
      "Sigma-square ML     :   20476.570                Akaike info criterion :    1233.432\n",
      "S.E of regression ML:    143.0964                Schwarz criterion     :    1243.689\n",
      "\n",
      "------------------------------------------------------------------------------------\n",
      "            Variable     Coefficient       Std.Error     t-Statistic     Probability\n",
      "------------------------------------------------------------------------------------\n",
      "            CONSTANT      63.8201539      18.8890437       3.3786863       0.0010695\n",
      "               var_1       6.3273241       1.5145256       4.1777598       0.0000669\n",
      "               var_2       4.2722981       0.4779627       8.9385588       0.0000000\n",
      "               var_3       8.7344856       0.4145940      21.0675663       0.0000000\n",
      "------------------------------------------------------------------------------------\n",
      "\n",
      "REGRESSION DIAGNOSTICS\n",
      "MULTICOLLINEARITY CONDITION NUMBER            6.441\n",
      "\n",
      "TEST ON NORMALITY OF ERRORS\n",
      "TEST                             DF        VALUE           PROB\n",
      "Jarque-Bera                       2          75.052           0.0000\n",
      "\n",
      "DIAGNOSTICS FOR HETEROSKEDASTICITY\n",
      "RANDOM COEFFICIENTS\n",
      "TEST                             DF        VALUE           PROB\n",
      "Breusch-Pagan test                3         198.378           0.0000\n",
      "Koenker-Bassett test              3          62.693           0.0000\n",
      "================================ END OF REPORT =====================================\n"
     ]
    }
   ],
   "source": [
    "ols = ps.spreg.OLS(y, x, w)\n",
    "print ols.summary"
   ]
  },
  {
   "cell_type": "code",
   "execution_count": 8,
   "metadata": {
    "collapsed": false
   },
   "outputs": [
    {
     "name": "stdout",
     "output_type": "stream",
     "text": [
      "REGRESSION\n",
      "----------\n",
      "SUMMARY OF OUTPUT: SPATIALLY WEIGHTED TWO STAGE LEAST SQUARES (HOM)\n",
      "-------------------------------------------------------------------\n",
      "Data set            :     unknown\n",
      "Weights matrix      :     unknown\n",
      "Dependent Variable  :     dep_var                Number of Observations:          96\n",
      "Mean dependent var  :    806.5312                Number of Variables   :           5\n",
      "S.D. dependent var  :   1070.2103                Degrees of Freedom    :          91\n",
      "Pseudo R-squared    :      0.9847\n",
      "Spatial Pseudo R-squared:  0.9846\n",
      "N. of iterations    :           1\n",
      "\n",
      "------------------------------------------------------------------------------------\n",
      "            Variable     Coefficient       Std.Error     z-Statistic     Probability\n",
      "------------------------------------------------------------------------------------\n",
      "            CONSTANT       5.9614487      21.9138624       0.2720401       0.7855912\n",
      "           W_dep_var       0.0169552       0.0041102       4.1251978       0.0000370\n",
      "               var_1       5.6181654       1.3746269       4.0870473       0.0000437\n",
      "               var_2       4.4575079       0.4328943      10.2969898       0.0000000\n",
      "               var_3       8.1950028       0.3953213      20.7299804       0.0000000\n",
      "              lambda      -0.0026513       0.0334001      -0.0793806       0.9367299\n",
      "------------------------------------------------------------------------------------\n",
      "Instrumented: W_dep_var\n",
      "Instruments: W_var_1, W_var_2, W_var_3\n",
      "================================ END OF REPORT =====================================\n"
     ]
    }
   ],
   "source": [
    "combo = ps.spreg.GM_Combo_Hom(y, x, w=w)\n",
    "print combo.summary"
   ]
  },
  {
   "cell_type": "markdown",
   "metadata": {},
   "source": [
    "## `spatial_dynamics`\n",
    "\n",
    "Several exploratory measure and approaches to the analysis of spatial dynamics of systems.\n",
    "\n",
    "* Directional statistics (Rey et al. 2011)\n",
    "* Space-time interaction measures (Kulldorf)\n",
    "* Non-spatial Markov chains\n",
    "* Spatial Markov chains (Rey, 2004)\n",
    "* Spatial rank Markov chains (Rey, 2012)"
   ]
  },
  {
   "cell_type": "markdown",
   "metadata": {},
   "source": [
    "## `inequality`\n",
    "\n",
    "Inequality measures for the analysis of regional systems. Spatial and non-spatial.\n",
    "\n",
    "* Theil\n",
    "* Spatial decomposition of Theil"
   ]
  },
  {
   "cell_type": "markdown",
   "metadata": {},
   "source": [
    "## `contrib`\n",
    "\n",
    "The contrib module serves two main purposes:\n",
    "\n",
    "* **Sandbox** for code that is not quite ready for prime time but it's fairly advanced and still under intense development\n",
    "* **Interface** between `PySAL` and third party libraries that are not required as \"dependencies\" (e.g. `networkX`, `shapely`)"
   ]
  }
 ],
 "metadata": {
  "kernelspec": {
   "display_name": "Python 2",
   "language": "python",
   "name": "python2"
  },
  "language_info": {
   "codemirror_mode": {
    "name": "ipython",
    "version": 2
   },
   "file_extension": ".py",
   "mimetype": "text/x-python",
   "name": "python",
   "nbconvert_exporter": "python",
   "pygments_lexer": "ipython2",
   "version": "2.7.11"
  }
 },
 "nbformat": 4,
 "nbformat_minor": 0
}
