{
 "cells": [
  {
   "cell_type": "markdown",
   "metadata": {},
   "source": [
    "# Contributors to this notebook\n",
    "\n",
    "* Daniel Arribas-Bel [@darribas](http://twitter.com/darribas)"
   ]
  },
  {
   "cell_type": "code",
   "execution_count": 47,
   "metadata": {
    "collapsed": false
   },
   "outputs": [
    {
     "name": "stdout",
     "output_type": "stream",
     "text": [
      "numpy version:  1.6.2\n",
      "pandas version:  0.10.0\n"
     ]
    }
   ],
   "source": [
    "import numpy as np  # 1.7 or higher\n",
    "import pandas as pd # 0.10 or higher\n",
    "from matplotlib import pyplot as plt\n",
    "\n",
    "print \"numpy version: \", np.__version__\n",
    "print \"pandas version: \", pd.__version__"
   ]
  },
  {
   "cell_type": "markdown",
   "metadata": {},
   "source": [
    "# Brief introduction to the Python stack for scientific computing\n",
    "\n",
    "In this notebook, we will do a very brief introduction of the main elements of the Python stack for scientific computing, with an eye to data analysis. Keep in mind this very introductory and only allows to to scratch the surface of what is out there. Hopefully, it is enough to get you interested and dig deeper.\n",
    "\n",
    "The main five libraries presented here are:\n",
    "\n",
    "* [IPython](http://ipython.org)\n",
    "* [Numpy](http://numpy.org)\n",
    "* [SciPy](http://scipy.org)\n",
    "* [Pandas](http://pandas.pydata.org)\n"
   ]
  },
  {
   "cell_type": "markdown",
   "metadata": {},
   "source": [
    "There is a lot of different resources to learn about tools in Python for science, so any attempt to list will be unavoidably incomplete. However, one reference can be made to Wes McKiney's new book: [*Python for data analysis*](http://shop.oreilly.com/product/0636920023784.do), published by O'Reilly Media. It is a good first step into the world of scientific computing in Python."
   ]
  },
  {
   "cell_type": "code",
   "execution_count": 4,
   "metadata": {
    "collapsed": false
   },
   "outputs": [
    {
     "data": {
      "text/html": [
       "<img src=\"http://akamaicovers.oreilly.com/images/0636920023784/cat.gif\" />"
      ],
      "text/plain": [
       "<IPython.core.display.Image at 0x3fac850>"
      ]
     },
     "execution_count": 4,
     "metadata": {},
     "output_type": "execute_result"
    }
   ],
   "source": [
    "from IPython.display import Image\n",
    "Image(url=\"http://akamaicovers.oreilly.com/images/0636920023784/cat.gif\")"
   ]
  },
  {
   "cell_type": "markdown",
   "metadata": {},
   "source": [
    "## IPython\n",
    "\n",
    "IPython is an enhanced interactive shell for scientific computing in Python. It includes several improvements and extensions with respect to the vanilla Python interpreter and it is particularly well suited for interactive data analysis. The project website ([http://ipython.org](http://ipython.org)) contains many resources so make sure to take a look for help.\n",
    "\n",
    "### IPython Notebook\n",
    "\n",
    "In particular, this document is written in the `IPython Notebook`, a web app that extends many of the capabilities and allows to create self-contained files (called *notebooks*) that combine Python code, Python output and text in the markdown markup language.\n",
    "\n",
    "The concept of the notebook is structured around individual cells that may contain either code or text; if they contain code, they can be run as if that chunk of code was pasted in the interpreter.\n",
    "\n",
    "Here are the main tricks to get you started with the notebook:"
   ]
  },
  {
   "cell_type": "markdown",
   "metadata": {},
   "source": [
    "* Make sure all dependencies and the Notebook itself are installed. Then fire up a terminal and run `ipython notebook`. This will open up your default browser and start the web app at the directory where you had your terminal pointed. From the home screen, you can create a new notebook, or open any `.ipynb` files in the folder."
   ]
  },
  {
   "cell_type": "markdown",
   "metadata": {},
   "source": [
    "* Double click on a cell to edit it. Once you are ready to run it (code) or render it (text), press `shift+enter`."
   ]
  },
  {
   "cell_type": "markdown",
   "metadata": {},
   "source": [
    "* A code cell can contain any chunk of Python code that you could execute on the interpreter. For instance:"
   ]
  },
  {
   "cell_type": "code",
   "execution_count": 5,
   "metadata": {
    "collapsed": false
   },
   "outputs": [
    {
     "name": "stdout",
     "output_type": "stream",
     "text": [
      "Hello world\n"
     ]
    }
   ],
   "source": [
    "print \"Hello world\""
   ]
  },
  {
   "cell_type": "markdown",
   "metadata": {},
   "source": [
    "When you press `shift+enter`, the code is evaluated dynamically."
   ]
  },
  {
   "cell_type": "markdown",
   "metadata": {},
   "source": [
    "* A text cell is to be written in the Markdown markup language. This includes, among others:\n",
    "\n",
    "     * Links to [websites](http://ipython.org).\n",
    "     * *Italics* and **bold**.\n",
    "     * And even the fantastic $\\LaTeX$ language for mathematical typesetting."
   ]
  },
  {
   "cell_type": "markdown",
   "metadata": {},
   "source": [
    "* Tab completion and inline help"
   ]
  },
  {
   "cell_type": "code",
   "execution_count": 6,
   "metadata": {
    "collapsed": false
   },
   "outputs": [],
   "source": [
    "pd?"
   ]
  },
  {
   "cell_type": "markdown",
   "metadata": {},
   "source": [
    "* The Notebook includes some keyboard shortcuts for agile development. All of them are triggered by `ctr+m`. To get a full list of them, you can call the `Help` by pressing `ctr+m` and then `h`. This is the full list:"
   ]
  },
  {
   "cell_type": "markdown",
   "metadata": {},
   "source": [
    "`Shift-Enter : run cell\n",
    "Ctrl-Enter : run cell in-place\n",
    "Ctrl-m x : cut cell\n",
    "Ctrl-m c : copy cell\n",
    "Ctrl-m v : paste cell\n",
    "Ctrl-m d : delete cell\n",
    "Ctrl-m a : insert cell above\n",
    "Ctrl-m b : insert cell below\n",
    "Ctrl-m o : toggle output\n",
    "Ctrl-m O : toggle output scroll\n",
    "Ctrl-m l : toggle line numbers\n",
    "Ctrl-m s : save notebook\n",
    "Ctrl-m j : move cell down\n",
    "Ctrl-m k : move cell up\n",
    "Ctrl-m y : code cell\n",
    "Ctrl-m m : markdown cell\n",
    "Ctrl-m t : raw cell\n",
    "Ctrl-m 1-6 : heading 1-6 cell\n",
    "Ctrl-m p : select previous\n",
    "Ctrl-m n : select next\n",
    "Ctrl-m i : interrupt kernel\n",
    "Ctrl-m . : restart kernel\n",
    "Ctrl-m h : show keyboard shortcuts`"
   ]
  },
  {
   "cell_type": "markdown",
   "metadata": {},
   "source": [
    "* Once you are done with the session, save the notebook and exit the app. A `.ipynb` file will have been saved in the folder where you started the session. You can come back at any time and pick up where you left, re-run all or some cells and save it again. Because a `.ipynb` file is basically a text file containing a `json` object, this is multi-platform and easily inter-exchangeable. It is also great to share it with friends and collaborators."
   ]
  },
  {
   "cell_type": "markdown",
   "metadata": {},
   "source": [
    "* Finally, notebooks are great also to share them on the internert to diseminate analysis or collaborate online. You can host the file somewhere on a server and point to it from one of the renderers for notebooks. For example, the [nbviewer](http://nbviewer.ipython.org)."
   ]
  },
  {
   "cell_type": "markdown",
   "metadata": {},
   "source": [
    "The functionality...\n",
    "\n",
    "Here are a couple of resources to show you how cool the notebook can get:\n",
    "\n",
    "* [Keynote by Fernando Perez](http://www.youtube.com/watch?v=F4rFuIb1Ie4&feature=player_embedded)\n",
    "* [Demo blog post using the Notebook](http://blog.fperez.org/2012/09/blogging-with-ipython-notebook.html)"
   ]
  },
  {
   "cell_type": "markdown",
   "metadata": {},
   "source": [
    "## Numpy and Scipy\n",
    "\n",
    "**Numpy** and Scipy are the foundational libraries for any kind of numeric computing in Python. Numpy offers the efficient matrix structure denominated `array` or `ndarray` (Numpy data array) as well as some basic statistical functions that may be applied to arrays.\n",
    "\n",
    "To whet your appetite, let's first create a simple array. You can do this from a pre-existing Python list, for example:"
   ]
  },
  {
   "cell_type": "code",
   "execution_count": 7,
   "metadata": {
    "collapsed": false
   },
   "outputs": [
    {
     "data": {
      "text/plain": [
       "array([1, 2, 3, 4])"
      ]
     },
     "execution_count": 7,
     "metadata": {},
     "output_type": "execute_result"
    }
   ],
   "source": [
    "l = [1, 2, 3, 4]\n",
    "a = np.array(l)\n",
    "a"
   ]
  },
  {
   "cell_type": "markdown",
   "metadata": {},
   "source": [
    "At first sight, `a` is not very different from `l`; however, under the hood, it provides much more efficient structures for data manipulation (including C-optimized functions and other performance enhancements). Arrays contain only one data type and may have several dimensions, opening up the door for very fancy matrix manipulation."
   ]
  },
  {
   "cell_type": "code",
   "execution_count": 8,
   "metadata": {
    "collapsed": false
   },
   "outputs": [
    {
     "name": "stdout",
     "output_type": "stream",
     "text": [
      "<type 'numpy.int64'>\n",
      "<type 'numpy.string_'>\n"
     ]
    }
   ],
   "source": [
    "print type(a[0])\n",
    "l += 'a'\n",
    "a = np.array(l)\n",
    "print type(a[0])"
   ]
  },
  {
   "cell_type": "code",
   "execution_count": 9,
   "metadata": {
    "collapsed": false
   },
   "outputs": [
    {
     "name": "stdout",
     "output_type": "stream",
     "text": [
      "Array a has a dimension of:  (3, 2)\n",
      "[[1 2]\n",
      " [3 4]\n",
      " [5 6]]\n"
     ]
    }
   ],
   "source": [
    "l = [[1, 2], [3, 4], [5, 6]]\n",
    "a = np.array(l)\n",
    "print 'Array a has a dimension of: ', a.shape\n",
    "print a"
   ]
  },
  {
   "cell_type": "markdown",
   "metadata": {},
   "source": [
    "Arrays have several basic utilities as methods:"
   ]
  },
  {
   "cell_type": "code",
   "execution_count": 10,
   "metadata": {
    "collapsed": false
   },
   "outputs": [
    {
     "data": {
      "text/plain": [
       "3.5"
      ]
     },
     "execution_count": 10,
     "metadata": {},
     "output_type": "execute_result"
    }
   ],
   "source": [
    "a.mean()"
   ]
  },
  {
   "cell_type": "code",
   "execution_count": 11,
   "metadata": {
    "collapsed": false
   },
   "outputs": [
    {
     "data": {
      "text/plain": [
       "array([1, 2])"
      ]
     },
     "execution_count": 11,
     "metadata": {},
     "output_type": "execute_result"
    }
   ],
   "source": [
    "a.min(axis=0)"
   ]
  },
  {
   "cell_type": "code",
   "execution_count": 12,
   "metadata": {
    "collapsed": false
   },
   "outputs": [
    {
     "data": {
      "text/plain": [
       "array([2, 4, 6])"
      ]
     },
     "execution_count": 12,
     "metadata": {},
     "output_type": "execute_result"
    }
   ],
   "source": [
    "a.max(axis=1)"
   ]
  },
  {
   "cell_type": "markdown",
   "metadata": {},
   "source": [
    "It also includes random number generation:"
   ]
  },
  {
   "cell_type": "code",
   "execution_count": 13,
   "metadata": {
    "collapsed": false
   },
   "outputs": [
    {
     "data": {
      "text/plain": [
       "array([ 0.85141035,  0.48934467,  0.82694686,  0.18799519])"
      ]
     },
     "execution_count": 13,
     "metadata": {},
     "output_type": "execute_result"
    }
   ],
   "source": [
    "r = np.random.random(4)\n",
    "r"
   ]
  },
  {
   "cell_type": "code",
   "execution_count": 14,
   "metadata": {
    "collapsed": false
   },
   "outputs": [
    {
     "data": {
      "text/plain": [
       "array([[ 0.31710468,  0.93124485],\n",
       "       [ 0.39381576,  0.43668221],\n",
       "       [ 0.11553762,  0.51282671]])"
      ]
     },
     "execution_count": 14,
     "metadata": {},
     "output_type": "execute_result"
    }
   ],
   "source": [
    "rr = np.random.random((3, 2))\n",
    "rr"
   ]
  },
  {
   "cell_type": "markdown",
   "metadata": {},
   "source": [
    "Numpy even supports operations betwee arrays, such as sumation, difference, multiplication and division:"
   ]
  },
  {
   "cell_type": "code",
   "execution_count": 15,
   "metadata": {
    "collapsed": false
   },
   "outputs": [
    {
     "data": {
      "text/plain": [
       "(array([[ 0.1053234 ,  0.27330955],\n",
       "       [ 0.18669486,  0.95238838],\n",
       "       [ 0.3806249 ,  0.78371884]]),\n",
       " array([[ 0.88481153,  0.99623253,  0.88403853],\n",
       "       [ 0.17156613,  0.56839029,  0.62555925]]))"
      ]
     },
     "execution_count": 15,
     "metadata": {},
     "output_type": "execute_result"
    }
   ],
   "source": [
    "a = np.random.random((3, 2))\n",
    "b = np.random.random((2, 3))\n",
    "a, b"
   ]
  },
  {
   "cell_type": "code",
   "execution_count": 16,
   "metadata": {
    "collapsed": false
   },
   "outputs": [
    {
     "data": {
      "text/plain": [
       "array([[ 0.99013492,  0.44487568],\n",
       "       [ 1.18292739,  1.52077867],\n",
       "       [ 1.26466343,  1.40927809]])"
      ]
     },
     "execution_count": 16,
     "metadata": {},
     "output_type": "execute_result"
    }
   ],
   "source": [
    "# Sum (note the transpose for dimensionality alignment)\n",
    "a + b.T"
   ]
  },
  {
   "cell_type": "code",
   "execution_count": 17,
   "metadata": {
    "collapsed": false
   },
   "outputs": [
    {
     "data": {
      "text/plain": [
       "array([[-0.77948813,  0.10174342],\n",
       "       [-0.80953768,  0.38399809],\n",
       "       [-0.50341363,  0.15815959]])"
      ]
     },
     "execution_count": 17,
     "metadata": {},
     "output_type": "execute_result"
    }
   ],
   "source": [
    "# Difference (note the transpose for dimensionality alignment)\n",
    "a - b.T"
   ]
  },
  {
   "cell_type": "code",
   "execution_count": 18,
   "metadata": {
    "collapsed": false
   },
   "outputs": [
    {
     "data": {
      "text/plain": [
       "array([[ 0.14008201,  0.26027309,  0.26408126],\n",
       "       [ 0.32858735,  0.7273198 ,  0.76082081],\n",
       "       [ 0.4712409 ,  0.82464909,  0.82674964]])"
      ]
     },
     "execution_count": 18,
     "metadata": {},
     "output_type": "execute_result"
    }
   ],
   "source": [
    "# Matrix product\n",
    "c = np.dot(a, b)\n",
    "c"
   ]
  },
  {
   "cell_type": "code",
   "execution_count": 19,
   "metadata": {
    "collapsed": false
   },
   "outputs": [
    {
     "data": {
      "text/plain": [
       "array([[ 0.0526617 ,  0.13665477],\n",
       "       [ 0.09334743,  0.47619419],\n",
       "       [ 0.19031245,  0.39185942]])"
      ]
     },
     "execution_count": 19,
     "metadata": {},
     "output_type": "execute_result"
    }
   ],
   "source": [
    "# Matrix division by a scalar\n",
    "c = a / 2.\n",
    "c"
   ]
  },
  {
   "cell_type": "markdown",
   "metadata": {},
   "source": [
    "**SciPy** is the sister library of Numpy and offers a wide arrange of statistical functions to operate on Numpy arrays. This provides much of the functionality that you find in the core packages of other statistical languages like R (in the r-base package) or Matlab. "
   ]
  },
  {
   "cell_type": "markdown",
   "metadata": {},
   "source": [
    "Examples to show:\n",
    "\n",
    "* Draw from a normal distribution\n",
    "* Check a couple of other examples"
   ]
  },
  {
   "cell_type": "markdown",
   "metadata": {},
   "source": [
    "Besides the core of scipy, the project also includes additional packages called `scikits` that expand the main functionality in some particular way. Check out the [scikits website](http://scikits.appspot.com) to get a sense of what is covered."
   ]
  },
  {
   "cell_type": "markdown",
   "metadata": {},
   "source": [
    "## Pandas\n",
    "\n",
    "Pandas is a fairly new library but is undergoing exciting intense development. It relies on Numpy to provide efficient data structures that ease dealing with (potentially messy) data. Its core objects are the `Series` and the `DataFrame`, which are very similar to the array except for the following main differences:\n",
    "\n",
    "* They allow different data types into one object.\n",
    "* They are labeled, opening up the floor for all kinds of efficient manipulation.\n",
    "* They support missing data.\n",
    "\n",
    "Essentially, you can think of `pandas` as a Numpy \"on steroids\" with a focus on real-world data. It encapsulates and wraps around much of the low-level functionality of `numpy`, `scipy` and `matplotlib`, exposing it to the end-user in a much friendlier way. For that reason, throughout the tutorial, we will call most of the functions from `pandas`."
   ]
  },
  {
   "cell_type": "markdown",
   "metadata": {},
   "source": [
    "## Matplotlib\n",
    "\n",
    "Matplotlib is the main tool for static graphical display in Python. It provides 2D and 3D functionality to plot data in a static way. The library may not appear as very intuitive at first, but if you get over the learning curve, it is extremely flexible and it allows to tweak every aspect of a figure. Because of its focus on flexibility, the defaults may not be the prettiest, but with some work on them, Matplotlib can create beautiful figures that rival in quality with any other library for static plotting (such as R's `ggplot2`)."
   ]
  },
  {
   "cell_type": "markdown",
   "metadata": {},
   "source": [
    "# Hands-on example\n",
    "\n",
    "In this section, we are going to use real world data to get a sense of the basic capabilities of the libraries just presented. We will be using a sample of Foursquare checkins collected from Twitter in Amsterdam during 2010; the data is derived from the database originally published by [Chen et al (2011)](http://students.cse.tamu.edu/zcheng/papers/cheng_icwsm11.pdf), see this [link](http://infolab.tamu.edu/data/) for the original source and information regarding the [open license](http://creativecommons.org/licenses/by-nc/3.0/us/). The data are stored in a comma-delimitted (`.csv`) text file."
   ]
  },
  {
   "cell_type": "markdown",
   "metadata": {},
   "source": [
    "## Read in and checks"
   ]
  },
  {
   "cell_type": "markdown",
   "metadata": {},
   "source": [
    "Let's start by reading the data into memory; note that, although we have the file stored on the cloud, `pandas` can read it without problem:"
   ]
  },
  {
   "cell_type": "code",
   "execution_count": 20,
   "metadata": {
    "collapsed": false
   },
   "outputs": [
    {
     "data": {
      "text/plain": [
       "<class 'pandas.core.frame.DataFrame'>\n",
       "Int64Index: 77427 entries, 0 to 77426\n",
       "Data columns:\n",
       "user_id     77427  non-null values\n",
       "tweet_id    77427  non-null values\n",
       "lat         77427  non-null values\n",
       "lon         77427  non-null values\n",
       "time        77427  non-null values\n",
       "text        77427  non-null values\n",
       "place_id    75273  non-null values\n",
       "BU_CODE     77427  non-null values\n",
       "dtypes: float64(2), int64(2), object(4)"
      ]
     },
     "execution_count": 20,
     "metadata": {},
     "output_type": "execute_result"
    }
   ],
   "source": [
    "data_link = 'http://ubuntuone.com/4oIpVJDCpdREhzNdSRwMx8'\n",
    "db = pd.read_csv(data_link)\n",
    "db"
   ]
  },
  {
   "cell_type": "markdown",
   "metadata": {},
   "source": [
    "This gives us a basic summary of the properties of the dataset we just loaded. We can also take a look at the real data:"
   ]
  },
  {
   "cell_type": "code",
   "execution_count": 21,
   "metadata": {
    "collapsed": false
   },
   "outputs": [
    {
     "data": {
      "text/html": [
       "<div style=\"max-height:1000px;max-width:1500px;overflow:auto;\">\n",
       "<table border=\"1\" class=\"dataframe\">\n",
       "  <thead>\n",
       "    <tr style=\"text-align: right;\">\n",
       "      <th></th>\n",
       "      <th>user_id</th>\n",
       "      <th>tweet_id</th>\n",
       "      <th>lat</th>\n",
       "      <th>lon</th>\n",
       "      <th>time</th>\n",
       "      <th>text</th>\n",
       "      <th>place_id</th>\n",
       "      <th>BU_CODE</th>\n",
       "    </tr>\n",
       "  </thead>\n",
       "  <tbody>\n",
       "    <tr>\n",
       "      <td><strong>0</strong></td>\n",
       "      <td> 82837637</td>\n",
       "      <td> 13416482426</td>\n",
       "      <td> 52.360800</td>\n",
       "      <td> 4.867410</td>\n",
       "      <td> 2010-05-05 09:21:15</td>\n",
       "      <td> I'm at Marqt Overtoom (Overtoom, Amsterdam). h...</td>\n",
       "      <td> 99cdab25eddd6bce</td>\n",
       "      <td> BU03630322</td>\n",
       "    </tr>\n",
       "    <tr>\n",
       "      <td><strong>1</strong></td>\n",
       "      <td> 82837637</td>\n",
       "      <td> 13419413928</td>\n",
       "      <td> 52.366300</td>\n",
       "      <td> 4.886320</td>\n",
       "      <td> 2010-05-05 10:52:24</td>\n",
       "      <td> I'm at Walem (Keizersgracht 449, Amsterdam). h...</td>\n",
       "      <td> 99cdab25eddd6bce</td>\n",
       "      <td> BU03630003</td>\n",
       "    </tr>\n",
       "    <tr>\n",
       "      <td><strong>2</strong></td>\n",
       "      <td> 82837637</td>\n",
       "      <td> 14847348078</td>\n",
       "      <td> 52.333500</td>\n",
       "      <td> 4.889770</td>\n",
       "      <td> 2010-05-27 17:06:19</td>\n",
       "      <td> Mooi feest hier. Wie is er eigenlijk niet vand...</td>\n",
       "      <td> 99cdab25eddd6bce</td>\n",
       "      <td> BU03631491</td>\n",
       "    </tr>\n",
       "    <tr>\n",
       "      <td><strong>3</strong></td>\n",
       "      <td> 82837637</td>\n",
       "      <td> 17401139685</td>\n",
       "      <td> 52.340512</td>\n",
       "      <td> 4.873362</td>\n",
       "      <td> 2010-06-30 08:54:35</td>\n",
       "      <td> @nienkehofkamp ik ben er! (@ World Trade Cente...</td>\n",
       "      <td> 99cdab25eddd6bce</td>\n",
       "      <td> BU03631459</td>\n",
       "    </tr>\n",
       "    <tr>\n",
       "      <td><strong>4</strong></td>\n",
       "      <td> 82837637</td>\n",
       "      <td> 17554964312</td>\n",
       "      <td> 52.349976</td>\n",
       "      <td> 4.918581</td>\n",
       "      <td> 2010-07-02 07:26:45</td>\n",
       "      <td> Klein leger van 200 groen gele Braziliaantjes ...</td>\n",
       "      <td> 99cdab25eddd6bce</td>\n",
       "      <td> BU03631255</td>\n",
       "    </tr>\n",
       "  </tbody>\n",
       "</table>\n",
       "</div>"
      ],
      "text/plain": [
       "    user_id     tweet_id        lat       lon                 time  \\\n",
       "0  82837637  13416482426  52.360800  4.867410  2010-05-05 09:21:15   \n",
       "1  82837637  13419413928  52.366300  4.886320  2010-05-05 10:52:24   \n",
       "2  82837637  14847348078  52.333500  4.889770  2010-05-27 17:06:19   \n",
       "3  82837637  17401139685  52.340512  4.873362  2010-06-30 08:54:35   \n",
       "4  82837637  17554964312  52.349976  4.918581  2010-07-02 07:26:45   \n",
       "\n",
       "                                                text          place_id  \\\n",
       "0  I'm at Marqt Overtoom (Overtoom, Amsterdam). h...  99cdab25eddd6bce   \n",
       "1  I'm at Walem (Keizersgracht 449, Amsterdam). h...  99cdab25eddd6bce   \n",
       "2  Mooi feest hier. Wie is er eigenlijk niet vand...  99cdab25eddd6bce   \n",
       "3  @nienkehofkamp ik ben er! (@ World Trade Cente...  99cdab25eddd6bce   \n",
       "4  Klein leger van 200 groen gele Braziliaantjes ...  99cdab25eddd6bce   \n",
       "\n",
       "      BU_CODE  \n",
       "0  BU03630322  \n",
       "1  BU03630003  \n",
       "2  BU03631491  \n",
       "3  BU03631459  \n",
       "4  BU03631255  "
      ]
     },
     "execution_count": 21,
     "metadata": {},
     "output_type": "execute_result"
    }
   ],
   "source": [
    "db.head()"
   ]
  },
  {
   "cell_type": "code",
   "execution_count": 22,
   "metadata": {
    "collapsed": false
   },
   "outputs": [
    {
     "data": {
      "text/html": [
       "<div style=\"max-height:1000px;max-width:1500px;overflow:auto;\">\n",
       "<table border=\"1\" class=\"dataframe\">\n",
       "  <thead>\n",
       "    <tr style=\"text-align: right;\">\n",
       "      <th></th>\n",
       "      <th>user_id</th>\n",
       "      <th>tweet_id</th>\n",
       "      <th>lat</th>\n",
       "      <th>lon</th>\n",
       "      <th>time</th>\n",
       "      <th>text</th>\n",
       "      <th>place_id</th>\n",
       "      <th>BU_CODE</th>\n",
       "    </tr>\n",
       "  </thead>\n",
       "  <tbody>\n",
       "    <tr>\n",
       "      <td><strong>77420</strong></td>\n",
       "      <td> 188743276</td>\n",
       "      <td>  6108935840862208</td>\n",
       "      <td> 52.307327</td>\n",
       "      <td> 4.944605</td>\n",
       "      <td> 2010-11-20 22:17:38</td>\n",
       "      <td> Nu aansluiten in de file vanaf parkeerplaats. ...</td>\n",
       "      <td> 536dd7e62e0b35c3</td>\n",
       "      <td> BU03631192</td>\n",
       "    </tr>\n",
       "    <tr>\n",
       "      <td><strong>77421</strong></td>\n",
       "      <td>  25689874</td>\n",
       "      <td> 20442608845193216</td>\n",
       "      <td> 52.330856</td>\n",
       "      <td> 4.879264</td>\n",
       "      <td> 2010-12-30 11:34:32</td>\n",
       "      <td>          Lunch! :) @ Werelds http://fst.je/fgZklm</td>\n",
       "      <td> 355790f421ee5262</td>\n",
       "      <td> BU03631490</td>\n",
       "    </tr>\n",
       "    <tr>\n",
       "      <td><strong>77422</strong></td>\n",
       "      <td>  23592731</td>\n",
       "      <td>       14773261764</td>\n",
       "      <td> 52.372175</td>\n",
       "      <td> 4.884715</td>\n",
       "      <td> 2010-05-26 16:15:24</td>\n",
       "      <td> Net met Een (electrische) Tesla Roadster door ...</td>\n",
       "      <td> 99cdab25eddd6bce</td>\n",
       "      <td> BU03630002</td>\n",
       "    </tr>\n",
       "    <tr>\n",
       "      <td><strong>77423</strong></td>\n",
       "      <td>  48758572</td>\n",
       "      <td>  4256444949995521</td>\n",
       "      <td> 52.359700</td>\n",
       "      <td> 4.881170</td>\n",
       "      <td> 2010-11-15 19:36:30</td>\n",
       "      <td> I'm at Bilderberg Hotel Jan Luyken (Jan Luijke...</td>\n",
       "      <td> cbe7d5bad97ca45c</td>\n",
       "      <td> BU03631347</td>\n",
       "    </tr>\n",
       "    <tr>\n",
       "      <td><strong>77424</strong></td>\n",
       "      <td>  48758572</td>\n",
       "      <td>  4506146060632064</td>\n",
       "      <td> 52.347838</td>\n",
       "      <td> 4.856291</td>\n",
       "      <td> 2010-11-16 12:08:43</td>\n",
       "      <td> I'm at Mindshare Amsterdam (Karperstraat 8, Am...</td>\n",
       "      <td> 1736a08fa21720bb</td>\n",
       "      <td> BU03631348</td>\n",
       "    </tr>\n",
       "    <tr>\n",
       "      <td><strong>77425</strong></td>\n",
       "      <td>  48758572</td>\n",
       "      <td>  4506221956567040</td>\n",
       "      <td> 52.347838</td>\n",
       "      <td> 4.856291</td>\n",
       "      <td> 2010-11-16 12:09:01</td>\n",
       "      <td> I'm at GroupM Netherlands (Karperstraat 8, Ams...</td>\n",
       "      <td> 1736a08fa21720bb</td>\n",
       "      <td> BU03631348</td>\n",
       "    </tr>\n",
       "    <tr>\n",
       "      <td><strong>77426</strong></td>\n",
       "      <td>  85143057</td>\n",
       "      <td>  9291006105096193</td>\n",
       "      <td> 52.361092</td>\n",
       "      <td> 4.890365</td>\n",
       "      <td> 2010-11-29 17:02:03</td>\n",
       "      <td> I'm at Dierenkliniek de Wetering. http://4sq.c...</td>\n",
       "      <td> 6ec13a20504b1599</td>\n",
       "      <td> BU03630007</td>\n",
       "    </tr>\n",
       "  </tbody>\n",
       "</table>\n",
       "</div>"
      ],
      "text/plain": [
       "         user_id           tweet_id        lat       lon                 time  \\\n",
       "77420  188743276   6108935840862208  52.307327  4.944605  2010-11-20 22:17:38   \n",
       "77421   25689874  20442608845193216  52.330856  4.879264  2010-12-30 11:34:32   \n",
       "77422   23592731        14773261764  52.372175  4.884715  2010-05-26 16:15:24   \n",
       "77423   48758572   4256444949995521  52.359700  4.881170  2010-11-15 19:36:30   \n",
       "77424   48758572   4506146060632064  52.347838  4.856291  2010-11-16 12:08:43   \n",
       "77425   48758572   4506221956567040  52.347838  4.856291  2010-11-16 12:09:01   \n",
       "77426   85143057   9291006105096193  52.361092  4.890365  2010-11-29 17:02:03   \n",
       "\n",
       "                                                    text          place_id  \\\n",
       "77420  Nu aansluiten in de file vanaf parkeerplaats. ...  536dd7e62e0b35c3   \n",
       "77421           Lunch! :) @ Werelds http://fst.je/fgZklm  355790f421ee5262   \n",
       "77422  Net met Een (electrische) Tesla Roadster door ...  99cdab25eddd6bce   \n",
       "77423  I'm at Bilderberg Hotel Jan Luyken (Jan Luijke...  cbe7d5bad97ca45c   \n",
       "77424  I'm at Mindshare Amsterdam (Karperstraat 8, Am...  1736a08fa21720bb   \n",
       "77425  I'm at GroupM Netherlands (Karperstraat 8, Ams...  1736a08fa21720bb   \n",
       "77426  I'm at Dierenkliniek de Wetering. http://4sq.c...  6ec13a20504b1599   \n",
       "\n",
       "          BU_CODE  \n",
       "77420  BU03631192  \n",
       "77421  BU03631490  \n",
       "77422  BU03630002  \n",
       "77423  BU03631347  \n",
       "77424  BU03631348  \n",
       "77425  BU03631348  \n",
       "77426  BU03630007  "
      ]
     },
     "execution_count": 22,
     "metadata": {},
     "output_type": "execute_result"
    }
   ],
   "source": [
    "db.tail(7)"
   ]
  },
  {
   "cell_type": "code",
   "execution_count": 23,
   "metadata": {
    "collapsed": false
   },
   "outputs": [
    {
     "data": {
      "text/html": [
       "<div style=\"max-height:1000px;max-width:1500px;overflow:auto;\">\n",
       "<table border=\"1\" class=\"dataframe\">\n",
       "  <thead>\n",
       "    <tr style=\"text-align: right;\">\n",
       "      <th></th>\n",
       "      <th>user_id</th>\n",
       "      <th>tweet_id</th>\n",
       "      <th>lat</th>\n",
       "      <th>lon</th>\n",
       "    </tr>\n",
       "  </thead>\n",
       "  <tbody>\n",
       "    <tr>\n",
       "      <td><strong>count</strong></td>\n",
       "      <td> 7.742700e+04</td>\n",
       "      <td> 7.742700e+04</td>\n",
       "      <td> 77427.000000</td>\n",
       "      <td> 77427.000000</td>\n",
       "    </tr>\n",
       "    <tr>\n",
       "      <td><strong>mean</strong></td>\n",
       "      <td> 4.180966e+07</td>\n",
       "      <td> 5.787601e+13</td>\n",
       "      <td>    52.360964</td>\n",
       "      <td>     4.893621</td>\n",
       "    </tr>\n",
       "    <tr>\n",
       "      <td><strong>std</strong></td>\n",
       "      <td> 6.408738e+06</td>\n",
       "      <td> 1.069835e+07</td>\n",
       "      <td>     0.021956</td>\n",
       "      <td>     0.036132</td>\n",
       "    </tr>\n",
       "    <tr>\n",
       "      <td><strong>min</strong></td>\n",
       "      <td> 1.013000e+03</td>\n",
       "      <td> 9.666602e+09</td>\n",
       "      <td>    52.280120</td>\n",
       "      <td>     4.733114</td>\n",
       "    </tr>\n",
       "    <tr>\n",
       "      <td><strong>25%</strong></td>\n",
       "      <td> 1.421860e+07</td>\n",
       "      <td> 1.818519e+10</td>\n",
       "      <td>    52.351255</td>\n",
       "      <td>     4.875392</td>\n",
       "    </tr>\n",
       "    <tr>\n",
       "      <td><strong>50%</strong></td>\n",
       "      <td> 2.130657e+07</td>\n",
       "      <td> 2.523498e+10</td>\n",
       "      <td>    52.364679</td>\n",
       "      <td>     4.892890</td>\n",
       "    </tr>\n",
       "    <tr>\n",
       "      <td><strong>75%</strong></td>\n",
       "      <td> 5.049944e+07</td>\n",
       "      <td> 1.359153e+15</td>\n",
       "      <td>    52.375917</td>\n",
       "      <td>     4.911386</td>\n",
       "    </tr>\n",
       "    <tr>\n",
       "      <td><strong>max</strong></td>\n",
       "      <td> 2.277718e+08</td>\n",
       "      <td> 2.805568e+16</td>\n",
       "      <td>    52.429774</td>\n",
       "      <td>     5.025750</td>\n",
       "    </tr>\n",
       "  </tbody>\n",
       "</table>\n",
       "</div>"
      ],
      "text/plain": [
       "            user_id      tweet_id           lat           lon\n",
       "count  7.742700e+04  7.742700e+04  77427.000000  77427.000000\n",
       "mean   4.180966e+07  5.787601e+13     52.360964      4.893621\n",
       "std    6.408738e+06  1.069835e+07      0.021956      0.036132\n",
       "min    1.013000e+03  9.666602e+09     52.280120      4.733114\n",
       "25%    1.421860e+07  1.818519e+10     52.351255      4.875392\n",
       "50%    2.130657e+07  2.523498e+10     52.364679      4.892890\n",
       "75%    5.049944e+07  1.359153e+15     52.375917      4.911386\n",
       "max    2.277718e+08  2.805568e+16     52.429774      5.025750"
      ]
     },
     "execution_count": 23,
     "metadata": {},
     "output_type": "execute_result"
    }
   ],
   "source": [
    "db.describe()"
   ]
  },
  {
   "cell_type": "markdown",
   "metadata": {},
   "source": [
    "## Indexing and slicing"
   ]
  },
  {
   "cell_type": "markdown",
   "metadata": {},
   "source": [
    "`DataFrame` objects support various ways of indexing and slicing. By default, rows are indexed with a range of integers:"
   ]
  },
  {
   "cell_type": "code",
   "execution_count": 24,
   "metadata": {
    "collapsed": false
   },
   "outputs": [
    {
     "data": {
      "text/plain": [
       "Int64Index([0, 1, 2, ..., 77424, 77425, 77426], dtype=int64)"
      ]
     },
     "execution_count": 24,
     "metadata": {},
     "output_type": "execute_result"
    }
   ],
   "source": [
    "db.index"
   ]
  },
  {
   "cell_type": "code",
   "execution_count": 25,
   "metadata": {
    "collapsed": false
   },
   "outputs": [
    {
     "data": {
      "text/html": [
       "<div style=\"max-height:1000px;max-width:1500px;overflow:auto;\">\n",
       "<table border=\"1\" class=\"dataframe\">\n",
       "  <thead>\n",
       "    <tr style=\"text-align: right;\">\n",
       "      <th></th>\n",
       "      <th>time</th>\n",
       "      <th>text</th>\n",
       "      <th>BU_CODE</th>\n",
       "    </tr>\n",
       "  </thead>\n",
       "  <tbody>\n",
       "    <tr>\n",
       "      <td><strong>5 </strong></td>\n",
       "      <td> 2010-07-31 13:30:58</td>\n",
       "      <td> I'm at Café Bloemers (Hemonystraat 70HS, Amste...</td>\n",
       "      <td> BU03631325</td>\n",
       "    </tr>\n",
       "    <tr>\n",
       "      <td><strong>6 </strong></td>\n",
       "      <td> 2010-08-02 11:56:43</td>\n",
       "      <td> Altijd fijn lunchen hier! (@ Hotel Okura Amste...</td>\n",
       "      <td> BU03631452</td>\n",
       "    </tr>\n",
       "    <tr>\n",
       "      <td><strong>7 </strong></td>\n",
       "      <td> 2010-08-02 14:37:30</td>\n",
       "      <td> Ik ga voor het mayorship! :-) (@ Café Bloemers...</td>\n",
       "      <td> BU03631325</td>\n",
       "    </tr>\n",
       "    <tr>\n",
       "      <td><strong>8 </strong></td>\n",
       "      <td> 2010-08-16 10:25:56</td>\n",
       "      <td> @lisaportengen. Racen! :-) Ik zie je wel komen...</td>\n",
       "      <td> BU03631324</td>\n",
       "    </tr>\n",
       "    <tr>\n",
       "      <td><strong>9 </strong></td>\n",
       "      <td> 2010-08-21 10:43:53</td>\n",
       "      <td> VicMB1, 1 x winst, 1 x gelijk. So far so good....</td>\n",
       "      <td> BU03630984</td>\n",
       "    </tr>\n",
       "    <tr>\n",
       "      <td><strong>10</strong></td>\n",
       "      <td> 2010-08-27 07:01:18</td>\n",
       "      <td> Aan de slag! (@ Hotel Casa 400) http://4sq.com...</td>\n",
       "      <td> BU03631255</td>\n",
       "    </tr>\n",
       "  </tbody>\n",
       "</table>\n",
       "</div>"
      ],
      "text/plain": [
       "                   time                                               text  \\\n",
       "5   2010-07-31 13:30:58  I'm at Café Bloemers (Hemonystraat 70HS, Amste...   \n",
       "6   2010-08-02 11:56:43  Altijd fijn lunchen hier! (@ Hotel Okura Amste...   \n",
       "7   2010-08-02 14:37:30  Ik ga voor het mayorship! :-) (@ Café Bloemers...   \n",
       "8   2010-08-16 10:25:56  @lisaportengen. Racen! :-) Ik zie je wel komen...   \n",
       "9   2010-08-21 10:43:53  VicMB1, 1 x winst, 1 x gelijk. So far so good....   \n",
       "10  2010-08-27 07:01:18  Aan de slag! (@ Hotel Casa 400) http://4sq.com...   \n",
       "\n",
       "       BU_CODE  \n",
       "5   BU03631325  \n",
       "6   BU03631452  \n",
       "7   BU03631325  \n",
       "8   BU03631324  \n",
       "9   BU03630984  \n",
       "10  BU03631255  "
      ]
     },
     "execution_count": 25,
     "metadata": {},
     "output_type": "execute_result"
    }
   ],
   "source": [
    "db.ix[5: 10, ['time', 'text', 'BU_CODE']]"
   ]
  },
  {
   "cell_type": "code",
   "execution_count": 26,
   "metadata": {
    "collapsed": false
   },
   "outputs": [
    {
     "data": {
      "text/plain": [
       "<class 'pandas.core.frame.DataFrame'>\n",
       "Int64Index: 15113 entries, 6 to 77426\n",
       "Data columns:\n",
       "user_id     15113  non-null values\n",
       "tweet_id    15113  non-null values\n",
       "lat         15113  non-null values\n",
       "lon         15113  non-null values\n",
       "time        15113  non-null values\n",
       "text        15113  non-null values\n",
       "place_id    14708  non-null values\n",
       "BU_CODE     15113  non-null values\n",
       "dtypes: float64(2), int64(2), object(4)"
      ]
     },
     "execution_count": 26,
     "metadata": {},
     "output_type": "execute_result"
    }
   ],
   "source": [
    "# Clip checkins on a bounding box for (52.30, 52.40, 4.89, 4.9)\n",
    "clipped = db[(db['lat'] > 52.30) & (db.lat < 52.40) & (db.lon > 4.89) & (db['lon'] < 4.9)]\n",
    "clipped"
   ]
  },
  {
   "cell_type": "markdown",
   "metadata": {},
   "source": [
    "## Grouping operations"
   ]
  },
  {
   "cell_type": "markdown",
   "metadata": {},
   "source": [
    "There is also very efficient functionality to group the data based on certain characteristics. Once grouped, you can apply different functions to the grouped data and collect the output in a new `DataFrame`. This is akin to some of the \"map-reduce\" operations that have become very popular in distributed systems, with the difference that everything here happens in memory (which makes it very fast). As an example, let's group the checkins by neighborhood (`'BU_CODE'`) and count them:"
   ]
  },
  {
   "cell_type": "code",
   "execution_count": 27,
   "metadata": {
    "collapsed": false
   },
   "outputs": [
    {
     "data": {
      "text/plain": [
       "BU_CODE\n",
       "BU03630000    2750\n",
       "BU03630001    6620\n",
       "BU03630002    2521\n",
       "BU03630003    3468\n",
       "BU03630004    2076\n",
       "BU03630005    1434\n",
       "BU03630006    2385\n",
       "BU03630007    4209\n",
       "BU03630008    1211\n",
       "BU03630009     988\n",
       "BU03630110     554\n",
       "BU03630111    2019\n",
       "BU03630212     241\n",
       "BU03630213    1228\n",
       "BU03630214    1330\n",
       "BU03630215     424\n",
       "BU03630216     222\n",
       "BU03630317     315\n",
       "BU03630318     134\n",
       "BU03630319     672\n",
       "BU03630320     289\n",
       "BU03630321     498\n",
       "BU03630322     539\n",
       "BU03630431     420\n",
       "BU03630432     218\n",
       "BU03630433    2157\n",
       "BU03630434     144\n",
       "BU03630435     739\n",
       "BU03630451     208\n",
       "BU03630536      55\n",
       "BU03630537     660\n",
       "BU03630538     201\n",
       "BU03630539     455\n",
       "BU03630640     293\n",
       "BU03630641     100\n",
       "BU03630642     299\n",
       "BU03630643     148\n",
       "BU03630760     108\n",
       "BU03630761     163\n",
       "BU03630762      10\n",
       "BU03630763       5\n",
       "BU03630764      28\n",
       "BU03630765      44\n",
       "BU03630766      62\n",
       "BU03630767      62\n",
       "BU03630768      36\n",
       "BU03630769     163\n",
       "BU03630770      64\n",
       "BU03630771    1199\n",
       "BU03630772     136\n",
       "BU03630773      41\n",
       "BU03630875      54\n",
       "BU03630876      76\n",
       "BU03630877     151\n",
       "BU03630878     125\n",
       "BU03630879      23\n",
       "BU03630980      38\n",
       "BU03630981     501\n",
       "BU03630982     369\n",
       "BU03630983      72\n",
       "BU03630984     355\n",
       "BU03631085    1149\n",
       "BU03631086     369\n",
       "BU03631087     665\n",
       "BU03631088     872\n",
       "BU03631192    4008\n",
       "BU03631193    1231\n",
       "BU03631194     237\n",
       "BU03631195     203\n",
       "BU03631196     914\n",
       "BU03631197      46\n",
       "BU03631198       7\n",
       "BU03631227    1191\n",
       "BU03631228     535\n",
       "BU03631229     895\n",
       "BU03631230     380\n",
       "BU03631255    1874\n",
       "BU03631256    1477\n",
       "BU03631257      88\n",
       "BU03631258     971\n",
       "BU03631324    1690\n",
       "BU03631325     914\n",
       "BU03631326     262\n",
       "BU03631344     400\n",
       "BU03631345     287\n",
       "BU03631346     509\n",
       "BU03631347    2811\n",
       "BU03631348     897\n",
       "BU03631349     428\n",
       "BU03631350     190\n",
       "BU03631452    1367\n",
       "BU03631453     431\n",
       "BU03631454     483\n",
       "BU03631459     543\n",
       "BU03631490    2179\n",
       "BU03631491     815\n",
       "Length: 96"
      ]
     },
     "execution_count": 27,
     "metadata": {},
     "output_type": "execute_result"
    }
   ],
   "source": [
    "neigh = db.groupby('BU_CODE').size()\n",
    "neigh"
   ]
  },
  {
   "cell_type": "markdown",
   "metadata": {},
   "source": [
    "With this"
   ]
  },
  {
   "cell_type": "markdown",
   "metadata": {},
   "source": [
    "The output is a `Series` because we applied a function that outputs a single number per group of rows, but you can apply functions that operate by column and the output will then be a `DataFrame` (in this example, `mean` is applied only to those columns where it can be applied, but not to those with text):"
   ]
  },
  {
   "cell_type": "code",
   "execution_count": 28,
   "metadata": {
    "collapsed": true
   },
   "outputs": [
    {
     "data": {
      "text/html": [
       "<div style=\"max-height:1000px;max-width:1500px;overflow:auto;\">\n",
       "<table border=\"1\" class=\"dataframe\">\n",
       "  <thead>\n",
       "    <tr style=\"text-align: right;\">\n",
       "      <th></th>\n",
       "      <th>user_id</th>\n",
       "      <th>tweet_id</th>\n",
       "      <th>lat</th>\n",
       "      <th>lon</th>\n",
       "    </tr>\n",
       "    <tr>\n",
       "      <th>BU_CODE</th>\n",
       "      <th></th>\n",
       "      <th></th>\n",
       "      <th></th>\n",
       "      <th></th>\n",
       "    </tr>\n",
       "  </thead>\n",
       "  <tbody>\n",
       "    <tr>\n",
       "      <td><strong>BU03630000</strong></td>\n",
       "      <td> 4.089537e+07</td>\n",
       "      <td> 2.896880e+15</td>\n",
       "      <td> 52.373986</td>\n",
       "      <td> 4.897222</td>\n",
       "    </tr>\n",
       "    <tr>\n",
       "      <td><strong>BU03630001</strong></td>\n",
       "      <td> 4.001633e+07</td>\n",
       "      <td> 2.494666e+15</td>\n",
       "      <td> 52.375894</td>\n",
       "      <td> 4.896031</td>\n",
       "    </tr>\n",
       "    <tr>\n",
       "      <td><strong>BU03630002</strong></td>\n",
       "      <td> 2.975765e+07</td>\n",
       "      <td> 2.635145e+15</td>\n",
       "      <td> 52.374089</td>\n",
       "      <td> 4.886963</td>\n",
       "    </tr>\n",
       "    <tr>\n",
       "      <td><strong>BU03630003</strong></td>\n",
       "      <td> 3.360024e+07</td>\n",
       "      <td> 3.197510e+15</td>\n",
       "      <td> 52.366105</td>\n",
       "      <td> 4.894889</td>\n",
       "    </tr>\n",
       "    <tr>\n",
       "      <td><strong>BU03630004</strong></td>\n",
       "      <td> 3.696746e+07</td>\n",
       "      <td> 2.597457e+15</td>\n",
       "      <td> 52.371965</td>\n",
       "      <td> 4.903914</td>\n",
       "    </tr>\n",
       "    <tr>\n",
       "      <td><strong>BU03630005</strong></td>\n",
       "      <td> 3.213309e+07</td>\n",
       "      <td> 3.016933e+15</td>\n",
       "      <td> 52.384250</td>\n",
       "      <td> 4.889986</td>\n",
       "    </tr>\n",
       "    <tr>\n",
       "      <td><strong>BU03630006</strong></td>\n",
       "      <td> 3.500533e+07</td>\n",
       "      <td> 3.837788e+15</td>\n",
       "      <td> 52.375541</td>\n",
       "      <td> 4.881686</td>\n",
       "    </tr>\n",
       "    <tr>\n",
       "      <td><strong>BU03630007</strong></td>\n",
       "      <td> 3.076569e+07</td>\n",
       "      <td> 2.026354e+15</td>\n",
       "      <td> 52.362500</td>\n",
       "      <td> 4.890146</td>\n",
       "    </tr>\n",
       "    <tr>\n",
       "      <td><strong>BU03630008</strong></td>\n",
       "      <td> 3.885122e+07</td>\n",
       "      <td> 1.834704e+15</td>\n",
       "      <td> 52.364856</td>\n",
       "      <td> 4.909952</td>\n",
       "    </tr>\n",
       "    <tr>\n",
       "      <td><strong>BU03630009</strong></td>\n",
       "      <td> 3.275136e+07</td>\n",
       "      <td> 1.761756e+15</td>\n",
       "      <td> 52.372387</td>\n",
       "      <td> 4.922353</td>\n",
       "    </tr>\n",
       "    <tr>\n",
       "      <td><strong>BU03630110</strong></td>\n",
       "      <td> 4.583103e+07</td>\n",
       "      <td> 3.024124e+15</td>\n",
       "      <td> 52.403604</td>\n",
       "      <td> 4.840568</td>\n",
       "    </tr>\n",
       "    <tr>\n",
       "      <td><strong>BU03630111</strong></td>\n",
       "      <td> 4.553697e+07</td>\n",
       "      <td> 4.043264e+15</td>\n",
       "      <td> 52.390713</td>\n",
       "      <td> 4.837820</td>\n",
       "    </tr>\n",
       "    <tr>\n",
       "      <td><strong>BU03630212</strong></td>\n",
       "      <td> 4.653763e+07</td>\n",
       "      <td> 5.552885e+15</td>\n",
       "      <td> 52.393468</td>\n",
       "      <td> 4.885883</td>\n",
       "    </tr>\n",
       "    <tr>\n",
       "      <td><strong>BU03630213</strong></td>\n",
       "      <td> 4.207794e+07</td>\n",
       "      <td> 1.911825e+15</td>\n",
       "      <td> 52.388810</td>\n",
       "      <td> 4.875225</td>\n",
       "    </tr>\n",
       "    <tr>\n",
       "      <td><strong>BU03630214</strong></td>\n",
       "      <td> 2.604093e+07</td>\n",
       "      <td> 1.475080e+15</td>\n",
       "      <td> 52.383136</td>\n",
       "      <td> 4.872976</td>\n",
       "    </tr>\n",
       "    <tr>\n",
       "      <td><strong>BU03630215</strong></td>\n",
       "      <td> 2.596567e+07</td>\n",
       "      <td> 1.881479e+15</td>\n",
       "      <td> 52.384311</td>\n",
       "      <td> 4.867759</td>\n",
       "    </tr>\n",
       "    <tr>\n",
       "      <td><strong>BU03630216</strong></td>\n",
       "      <td> 3.409945e+07</td>\n",
       "      <td> 2.481599e+15</td>\n",
       "      <td> 52.377359</td>\n",
       "      <td> 4.874483</td>\n",
       "    </tr>\n",
       "    <tr>\n",
       "      <td><strong>BU03630317</strong></td>\n",
       "      <td> 3.083976e+07</td>\n",
       "      <td> 9.677685e+14</td>\n",
       "      <td> 52.371689</td>\n",
       "      <td> 4.872083</td>\n",
       "    </tr>\n",
       "    <tr>\n",
       "      <td><strong>BU03630318</strong></td>\n",
       "      <td> 3.270001e+07</td>\n",
       "      <td> 4.452065e+15</td>\n",
       "      <td> 52.369788</td>\n",
       "      <td> 4.866933</td>\n",
       "    </tr>\n",
       "    <tr>\n",
       "      <td><strong>BU03630319</strong></td>\n",
       "      <td> 1.256780e+07</td>\n",
       "      <td> 9.603981e+15</td>\n",
       "      <td> 52.366653</td>\n",
       "      <td> 4.871118</td>\n",
       "    </tr>\n",
       "    <tr>\n",
       "      <td><strong>BU03630320</strong></td>\n",
       "      <td> 3.580618e+07</td>\n",
       "      <td> 3.725604e+15</td>\n",
       "      <td> 52.364255</td>\n",
       "      <td> 4.872827</td>\n",
       "    </tr>\n",
       "    <tr>\n",
       "      <td><strong>BU03630321</strong></td>\n",
       "      <td> 4.327673e+07</td>\n",
       "      <td> 2.162391e+15</td>\n",
       "      <td> 52.360449</td>\n",
       "      <td> 4.860336</td>\n",
       "    </tr>\n",
       "    <tr>\n",
       "      <td><strong>BU03630322</strong></td>\n",
       "      <td> 3.306616e+07</td>\n",
       "      <td> 2.397359e+15</td>\n",
       "      <td> 52.362916</td>\n",
       "      <td> 4.876829</td>\n",
       "    </tr>\n",
       "    <tr>\n",
       "      <td><strong>BU03630431</strong></td>\n",
       "      <td> 3.621605e+07</td>\n",
       "      <td> 3.166838e+15</td>\n",
       "      <td> 52.364937</td>\n",
       "      <td> 4.935627</td>\n",
       "    </tr>\n",
       "    <tr>\n",
       "      <td><strong>BU03630432</strong></td>\n",
       "      <td> 3.705649e+07</td>\n",
       "      <td> 3.989395e+15</td>\n",
       "      <td> 52.365043</td>\n",
       "      <td> 4.946886</td>\n",
       "    </tr>\n",
       "    <tr>\n",
       "      <td><strong>BU03630433</strong></td>\n",
       "      <td> 4.343960e+07</td>\n",
       "      <td> 1.383628e+15</td>\n",
       "      <td> 52.375096</td>\n",
       "      <td> 4.932047</td>\n",
       "    </tr>\n",
       "    <tr>\n",
       "      <td><strong>BU03630434</strong></td>\n",
       "      <td> 5.536995e+07</td>\n",
       "      <td> 3.429937e+15</td>\n",
       "      <td> 52.366242</td>\n",
       "      <td> 4.968782</td>\n",
       "    </tr>\n",
       "    <tr>\n",
       "      <td><strong>BU03630435</strong></td>\n",
       "      <td> 3.080973e+07</td>\n",
       "      <td> 2.029308e+15</td>\n",
       "      <td> 52.357460</td>\n",
       "      <td> 4.991925</td>\n",
       "    </tr>\n",
       "    <tr>\n",
       "      <td><strong>BU03630451</strong></td>\n",
       "      <td> 5.232057e+07</td>\n",
       "      <td> 2.948715e+15</td>\n",
       "      <td> 52.351359</td>\n",
       "      <td> 5.004841</td>\n",
       "    </tr>\n",
       "    <tr>\n",
       "      <td><strong>BU03630536</strong></td>\n",
       "      <td> 3.945977e+07</td>\n",
       "      <td> 3.452410e+15</td>\n",
       "      <td> 52.388011</td>\n",
       "      <td> 4.850064</td>\n",
       "    </tr>\n",
       "    <tr>\n",
       "      <td><strong>BU03630537</strong></td>\n",
       "      <td> 3.519838e+07</td>\n",
       "      <td> 2.477468e+15</td>\n",
       "      <td> 52.382839</td>\n",
       "      <td> 4.852951</td>\n",
       "    </tr>\n",
       "    <tr>\n",
       "      <td><strong>BU03630538</strong></td>\n",
       "      <td> 3.493221e+07</td>\n",
       "      <td> 2.787626e+15</td>\n",
       "      <td> 52.378635</td>\n",
       "      <td> 4.850743</td>\n",
       "    </tr>\n",
       "    <tr>\n",
       "      <td><strong>BU03630539</strong></td>\n",
       "      <td> 4.352352e+07</td>\n",
       "      <td> 1.309941e+15</td>\n",
       "      <td> 52.378174</td>\n",
       "      <td> 4.842480</td>\n",
       "    </tr>\n",
       "    <tr>\n",
       "      <td><strong>BU03630640</strong></td>\n",
       "      <td> 3.914126e+07</td>\n",
       "      <td> 3.803748e+15</td>\n",
       "      <td> 52.371784</td>\n",
       "      <td> 4.860462</td>\n",
       "    </tr>\n",
       "    <tr>\n",
       "      <td><strong>BU03630641</strong></td>\n",
       "      <td> 4.282359e+07</td>\n",
       "      <td> 2.833880e+15</td>\n",
       "      <td> 52.372286</td>\n",
       "      <td> 4.848435</td>\n",
       "    </tr>\n",
       "    <tr>\n",
       "      <td><strong>BU03630642</strong></td>\n",
       "      <td> 4.807170e+07</td>\n",
       "      <td> 2.098702e+15</td>\n",
       "      <td> 52.369191</td>\n",
       "      <td> 4.852857</td>\n",
       "    </tr>\n",
       "    <tr>\n",
       "      <td><strong>BU03630643</strong></td>\n",
       "      <td> 2.546463e+07</td>\n",
       "      <td> 1.109082e+15</td>\n",
       "      <td> 52.362064</td>\n",
       "      <td> 4.854477</td>\n",
       "    </tr>\n",
       "    <tr>\n",
       "      <td><strong>BU03630760</strong></td>\n",
       "      <td> 3.908344e+07</td>\n",
       "      <td> 1.564955e+15</td>\n",
       "      <td> 52.392179</td>\n",
       "      <td> 4.912117</td>\n",
       "    </tr>\n",
       "    <tr>\n",
       "      <td><strong>BU03630761</strong></td>\n",
       "      <td> 3.431164e+07</td>\n",
       "      <td> 2.454694e+15</td>\n",
       "      <td> 52.386317</td>\n",
       "      <td> 4.919903</td>\n",
       "    </tr>\n",
       "    <tr>\n",
       "      <td><strong>BU03630762</strong></td>\n",
       "      <td> 1.010210e+08</td>\n",
       "      <td> 8.829694e+15</td>\n",
       "      <td> 52.391132</td>\n",
       "      <td> 4.947516</td>\n",
       "    </tr>\n",
       "    <tr>\n",
       "      <td><strong>BU03630763</strong></td>\n",
       "      <td> 3.912022e+07</td>\n",
       "      <td> 8.352349e+15</td>\n",
       "      <td> 52.394585</td>\n",
       "      <td> 4.928672</td>\n",
       "    </tr>\n",
       "    <tr>\n",
       "      <td><strong>BU03630764</strong></td>\n",
       "      <td> 1.165250e+08</td>\n",
       "      <td> 9.981837e+13</td>\n",
       "      <td> 52.389851</td>\n",
       "      <td> 4.941517</td>\n",
       "    </tr>\n",
       "    <tr>\n",
       "      <td><strong>BU03630765</strong></td>\n",
       "      <td> 2.503894e+07</td>\n",
       "      <td> 2.076387e+15</td>\n",
       "      <td> 52.407464</td>\n",
       "      <td> 4.895148</td>\n",
       "    </tr>\n",
       "    <tr>\n",
       "      <td><strong>BU03630766</strong></td>\n",
       "      <td> 6.563517e+07</td>\n",
       "      <td> 5.165142e+15</td>\n",
       "      <td> 52.423225</td>\n",
       "      <td> 4.879855</td>\n",
       "    </tr>\n",
       "    <tr>\n",
       "      <td><strong>BU03630767</strong></td>\n",
       "      <td> 4.283430e+07</td>\n",
       "      <td> 9.493364e+14</td>\n",
       "      <td> 52.415386</td>\n",
       "      <td> 4.908213</td>\n",
       "    </tr>\n",
       "    <tr>\n",
       "      <td><strong>BU03630768</strong></td>\n",
       "      <td> 5.704161e+07</td>\n",
       "      <td> 2.083465e+15</td>\n",
       "      <td> 52.395175</td>\n",
       "      <td> 4.953750</td>\n",
       "    </tr>\n",
       "    <tr>\n",
       "      <td><strong>BU03630769</strong></td>\n",
       "      <td> 4.664555e+07</td>\n",
       "      <td> 3.435446e+15</td>\n",
       "      <td> 52.401304</td>\n",
       "      <td> 4.937816</td>\n",
       "    </tr>\n",
       "    <tr>\n",
       "      <td><strong>BU03630770</strong></td>\n",
       "      <td> 7.281672e+07</td>\n",
       "      <td> 1.315143e+15</td>\n",
       "      <td> 52.407017</td>\n",
       "      <td> 4.917439</td>\n",
       "    </tr>\n",
       "    <tr>\n",
       "      <td><strong>BU03630771</strong></td>\n",
       "      <td> 3.789073e+07</td>\n",
       "      <td> 1.218216e+15</td>\n",
       "      <td> 52.396542</td>\n",
       "      <td> 4.898526</td>\n",
       "    </tr>\n",
       "    <tr>\n",
       "      <td><strong>BU03630772</strong></td>\n",
       "      <td> 5.448457e+07</td>\n",
       "      <td> 1.724291e+15</td>\n",
       "      <td> 52.384922</td>\n",
       "      <td> 4.926660</td>\n",
       "    </tr>\n",
       "    <tr>\n",
       "      <td><strong>BU03630773</strong></td>\n",
       "      <td> 5.508481e+07</td>\n",
       "      <td> 3.657312e+15</td>\n",
       "      <td> 52.394324</td>\n",
       "      <td> 4.973050</td>\n",
       "    </tr>\n",
       "    <tr>\n",
       "      <td><strong>BU03630875</strong></td>\n",
       "      <td> 3.594713e+07</td>\n",
       "      <td> 7.794782e+15</td>\n",
       "      <td> 52.387976</td>\n",
       "      <td> 4.808582</td>\n",
       "    </tr>\n",
       "    <tr>\n",
       "      <td><strong>BU03630876</strong></td>\n",
       "      <td> 3.349138e+07</td>\n",
       "      <td> 2.399725e+15</td>\n",
       "      <td> 52.381993</td>\n",
       "      <td> 4.829340</td>\n",
       "    </tr>\n",
       "    <tr>\n",
       "      <td><strong>BU03630877</strong></td>\n",
       "      <td> 3.273494e+07</td>\n",
       "      <td> 1.659150e+15</td>\n",
       "      <td> 52.375512</td>\n",
       "      <td> 4.821954</td>\n",
       "    </tr>\n",
       "    <tr>\n",
       "      <td><strong>BU03630878</strong></td>\n",
       "      <td> 1.904827e+07</td>\n",
       "      <td> 2.327387e+15</td>\n",
       "      <td> 52.378257</td>\n",
       "      <td> 4.801976</td>\n",
       "    </tr>\n",
       "    <tr>\n",
       "      <td><strong>BU03630879</strong></td>\n",
       "      <td> 2.440559e+07</td>\n",
       "      <td> 5.435435e+15</td>\n",
       "      <td> 52.381651</td>\n",
       "      <td> 4.775801</td>\n",
       "    </tr>\n",
       "    <tr>\n",
       "      <td><strong>BU03630980</strong></td>\n",
       "      <td> 3.414051e+07</td>\n",
       "      <td> 4.780221e+15</td>\n",
       "      <td> 52.367047</td>\n",
       "      <td> 4.785599</td>\n",
       "    </tr>\n",
       "    <tr>\n",
       "      <td><strong>BU03630981</strong></td>\n",
       "      <td> 3.648536e+07</td>\n",
       "      <td> 2.713174e+15</td>\n",
       "      <td> 52.360207</td>\n",
       "      <td> 4.806123</td>\n",
       "    </tr>\n",
       "    <tr>\n",
       "      <td><strong>BU03630982</strong></td>\n",
       "      <td> 3.127312e+07</td>\n",
       "      <td> 4.149097e+15</td>\n",
       "      <td> 52.353184</td>\n",
       "      <td> 4.796367</td>\n",
       "    </tr>\n",
       "    <tr>\n",
       "      <td><strong>BU03630983</strong></td>\n",
       "      <td> 4.603978e+07</td>\n",
       "      <td> 1.870076e+15</td>\n",
       "      <td> 52.357826</td>\n",
       "      <td> 4.787147</td>\n",
       "    </tr>\n",
       "    <tr>\n",
       "      <td><strong>BU03630984</strong></td>\n",
       "      <td> 3.940835e+07</td>\n",
       "      <td> 4.014687e+14</td>\n",
       "      <td> 52.351995</td>\n",
       "      <td> 4.781948</td>\n",
       "    </tr>\n",
       "    <tr>\n",
       "      <td><strong>BU03631085</strong></td>\n",
       "      <td> 4.430177e+07</td>\n",
       "      <td> 2.849526e+15</td>\n",
       "      <td> 52.359106</td>\n",
       "      <td> 4.830747</td>\n",
       "    </tr>\n",
       "    <tr>\n",
       "      <td><strong>BU03631086</strong></td>\n",
       "      <td> 4.779580e+07</td>\n",
       "      <td> 2.986380e+15</td>\n",
       "      <td> 52.366085</td>\n",
       "      <td> 4.840374</td>\n",
       "    </tr>\n",
       "    <tr>\n",
       "      <td><strong>BU03631087</strong></td>\n",
       "      <td> 4.184698e+07</td>\n",
       "      <td> 1.974442e+15</td>\n",
       "      <td> 52.350586</td>\n",
       "      <td> 4.839453</td>\n",
       "    </tr>\n",
       "    <tr>\n",
       "      <td><strong>BU03631088</strong></td>\n",
       "      <td> 3.869939e+07</td>\n",
       "      <td> 3.006081e+15</td>\n",
       "      <td> 52.342867</td>\n",
       "      <td> 4.820212</td>\n",
       "    </tr>\n",
       "    <tr>\n",
       "      <td><strong>BU03631192</strong></td>\n",
       "      <td> 5.403510e+07</td>\n",
       "      <td> 4.860566e+15</td>\n",
       "      <td> 52.307826</td>\n",
       "      <td> 4.946894</td>\n",
       "    </tr>\n",
       "    <tr>\n",
       "      <td><strong>BU03631193</strong></td>\n",
       "      <td> 7.972719e+07</td>\n",
       "      <td> 2.138244e+15</td>\n",
       "      <td> 52.317417</td>\n",
       "      <td> 4.948888</td>\n",
       "    </tr>\n",
       "    <tr>\n",
       "      <td><strong>BU03631194</strong></td>\n",
       "      <td> 3.217954e+07</td>\n",
       "      <td> 5.126992e+15</td>\n",
       "      <td> 52.320579</td>\n",
       "      <td> 4.977246</td>\n",
       "    </tr>\n",
       "    <tr>\n",
       "      <td><strong>BU03631195</strong></td>\n",
       "      <td> 5.940351e+07</td>\n",
       "      <td> 5.772487e+15</td>\n",
       "      <td> 52.310161</td>\n",
       "      <td> 4.988906</td>\n",
       "    </tr>\n",
       "    <tr>\n",
       "      <td><strong>BU03631196</strong></td>\n",
       "      <td> 1.181518e+08</td>\n",
       "      <td> 1.638116e+16</td>\n",
       "      <td> 52.301250</td>\n",
       "      <td> 4.965400</td>\n",
       "    </tr>\n",
       "    <tr>\n",
       "      <td><strong>BU03631197</strong></td>\n",
       "      <td> 1.696124e+07</td>\n",
       "      <td> 7.058894e+14</td>\n",
       "      <td> 52.294902</td>\n",
       "      <td> 4.988288</td>\n",
       "    </tr>\n",
       "    <tr>\n",
       "      <td><strong>BU03631198</strong></td>\n",
       "      <td> 3.380559e+07</td>\n",
       "      <td> 1.352041e+15</td>\n",
       "      <td> 52.311467</td>\n",
       "      <td> 5.015063</td>\n",
       "    </tr>\n",
       "    <tr>\n",
       "      <td><strong>BU03631227</strong></td>\n",
       "      <td> 4.789822e+07</td>\n",
       "      <td> 2.182101e+15</td>\n",
       "      <td> 52.356135</td>\n",
       "      <td> 4.910376</td>\n",
       "    </tr>\n",
       "    <tr>\n",
       "      <td><strong>BU03631228</strong></td>\n",
       "      <td> 4.173428e+07</td>\n",
       "      <td> 2.744241e+15</td>\n",
       "      <td> 52.360448</td>\n",
       "      <td> 4.918493</td>\n",
       "    </tr>\n",
       "    <tr>\n",
       "      <td><strong>BU03631229</strong></td>\n",
       "      <td> 2.320473e+07</td>\n",
       "      <td> 1.259262e+15</td>\n",
       "      <td> 52.363710</td>\n",
       "      <td> 4.926495</td>\n",
       "    </tr>\n",
       "    <tr>\n",
       "      <td><strong>BU03631230</strong></td>\n",
       "      <td> 1.030016e+08</td>\n",
       "      <td> 1.930944e+15</td>\n",
       "      <td> 52.354213</td>\n",
       "      <td> 4.919484</td>\n",
       "    </tr>\n",
       "    <tr>\n",
       "      <td><strong>BU03631255</strong></td>\n",
       "      <td> 5.286842e+07</td>\n",
       "      <td> 6.314643e+15</td>\n",
       "      <td> 52.348853</td>\n",
       "      <td> 4.919705</td>\n",
       "    </tr>\n",
       "    <tr>\n",
       "      <td><strong>BU03631256</strong></td>\n",
       "      <td> 4.094719e+07</td>\n",
       "      <td> 2.910426e+15</td>\n",
       "      <td> 52.350648</td>\n",
       "      <td> 4.945512</td>\n",
       "    </tr>\n",
       "    <tr>\n",
       "      <td><strong>BU03631257</strong></td>\n",
       "      <td> 2.836188e+07</td>\n",
       "      <td> 1.531634e+15</td>\n",
       "      <td> 52.343198</td>\n",
       "      <td> 4.939110</td>\n",
       "    </tr>\n",
       "    <tr>\n",
       "      <td><strong>BU03631258</strong></td>\n",
       "      <td> 3.463629e+07</td>\n",
       "      <td> 2.752124e+15</td>\n",
       "      <td> 52.336681</td>\n",
       "      <td> 4.916669</td>\n",
       "    </tr>\n",
       "    <tr>\n",
       "      <td><strong>BU03631324</strong></td>\n",
       "      <td> 3.998340e+07</td>\n",
       "      <td> 1.891869e+15</td>\n",
       "      <td> 52.356410</td>\n",
       "      <td> 4.893144</td>\n",
       "    </tr>\n",
       "    <tr>\n",
       "      <td><strong>BU03631325</strong></td>\n",
       "      <td> 3.055078e+07</td>\n",
       "      <td> 2.104374e+15</td>\n",
       "      <td> 52.353144</td>\n",
       "      <td> 4.895829</td>\n",
       "    </tr>\n",
       "    <tr>\n",
       "      <td><strong>BU03631326</strong></td>\n",
       "      <td> 3.681281e+07</td>\n",
       "      <td> 2.426239e+15</td>\n",
       "      <td> 52.352225</td>\n",
       "      <td> 4.902491</td>\n",
       "    </tr>\n",
       "    <tr>\n",
       "      <td><strong>BU03631344</strong></td>\n",
       "      <td> 3.373319e+07</td>\n",
       "      <td> 1.908824e+15</td>\n",
       "      <td> 52.351826</td>\n",
       "      <td> 4.850016</td>\n",
       "    </tr>\n",
       "    <tr>\n",
       "      <td><strong>BU03631345</strong></td>\n",
       "      <td> 3.490560e+07</td>\n",
       "      <td> 3.600734e+15</td>\n",
       "      <td> 52.352346</td>\n",
       "      <td> 4.855679</td>\n",
       "    </tr>\n",
       "    <tr>\n",
       "      <td><strong>BU03631346</strong></td>\n",
       "      <td> 3.347443e+07</td>\n",
       "      <td> 2.801139e+15</td>\n",
       "      <td> 52.354236</td>\n",
       "      <td> 4.863389</td>\n",
       "    </tr>\n",
       "    <tr>\n",
       "      <td><strong>BU03631347</strong></td>\n",
       "      <td> 3.838088e+07</td>\n",
       "      <td> 2.181407e+15</td>\n",
       "      <td> 52.358917</td>\n",
       "      <td> 4.879794</td>\n",
       "    </tr>\n",
       "    <tr>\n",
       "      <td><strong>BU03631348</strong></td>\n",
       "      <td> 3.336986e+07</td>\n",
       "      <td> 2.238330e+15</td>\n",
       "      <td> 52.345672</td>\n",
       "      <td> 4.857665</td>\n",
       "    </tr>\n",
       "    <tr>\n",
       "      <td><strong>BU03631349</strong></td>\n",
       "      <td> 3.858499e+07</td>\n",
       "      <td> 4.708061e+15</td>\n",
       "      <td> 52.349222</td>\n",
       "      <td> 4.875158</td>\n",
       "    </tr>\n",
       "    <tr>\n",
       "      <td><strong>BU03631350</strong></td>\n",
       "      <td> 3.337788e+07</td>\n",
       "      <td> 2.267384e+15</td>\n",
       "      <td> 52.354644</td>\n",
       "      <td> 4.885674</td>\n",
       "    </tr>\n",
       "    <tr>\n",
       "      <td><strong>BU03631452</strong></td>\n",
       "      <td> 4.030466e+07</td>\n",
       "      <td> 3.022871e+15</td>\n",
       "      <td> 52.343024</td>\n",
       "      <td> 4.892552</td>\n",
       "    </tr>\n",
       "    <tr>\n",
       "      <td><strong>BU03631453</strong></td>\n",
       "      <td> 1.084910e+08</td>\n",
       "      <td> 2.076940e+16</td>\n",
       "      <td> 52.348890</td>\n",
       "      <td> 4.908481</td>\n",
       "    </tr>\n",
       "    <tr>\n",
       "      <td><strong>BU03631454</strong></td>\n",
       "      <td> 3.481568e+07</td>\n",
       "      <td> 2.950243e+15</td>\n",
       "      <td> 52.341972</td>\n",
       "      <td> 4.907108</td>\n",
       "    </tr>\n",
       "    <tr>\n",
       "      <td><strong>BU03631459</strong></td>\n",
       "      <td> 4.564034e+07</td>\n",
       "      <td> 2.574770e+15</td>\n",
       "      <td> 52.340828</td>\n",
       "      <td> 4.872763</td>\n",
       "    </tr>\n",
       "    <tr>\n",
       "      <td><strong>BU03631490</strong></td>\n",
       "      <td> 5.062685e+07</td>\n",
       "      <td> 3.270327e+15</td>\n",
       "      <td> 52.335458</td>\n",
       "      <td> 4.866732</td>\n",
       "    </tr>\n",
       "    <tr>\n",
       "      <td><strong>BU03631491</strong></td>\n",
       "      <td> 1.002436e+08</td>\n",
       "      <td> 7.937146e+15</td>\n",
       "      <td> 52.330808</td>\n",
       "      <td> 4.886211</td>\n",
       "    </tr>\n",
       "  </tbody>\n",
       "</table>\n",
       "</div>"
      ],
      "text/plain": [
       "                 user_id      tweet_id        lat       lon\n",
       "BU_CODE                                                    \n",
       "BU03630000  4.089537e+07  2.896880e+15  52.373986  4.897222\n",
       "BU03630001  4.001633e+07  2.494666e+15  52.375894  4.896031\n",
       "BU03630002  2.975765e+07  2.635145e+15  52.374089  4.886963\n",
       "BU03630003  3.360024e+07  3.197510e+15  52.366105  4.894889\n",
       "BU03630004  3.696746e+07  2.597457e+15  52.371965  4.903914\n",
       "BU03630005  3.213309e+07  3.016933e+15  52.384250  4.889986\n",
       "BU03630006  3.500533e+07  3.837788e+15  52.375541  4.881686\n",
       "BU03630007  3.076569e+07  2.026354e+15  52.362500  4.890146\n",
       "BU03630008  3.885122e+07  1.834704e+15  52.364856  4.909952\n",
       "BU03630009  3.275136e+07  1.761756e+15  52.372387  4.922353\n",
       "BU03630110  4.583103e+07  3.024124e+15  52.403604  4.840568\n",
       "BU03630111  4.553697e+07  4.043264e+15  52.390713  4.837820\n",
       "BU03630212  4.653763e+07  5.552885e+15  52.393468  4.885883\n",
       "BU03630213  4.207794e+07  1.911825e+15  52.388810  4.875225\n",
       "BU03630214  2.604093e+07  1.475080e+15  52.383136  4.872976\n",
       "BU03630215  2.596567e+07  1.881479e+15  52.384311  4.867759\n",
       "BU03630216  3.409945e+07  2.481599e+15  52.377359  4.874483\n",
       "BU03630317  3.083976e+07  9.677685e+14  52.371689  4.872083\n",
       "BU03630318  3.270001e+07  4.452065e+15  52.369788  4.866933\n",
       "BU03630319  1.256780e+07  9.603981e+15  52.366653  4.871118\n",
       "BU03630320  3.580618e+07  3.725604e+15  52.364255  4.872827\n",
       "BU03630321  4.327673e+07  2.162391e+15  52.360449  4.860336\n",
       "BU03630322  3.306616e+07  2.397359e+15  52.362916  4.876829\n",
       "BU03630431  3.621605e+07  3.166838e+15  52.364937  4.935627\n",
       "BU03630432  3.705649e+07  3.989395e+15  52.365043  4.946886\n",
       "BU03630433  4.343960e+07  1.383628e+15  52.375096  4.932047\n",
       "BU03630434  5.536995e+07  3.429937e+15  52.366242  4.968782\n",
       "BU03630435  3.080973e+07  2.029308e+15  52.357460  4.991925\n",
       "BU03630451  5.232057e+07  2.948715e+15  52.351359  5.004841\n",
       "BU03630536  3.945977e+07  3.452410e+15  52.388011  4.850064\n",
       "BU03630537  3.519838e+07  2.477468e+15  52.382839  4.852951\n",
       "BU03630538  3.493221e+07  2.787626e+15  52.378635  4.850743\n",
       "BU03630539  4.352352e+07  1.309941e+15  52.378174  4.842480\n",
       "BU03630640  3.914126e+07  3.803748e+15  52.371784  4.860462\n",
       "BU03630641  4.282359e+07  2.833880e+15  52.372286  4.848435\n",
       "BU03630642  4.807170e+07  2.098702e+15  52.369191  4.852857\n",
       "BU03630643  2.546463e+07  1.109082e+15  52.362064  4.854477\n",
       "BU03630760  3.908344e+07  1.564955e+15  52.392179  4.912117\n",
       "BU03630761  3.431164e+07  2.454694e+15  52.386317  4.919903\n",
       "BU03630762  1.010210e+08  8.829694e+15  52.391132  4.947516\n",
       "BU03630763  3.912022e+07  8.352349e+15  52.394585  4.928672\n",
       "BU03630764  1.165250e+08  9.981837e+13  52.389851  4.941517\n",
       "BU03630765  2.503894e+07  2.076387e+15  52.407464  4.895148\n",
       "BU03630766  6.563517e+07  5.165142e+15  52.423225  4.879855\n",
       "BU03630767  4.283430e+07  9.493364e+14  52.415386  4.908213\n",
       "BU03630768  5.704161e+07  2.083465e+15  52.395175  4.953750\n",
       "BU03630769  4.664555e+07  3.435446e+15  52.401304  4.937816\n",
       "BU03630770  7.281672e+07  1.315143e+15  52.407017  4.917439\n",
       "BU03630771  3.789073e+07  1.218216e+15  52.396542  4.898526\n",
       "BU03630772  5.448457e+07  1.724291e+15  52.384922  4.926660\n",
       "BU03630773  5.508481e+07  3.657312e+15  52.394324  4.973050\n",
       "BU03630875  3.594713e+07  7.794782e+15  52.387976  4.808582\n",
       "BU03630876  3.349138e+07  2.399725e+15  52.381993  4.829340\n",
       "BU03630877  3.273494e+07  1.659150e+15  52.375512  4.821954\n",
       "BU03630878  1.904827e+07  2.327387e+15  52.378257  4.801976\n",
       "BU03630879  2.440559e+07  5.435435e+15  52.381651  4.775801\n",
       "BU03630980  3.414051e+07  4.780221e+15  52.367047  4.785599\n",
       "BU03630981  3.648536e+07  2.713174e+15  52.360207  4.806123\n",
       "BU03630982  3.127312e+07  4.149097e+15  52.353184  4.796367\n",
       "BU03630983  4.603978e+07  1.870076e+15  52.357826  4.787147\n",
       "BU03630984  3.940835e+07  4.014687e+14  52.351995  4.781948\n",
       "BU03631085  4.430177e+07  2.849526e+15  52.359106  4.830747\n",
       "BU03631086  4.779580e+07  2.986380e+15  52.366085  4.840374\n",
       "BU03631087  4.184698e+07  1.974442e+15  52.350586  4.839453\n",
       "BU03631088  3.869939e+07  3.006081e+15  52.342867  4.820212\n",
       "BU03631192  5.403510e+07  4.860566e+15  52.307826  4.946894\n",
       "BU03631193  7.972719e+07  2.138244e+15  52.317417  4.948888\n",
       "BU03631194  3.217954e+07  5.126992e+15  52.320579  4.977246\n",
       "BU03631195  5.940351e+07  5.772487e+15  52.310161  4.988906\n",
       "BU03631196  1.181518e+08  1.638116e+16  52.301250  4.965400\n",
       "BU03631197  1.696124e+07  7.058894e+14  52.294902  4.988288\n",
       "BU03631198  3.380559e+07  1.352041e+15  52.311467  5.015063\n",
       "BU03631227  4.789822e+07  2.182101e+15  52.356135  4.910376\n",
       "BU03631228  4.173428e+07  2.744241e+15  52.360448  4.918493\n",
       "BU03631229  2.320473e+07  1.259262e+15  52.363710  4.926495\n",
       "BU03631230  1.030016e+08  1.930944e+15  52.354213  4.919484\n",
       "BU03631255  5.286842e+07  6.314643e+15  52.348853  4.919705\n",
       "BU03631256  4.094719e+07  2.910426e+15  52.350648  4.945512\n",
       "BU03631257  2.836188e+07  1.531634e+15  52.343198  4.939110\n",
       "BU03631258  3.463629e+07  2.752124e+15  52.336681  4.916669\n",
       "BU03631324  3.998340e+07  1.891869e+15  52.356410  4.893144\n",
       "BU03631325  3.055078e+07  2.104374e+15  52.353144  4.895829\n",
       "BU03631326  3.681281e+07  2.426239e+15  52.352225  4.902491\n",
       "BU03631344  3.373319e+07  1.908824e+15  52.351826  4.850016\n",
       "BU03631345  3.490560e+07  3.600734e+15  52.352346  4.855679\n",
       "BU03631346  3.347443e+07  2.801139e+15  52.354236  4.863389\n",
       "BU03631347  3.838088e+07  2.181407e+15  52.358917  4.879794\n",
       "BU03631348  3.336986e+07  2.238330e+15  52.345672  4.857665\n",
       "BU03631349  3.858499e+07  4.708061e+15  52.349222  4.875158\n",
       "BU03631350  3.337788e+07  2.267384e+15  52.354644  4.885674\n",
       "BU03631452  4.030466e+07  3.022871e+15  52.343024  4.892552\n",
       "BU03631453  1.084910e+08  2.076940e+16  52.348890  4.908481\n",
       "BU03631454  3.481568e+07  2.950243e+15  52.341972  4.907108\n",
       "BU03631459  4.564034e+07  2.574770e+15  52.340828  4.872763\n",
       "BU03631490  5.062685e+07  3.270327e+15  52.335458  4.866732\n",
       "BU03631491  1.002436e+08  7.937146e+15  52.330808  4.886211"
      ]
     },
     "execution_count": 28,
     "metadata": {},
     "output_type": "execute_result"
    }
   ],
   "source": [
    "neigh_several = db.groupby('BU_CODE').mean()\n",
    "neigh_several"
   ]
  },
  {
   "cell_type": "markdown",
   "metadata": {},
   "source": [
    "This is also useful if you want to obtain simple descriptive statistics by group. For example, you might want to know a bit more of checkins per neighborhodd:"
   ]
  },
  {
   "cell_type": "code",
   "execution_count": 29,
   "metadata": {
    "collapsed": false
   },
   "outputs": [
    {
     "name": "stdout",
     "output_type": "stream",
     "text": [
      "--- Top 5 most popular neighborhoods ---\n",
      "BU_CODE\n",
      "BU03630001    8.55\n",
      "BU03630007    5.44\n",
      "BU03631192    5.18\n",
      "BU03630003    4.48\n",
      "BU03631347    3.63\n",
      "--- Top 5 least popular neighborhoods ---\n",
      "BU_CODE\n",
      "BU03630763    0.01\n",
      "BU03631198    0.01\n",
      "BU03630762    0.01\n",
      "BU03630879    0.03\n",
      "BU03630764    0.04\n"
     ]
    }
   ],
   "source": [
    "# Proportion by neighborhood\n",
    "pct = neigh * 100. / neigh.sum()\n",
    "\n",
    "# Sort them\n",
    "rk = pct.order(ascending=False)\n",
    "print '--- Top 5 most popular neighborhoods ---'\n",
    "print np.round(rk.head(), decimals=2)\n",
    "print '--- Top 5 least popular neighborhoods ---'\n",
    "print np.round(rk.tail()[::-1], decimals=2)"
   ]
  },
  {
   "cell_type": "markdown",
   "metadata": {},
   "source": [
    "## Date functionality"
   ]
  },
  {
   "cell_type": "markdown",
   "metadata": {},
   "source": [
    "`pandas` inludes very nice support for dates and operations based on date. To exemplify it, we will use the column `time`. As it is read, it is taken as simple text:"
   ]
  },
  {
   "cell_type": "code",
   "execution_count": 30,
   "metadata": {
    "collapsed": false
   },
   "outputs": [
    {
     "data": {
      "text/plain": [
       "'2010-05-05 09:21:15'"
      ]
     },
     "execution_count": 30,
     "metadata": {},
     "output_type": "execute_result"
    }
   ],
   "source": [
    "db['time'][0]"
   ]
  },
  {
   "cell_type": "code",
   "execution_count": 31,
   "metadata": {
    "collapsed": false
   },
   "outputs": [
    {
     "data": {
      "text/plain": [
       "str"
      ]
     },
     "execution_count": 31,
     "metadata": {},
     "output_type": "execute_result"
    }
   ],
   "source": [
    "type(db['time'][0])"
   ]
  },
  {
   "cell_type": "markdown",
   "metadata": {},
   "source": [
    "However, you can convert it to a `Timestamp`, the class in `pandas` to deal with dates:"
   ]
  },
  {
   "cell_type": "code",
   "execution_count": 32,
   "metadata": {
    "collapsed": false
   },
   "outputs": [],
   "source": [
    "# This might take some time\n",
    "db['t'] = db['time'].apply(pd.Timestamp)"
   ]
  },
  {
   "cell_type": "code",
   "execution_count": 33,
   "metadata": {
    "collapsed": false
   },
   "outputs": [
    {
     "data": {
      "text/plain": [
       "<Timestamp: 2010-05-05 09:21:15>"
      ]
     },
     "execution_count": 33,
     "metadata": {},
     "output_type": "execute_result"
    }
   ],
   "source": [
    "ts = db['t'][0]\n",
    "ts"
   ]
  },
  {
   "cell_type": "markdown",
   "metadata": {},
   "source": [
    "This gives you handy many attributes:"
   ]
  },
  {
   "cell_type": "code",
   "execution_count": 34,
   "metadata": {
    "collapsed": false
   },
   "outputs": [
    {
     "data": {
      "text/plain": [
       "9"
      ]
     },
     "execution_count": 34,
     "metadata": {},
     "output_type": "execute_result"
    }
   ],
   "source": [
    "ts.hour"
   ]
  },
  {
   "cell_type": "code",
   "execution_count": 35,
   "metadata": {
    "collapsed": false
   },
   "outputs": [
    {
     "data": {
      "text/plain": [
       "datetime.date(2010, 5, 5)"
      ]
     },
     "execution_count": 35,
     "metadata": {},
     "output_type": "execute_result"
    }
   ],
   "source": [
    "ts.date()"
   ]
  },
  {
   "cell_type": "markdown",
   "metadata": {},
   "source": [
    "See all of them:"
   ]
  },
  {
   "cell_type": "code",
   "execution_count": 36,
   "metadata": {
    "collapsed": false
   },
   "outputs": [
    {
     "data": {
      "text/plain": [
       "['_get_field',\n",
       " '_repr_base',\n",
       " 'asm8',\n",
       " 'astimezone',\n",
       " 'combine',\n",
       " 'ctime',\n",
       " 'date',\n",
       " 'day',\n",
       " 'dayofweek',\n",
       " 'dayofyear',\n",
       " 'dst',\n",
       " 'freq',\n",
       " 'freqstr',\n",
       " 'fromordinal',\n",
       " 'fromtimestamp',\n",
       " 'hour',\n",
       " 'isocalendar',\n",
       " 'isoformat',\n",
       " 'isoweekday',\n",
       " 'max',\n",
       " 'microsecond',\n",
       " 'min',\n",
       " 'minute',\n",
       " 'month',\n",
       " 'nanosecond',\n",
       " 'now',\n",
       " 'offset',\n",
       " 'quarter',\n",
       " 'replace',\n",
       " 'resolution',\n",
       " 'second',\n",
       " 'strftime',\n",
       " 'strptime',\n",
       " 'time',\n",
       " 'timetuple',\n",
       " 'timetz',\n",
       " 'to_datetime',\n",
       " 'to_period',\n",
       " 'to_pydatetime',\n",
       " 'today',\n",
       " 'toordinal',\n",
       " 'tz',\n",
       " 'tz_convert',\n",
       " 'tz_localize',\n",
       " 'tzinfo',\n",
       " 'tzname',\n",
       " 'utcfromtimestamp',\n",
       " 'utcnow',\n",
       " 'utcoffset',\n",
       " 'utctimetuple',\n",
       " 'value',\n",
       " 'week',\n",
       " 'weekday',\n",
       " 'weekofyear',\n",
       " 'year']"
      ]
     },
     "execution_count": 36,
     "metadata": {},
     "output_type": "execute_result"
    }
   ],
   "source": [
    "[i for i in dir(ts) if '__' not in i]"
   ]
  },
  {
   "cell_type": "markdown",
   "metadata": {},
   "source": [
    "With this, we can assign `t` as the index of the `DataFrame`, which will be useful later:"
   ]
  },
  {
   "cell_type": "code",
   "execution_count": 37,
   "metadata": {
    "collapsed": false
   },
   "outputs": [
    {
     "data": {
      "text/html": [
       "<div style=\"max-height:1000px;max-width:1500px;overflow:auto;\">\n",
       "<table border=\"1\" class=\"dataframe\">\n",
       "  <thead>\n",
       "    <tr style=\"text-align: right;\">\n",
       "      <th></th>\n",
       "      <th>user_id</th>\n",
       "      <th>tweet_id</th>\n",
       "      <th>lat</th>\n",
       "      <th>lon</th>\n",
       "      <th>time</th>\n",
       "      <th>text</th>\n",
       "      <th>place_id</th>\n",
       "      <th>BU_CODE</th>\n",
       "    </tr>\n",
       "    <tr>\n",
       "      <th>t</th>\n",
       "      <th></th>\n",
       "      <th></th>\n",
       "      <th></th>\n",
       "      <th></th>\n",
       "      <th></th>\n",
       "      <th></th>\n",
       "      <th></th>\n",
       "      <th></th>\n",
       "    </tr>\n",
       "  </thead>\n",
       "  <tbody>\n",
       "    <tr>\n",
       "      <td><strong>2010-05-05 09:21:15</strong></td>\n",
       "      <td> 82837637</td>\n",
       "      <td> 13416482426</td>\n",
       "      <td> 52.360800</td>\n",
       "      <td> 4.867410</td>\n",
       "      <td> 2010-05-05 09:21:15</td>\n",
       "      <td> I'm at Marqt Overtoom (Overtoom, Amsterdam). h...</td>\n",
       "      <td> 99cdab25eddd6bce</td>\n",
       "      <td> BU03630322</td>\n",
       "    </tr>\n",
       "    <tr>\n",
       "      <td><strong>2010-05-05 10:52:24</strong></td>\n",
       "      <td> 82837637</td>\n",
       "      <td> 13419413928</td>\n",
       "      <td> 52.366300</td>\n",
       "      <td> 4.886320</td>\n",
       "      <td> 2010-05-05 10:52:24</td>\n",
       "      <td> I'm at Walem (Keizersgracht 449, Amsterdam). h...</td>\n",
       "      <td> 99cdab25eddd6bce</td>\n",
       "      <td> BU03630003</td>\n",
       "    </tr>\n",
       "    <tr>\n",
       "      <td><strong>2010-05-27 17:06:19</strong></td>\n",
       "      <td> 82837637</td>\n",
       "      <td> 14847348078</td>\n",
       "      <td> 52.333500</td>\n",
       "      <td> 4.889770</td>\n",
       "      <td> 2010-05-27 17:06:19</td>\n",
       "      <td> Mooi feest hier. Wie is er eigenlijk niet vand...</td>\n",
       "      <td> 99cdab25eddd6bce</td>\n",
       "      <td> BU03631491</td>\n",
       "    </tr>\n",
       "    <tr>\n",
       "      <td><strong>2010-06-30 08:54:35</strong></td>\n",
       "      <td> 82837637</td>\n",
       "      <td> 17401139685</td>\n",
       "      <td> 52.340512</td>\n",
       "      <td> 4.873362</td>\n",
       "      <td> 2010-06-30 08:54:35</td>\n",
       "      <td> @nienkehofkamp ik ben er! (@ World Trade Cente...</td>\n",
       "      <td> 99cdab25eddd6bce</td>\n",
       "      <td> BU03631459</td>\n",
       "    </tr>\n",
       "    <tr>\n",
       "      <td><strong>2010-07-02 07:26:45</strong></td>\n",
       "      <td> 82837637</td>\n",
       "      <td> 17554964312</td>\n",
       "      <td> 52.349976</td>\n",
       "      <td> 4.918581</td>\n",
       "      <td> 2010-07-02 07:26:45</td>\n",
       "      <td> Klein leger van 200 groen gele Braziliaantjes ...</td>\n",
       "      <td> 99cdab25eddd6bce</td>\n",
       "      <td> BU03631255</td>\n",
       "    </tr>\n",
       "  </tbody>\n",
       "</table>\n",
       "</div>"
      ],
      "text/plain": [
       "                      user_id     tweet_id        lat       lon  \\\n",
       "t                                                                 \n",
       "2010-05-05 09:21:15  82837637  13416482426  52.360800  4.867410   \n",
       "2010-05-05 10:52:24  82837637  13419413928  52.366300  4.886320   \n",
       "2010-05-27 17:06:19  82837637  14847348078  52.333500  4.889770   \n",
       "2010-06-30 08:54:35  82837637  17401139685  52.340512  4.873362   \n",
       "2010-07-02 07:26:45  82837637  17554964312  52.349976  4.918581   \n",
       "\n",
       "                                    time  \\\n",
       "t                                          \n",
       "2010-05-05 09:21:15  2010-05-05 09:21:15   \n",
       "2010-05-05 10:52:24  2010-05-05 10:52:24   \n",
       "2010-05-27 17:06:19  2010-05-27 17:06:19   \n",
       "2010-06-30 08:54:35  2010-06-30 08:54:35   \n",
       "2010-07-02 07:26:45  2010-07-02 07:26:45   \n",
       "\n",
       "                                                                  text  \\\n",
       "t                                                                        \n",
       "2010-05-05 09:21:15  I'm at Marqt Overtoom (Overtoom, Amsterdam). h...   \n",
       "2010-05-05 10:52:24  I'm at Walem (Keizersgracht 449, Amsterdam). h...   \n",
       "2010-05-27 17:06:19  Mooi feest hier. Wie is er eigenlijk niet vand...   \n",
       "2010-06-30 08:54:35  @nienkehofkamp ik ben er! (@ World Trade Cente...   \n",
       "2010-07-02 07:26:45  Klein leger van 200 groen gele Braziliaantjes ...   \n",
       "\n",
       "                             place_id     BU_CODE  \n",
       "t                                                  \n",
       "2010-05-05 09:21:15  99cdab25eddd6bce  BU03630322  \n",
       "2010-05-05 10:52:24  99cdab25eddd6bce  BU03630003  \n",
       "2010-05-27 17:06:19  99cdab25eddd6bce  BU03631491  \n",
       "2010-06-30 08:54:35  99cdab25eddd6bce  BU03631459  \n",
       "2010-07-02 07:26:45  99cdab25eddd6bce  BU03631255  "
      ]
     },
     "execution_count": 37,
     "metadata": {},
     "output_type": "execute_result"
    }
   ],
   "source": [
    "db = db.set_index('t')\n",
    "db.head()"
   ]
  },
  {
   "cell_type": "markdown",
   "metadata": {},
   "source": [
    "Once we have it, it is easier to group the rows by day and get the average location, for example:"
   ]
  },
  {
   "cell_type": "code",
   "execution_count": 38,
   "metadata": {
    "collapsed": false
   },
   "outputs": [
    {
     "data": {
      "text/html": [
       "<div style=\"max-height:1000px;max-width:1500px;overflow:auto;\">\n",
       "<table border=\"1\" class=\"dataframe\">\n",
       "  <thead>\n",
       "    <tr style=\"text-align: right;\">\n",
       "      <th></th>\n",
       "      <th>lat</th>\n",
       "      <th>lon</th>\n",
       "    </tr>\n",
       "  </thead>\n",
       "  <tbody>\n",
       "    <tr>\n",
       "      <td><strong>2010-02-26</strong></td>\n",
       "      <td> 52.362463</td>\n",
       "      <td> 4.882973</td>\n",
       "    </tr>\n",
       "    <tr>\n",
       "      <td><strong>2010-02-27</strong></td>\n",
       "      <td> 52.367031</td>\n",
       "      <td> 4.879173</td>\n",
       "    </tr>\n",
       "    <tr>\n",
       "      <td><strong>2010-02-28</strong></td>\n",
       "      <td> 52.360148</td>\n",
       "      <td> 4.857665</td>\n",
       "    </tr>\n",
       "    <tr>\n",
       "      <td><strong>2010-03-01</strong></td>\n",
       "      <td> 52.365379</td>\n",
       "      <td> 4.877875</td>\n",
       "    </tr>\n",
       "    <tr>\n",
       "      <td><strong>2010-03-02</strong></td>\n",
       "      <td> 52.364598</td>\n",
       "      <td> 4.891863</td>\n",
       "    </tr>\n",
       "  </tbody>\n",
       "</table>\n",
       "</div>"
      ],
      "text/plain": [
       "                  lat       lon\n",
       "2010-02-26  52.362463  4.882973\n",
       "2010-02-27  52.367031  4.879173\n",
       "2010-02-28  52.360148  4.857665\n",
       "2010-03-01  52.365379  4.877875\n",
       "2010-03-02  52.364598  4.891863"
      ]
     },
     "execution_count": 38,
     "metadata": {},
     "output_type": "execute_result"
    }
   ],
   "source": [
    "days = db.groupby(lambda i: i.date())[['lat', 'lon']].mean()\n",
    "days.head()"
   ]
  },
  {
   "cell_type": "markdown",
   "metadata": {},
   "source": [
    "Another one-liner is to get the volume of checkins by hour of the day:"
   ]
  },
  {
   "cell_type": "code",
   "execution_count": 39,
   "metadata": {
    "collapsed": false
   },
   "outputs": [
    {
     "data": {
      "text/plain": [
       "0      778\n",
       "1      463\n",
       "2      225\n",
       "3      159\n",
       "4      375\n",
       "5     1168\n",
       "6     3049\n",
       "7     4601\n",
       "8     4463\n",
       "9     3921\n",
       "10    4164\n",
       "11    4683\n",
       "12    4284\n",
       "13    4247\n",
       "14    4426\n",
       "15    4748\n",
       "16    5349\n",
       "17    5686\n",
       "18    5613\n",
       "19    4583\n",
       "20    3743\n",
       "21    3107\n",
       "22    2215\n",
       "23    1377"
      ]
     },
     "execution_count": 39,
     "metadata": {},
     "output_type": "execute_result"
    }
   ],
   "source": [
    "by_hour = db.groupby(lambda i: i.hour).size()\n",
    "by_hour"
   ]
  },
  {
   "cell_type": "markdown",
   "metadata": {},
   "source": [
    "And we can do similar by hour of the day by neighborhood:"
   ]
  },
  {
   "cell_type": "code",
   "execution_count": 40,
   "metadata": {
    "collapsed": false
   },
   "outputs": [
    {
     "data": {
      "text/plain": [
       "BU_CODE       \n",
       "BU03630000  0      30\n",
       "            1      12\n",
       "            2      13\n",
       "            3       9\n",
       "            4       3\n",
       "            5      11\n",
       "            6      48\n",
       "            7      90\n",
       "            8     117\n",
       "            9     111\n",
       "            10    136\n",
       "            11    155\n",
       "            12    163\n",
       "            13    149\n",
       "            14    195\n",
       "...\n",
       "BU03631491  9     39\n",
       "            10    43\n",
       "            11    39\n",
       "            12    41\n",
       "            13    25\n",
       "            14    46\n",
       "            15    45\n",
       "            16    65\n",
       "            17    45\n",
       "            18    37\n",
       "            19    27\n",
       "            20    37\n",
       "            21    48\n",
       "            22    58\n",
       "            23    24\n",
       "Length: 1986"
      ]
     },
     "execution_count": 40,
     "metadata": {},
     "output_type": "execute_result"
    }
   ],
   "source": [
    "by_neigh_by_hour = db.groupby(['BU_CODE', lambda i: i.hour]).size()\n",
    "by_neigh_by_hour"
   ]
  },
  {
   "cell_type": "markdown",
   "metadata": {},
   "source": [
    "This creates a `Series` object but with a hierarchical index that contains two levels: one for the neighborhood and one for the hour of the day. We can quickly reshape this into a `DataFrame`:"
   ]
  },
  {
   "cell_type": "code",
   "execution_count": 41,
   "metadata": {
    "collapsed": false
   },
   "outputs": [
    {
     "data": {
      "text/plain": [
       "<class 'pandas.core.frame.DataFrame'>\n",
       "Index: 96 entries, BU03630000 to BU03631491\n",
       "Data columns:\n",
       "h0     72  non-null values\n",
       "h1     59  non-null values\n",
       "h2     53  non-null values\n",
       "h3     43  non-null values\n",
       "h4     59  non-null values\n",
       "h5     80  non-null values\n",
       "h6     90  non-null values\n",
       "h7     93  non-null values\n",
       "h8     93  non-null values\n",
       "h9     91  non-null values\n",
       "h10    93  non-null values\n",
       "h11    94  non-null values\n",
       "h12    93  non-null values\n",
       "h13    92  non-null values\n",
       "h14    94  non-null values\n",
       "h15    90  non-null values\n",
       "h16    91  non-null values\n",
       "h17    90  non-null values\n",
       "h18    89  non-null values\n",
       "h19    89  non-null values\n",
       "h20    86  non-null values\n",
       "h21    85  non-null values\n",
       "h22    88  non-null values\n",
       "h23    79  non-null values\n",
       "dtypes: float64(24)"
      ]
     },
     "execution_count": 41,
     "metadata": {},
     "output_type": "execute_result"
    }
   ],
   "source": [
    "bnbh_df = by_neigh_by_hour.unstack()\n",
    "# Add 'h' to every column to make it clear that is the hour of the day\n",
    "bnbh_df = bnbh_df.rename(columns=lambda x: 'h'+str(x))\n",
    "bnbh_df"
   ]
  },
  {
   "cell_type": "markdown",
   "metadata": {},
   "source": [
    "## Plotting\n",
    "\n",
    "Another nice addition of `pandas` is that it leverages the power of `matplotlib` considerably lowering the access and difficulty. It includes a few canned graphics that are one-liners and very helpful when interacting with your data. Let's walk through the main four ones: bar and line plots, histograms and density plots."
   ]
  },
  {
   "cell_type": "markdown",
   "metadata": {},
   "source": [
    "To see the bar plots, let's explore the proportions of checkins by neighborhood:"
   ]
  },
  {
   "cell_type": "code",
   "execution_count": 42,
   "metadata": {
    "collapsed": false
   },
   "outputs": [
    {
     "data": {
      "text/plain": [
       "<matplotlib.axes.AxesSubplot at 0x51088d0>"
      ]
     },
     "execution_count": 42,
     "metadata": {},
     "output_type": "execute_result"
    },
    {
     "data": {
      "image/png": "[encoded data removed]"
     },
     "metadata": {},
     "output_type": "display_data"
    }
   ],
   "source": [
    "neigh.order(ascending=False).plot(kind='bar')\n",
    "# Note the notebook allows you to manually resize the figure if it is too small"
   ]
  },
  {
   "cell_type": "markdown",
   "metadata": {},
   "source": [
    "Another useful simple plot is using lines instead of bars. In this case, let's examine the evolution of checkins by hour of the day:"
   ]
  },
  {
   "cell_type": "code",
   "execution_count": 43,
   "metadata": {
    "collapsed": false
   },
   "outputs": [
    {
     "data": {
      "text/plain": [
       "<matplotlib.text.Text at 0x6fb6910>"
      ]
     },
     "execution_count": 43,
     "metadata": {},
     "output_type": "execute_result"
    },
    {
     "data": {
      "image/png": "[encoded data removed]"
     },
     "metadata": {},
     "output_type": "display_data"
    }
   ],
   "source": [
    "by_hour.plot()\n",
    "title('Checkins by hour of the day')"
   ]
  },
  {
   "cell_type": "markdown",
   "metadata": {},
   "source": [
    "We can also think of what the distribution of checkins is over the whole period. To that, we can pull the values of the each `Timestamp` and get a histogram:"
   ]
  },
  {
   "cell_type": "code",
   "execution_count": 44,
   "metadata": {
    "collapsed": false
   },
   "outputs": [
    {
     "data": {
      "text/plain": [
       "<matplotlib.axes.AxesSubplot at 0x5f1ae50>"
      ]
     },
     "execution_count": 44,
     "metadata": {},
     "output_type": "execute_result"
    },
    {
     "data": {
      "image/png": "[encoded data removed]"
     },
     "metadata": {},
     "output_type": "display_data"
    }
   ],
   "source": [
    "db['t'] = db.index\n",
    "deltas = db['t'].apply(lambda x: pd.Timestamp(x).value)\n",
    "deltas.hist(bins=50)"
   ]
  },
  {
   "cell_type": "markdown",
   "metadata": {},
   "source": [
    "Or a density kernel, which is a more elegant continious version of the histogram:"
   ]
  },
  {
   "cell_type": "code",
   "execution_count": 45,
   "metadata": {
    "collapsed": false
   },
   "outputs": [
    {
     "data": {
      "text/plain": [
       "<matplotlib.axes.AxesSubplot at 0x72b7350>"
      ]
     },
     "execution_count": 45,
     "metadata": {},
     "output_type": "execute_result"
    },
    {
     "data": {
      "image/png": "[encoded data removed]"
     },
     "metadata": {},
     "output_type": "display_data"
    }
   ],
   "source": [
    "(deltas * 1.).plot(kind='kde')"
   ]
  },
  {
   "cell_type": "markdown",
   "metadata": {},
   "source": [
    "Finally, a useful graph that is not included in `pandas` but is very simple from `matplotlib` is a scatter plot. In this case, let's plot the spatial distribution of the checkins:"
   ]
  },
  {
   "cell_type": "code",
   "execution_count": 46,
   "metadata": {
    "collapsed": false
   },
   "outputs": [
    {
     "data": {
      "text/plain": [
       "<matplotlib.collections.PathCollection at 0x82be890>"
      ]
     },
     "execution_count": 46,
     "metadata": {},
     "output_type": "execute_result"
    },
    {
     "data": {
      "image/png": "[encoded data removed]"
     },
     "metadata": {},
     "output_type": "display_data"
    }
   ],
   "source": [
    "scatter(db['lon'].values, db['lat'].values)"
   ]
  }
 ],
 "metadata": {
  "kernelspec": {
   "display_name": "Python 2",
   "language": "python",
   "name": "python2"
  },
  "language_info": {
   "codemirror_mode": {
    "name": "ipython",
    "version": 2
   },
   "file_extension": ".py",
   "mimetype": "text/x-python",
   "name": "python",
   "nbconvert_exporter": "python",
   "pygments_lexer": "ipython2",
   "version": "2.7.11"
  }
 },
 "nbformat": 4,
 "nbformat_minor": 0
}
